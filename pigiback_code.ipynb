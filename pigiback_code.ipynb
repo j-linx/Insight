{
 "cells": [
  {
   "cell_type": "code",
   "execution_count": 94,
   "metadata": {
    "collapsed": true
   },
   "outputs": [],
   "source": [
    "import os\n",
    "os.chdir(r\"/Users/Greer/Desktop/Lending Club - JL\")\n",
    "\n",
    "import numpy as np\n",
    "import pandas as pd\n",
    "import seaborn as sns"
   ]
  },
  {
   "cell_type": "markdown",
   "metadata": {
    "collapsed": true
   },
   "source": [
    "# Import user-input LC_Database"
   ]
  },
  {
   "cell_type": "code",
   "execution_count": 2,
   "metadata": {
    "collapsed": false
   },
   "outputs": [
    {
     "name": "stdout",
     "output_type": "stream",
     "text": [
      "['id', 'member_id', 'loan_amnt', 'funded_amnt', 'term', 'int_rate', 'exp_default_rate', 'service_fee_rate', 'installment', 'grade', 'sub_grade', 'emp_title', 'emp_length', 'home_ownership', 'annual_inc', 'is_inc_v', 'accept_d', 'exp_d', 'list_d', 'credit_pull_d', 'review_status_d', 'review_status', 'url', 'desc', 'purpose', 'title', 'zip_code', 'addr_state', 'msa', 'acc_now_delinq', 'acc_open_past_24mths', 'bc_open_to_buy', 'percent_bc_gt_75', 'bc_util', 'dti', 'delinq_2yrs', 'delinq_amnt', 'earliest_cr_line', 'fico_range_low', 'fico_range_high', 'inq_last_6mths', 'mths_since_last_delinq', 'mths_since_last_record', 'mths_since_recent_inq', 'mths_since_recent_revol_delinq', 'mths_since_recent_bc', 'mort_acc', 'open_acc', 'pub_rec', 'total_bal_ex_mort', 'revol_bal', 'revol_util', 'total_bc_limit', 'total_acc', 'total_il_high_credit_limit', 'num_rev_accts', 'mths_since_recent_bc_dlq', 'initial_list_status', 'ils_exp_d', 'pub_rec_bankruptcies', 'num_accts_ever_120_pd', 'chargeoff_within_12_mths', 'collections_12_mths_ex_med', 'tax_liens', 'mths_since_last_major_derog', 'num_sats', 'num_tl_op_past_12m', 'mo_sin_rcnt_tl', 'tot_hi_cred_lim', 'tot_cur_bal', 'avg_cur_bal', 'num_bc_tl', 'num_actv_bc_tl', 'num_bc_sats', 'pct_tl_nvr_dlq', 'num_tl_90g_dpd_24m', 'num_tl_30dpd', 'num_tl_120dpd_2m', 'num_il_tl', 'mo_sin_old_il_acct', 'num_actv_rev_tl', 'mo_sin_old_rev_tl_op', 'mo_sin_rcnt_rev_tl_op', 'total_rev_hi_lim', 'num_rev_tl_bal_gt_0', 'num_op_rev_tl', 'tot_coll_amt', 'effective_int_rate', 'application_type', 'annual_inc_joint', 'dti_joint', 'verified_status_joint', 'open_acc_6m', 'open_il_6m', 'open_il_12m', 'open_il_24m', 'mths_since_rcnt_il', 'total_bal_il', 'il_util', 'open_rv_12m', 'open_rv_24m', 'max_bal_bc', 'all_util', 'inq_fi', 'total_cu_tl', 'inq_last_12m', 'mtg_payment', 'housing_payment']\n"
     ]
    }
   ],
   "source": [
    "# import csv\n",
    "\n",
    "# ## Check the attributes list\n",
    "# with open(\"primaryMarketNotes-browseNotes_1-RETAIL.csv\", newline='') as f:\n",
    "#   reader = csv.reader(f)\n",
    "#   row1 = next(reader)\n",
    "    \n",
    "# print(row1)"
   ]
  },
  {
   "cell_type": "code",
   "execution_count": 95,
   "metadata": {
    "collapsed": false
   },
   "outputs": [
    {
     "data": {
      "text/html": [
       "<div>\n",
       "<table border=\"1\" class=\"dataframe\">\n",
       "  <thead>\n",
       "    <tr style=\"text-align: right;\">\n",
       "      <th></th>\n",
       "      <th>id</th>\n",
       "      <th>member_id</th>\n",
       "      <th>loan_amnt</th>\n",
       "      <th>funded_amnt</th>\n",
       "      <th>term</th>\n",
       "      <th>int_rate</th>\n",
       "      <th>exp_default_rate</th>\n",
       "      <th>service_fee_rate</th>\n",
       "      <th>installment</th>\n",
       "      <th>grade</th>\n",
       "      <th>...</th>\n",
       "      <th>il_util</th>\n",
       "      <th>open_rv_12m</th>\n",
       "      <th>open_rv_24m</th>\n",
       "      <th>max_bal_bc</th>\n",
       "      <th>all_util</th>\n",
       "      <th>inq_fi</th>\n",
       "      <th>total_cu_tl</th>\n",
       "      <th>inq_last_12m</th>\n",
       "      <th>mtg_payment</th>\n",
       "      <th>housing_payment</th>\n",
       "    </tr>\n",
       "  </thead>\n",
       "  <tbody>\n",
       "    <tr>\n",
       "      <th>0</th>\n",
       "      <td>96922784</td>\n",
       "      <td>104110221</td>\n",
       "      <td>29400.0</td>\n",
       "      <td>28425.0</td>\n",
       "      <td>60</td>\n",
       "      <td>30.74</td>\n",
       "      <td>16.76</td>\n",
       "      <td>0.71</td>\n",
       "      <td>964.60</td>\n",
       "      <td>F</td>\n",
       "      <td>...</td>\n",
       "      <td>95.8</td>\n",
       "      <td>2</td>\n",
       "      <td>2</td>\n",
       "      <td>3573.0</td>\n",
       "      <td>85.7</td>\n",
       "      <td>0</td>\n",
       "      <td>1</td>\n",
       "      <td>1</td>\n",
       "      <td>0.0</td>\n",
       "      <td>815</td>\n",
       "    </tr>\n",
       "    <tr>\n",
       "      <th>1</th>\n",
       "      <td>96382896</td>\n",
       "      <td>103494620</td>\n",
       "      <td>20000.0</td>\n",
       "      <td>6000.0</td>\n",
       "      <td>36</td>\n",
       "      <td>21.49</td>\n",
       "      <td>13.07</td>\n",
       "      <td>1.10</td>\n",
       "      <td>758.55</td>\n",
       "      <td>D</td>\n",
       "      <td>...</td>\n",
       "      <td>96.2</td>\n",
       "      <td>1</td>\n",
       "      <td>1</td>\n",
       "      <td>3812.0</td>\n",
       "      <td>78.2</td>\n",
       "      <td>1</td>\n",
       "      <td>1</td>\n",
       "      <td>2</td>\n",
       "      <td>0.0</td>\n",
       "      <td>0</td>\n",
       "    </tr>\n",
       "    <tr>\n",
       "      <th>2</th>\n",
       "      <td>96593014</td>\n",
       "      <td>103738728</td>\n",
       "      <td>10000.0</td>\n",
       "      <td>3275.0</td>\n",
       "      <td>36</td>\n",
       "      <td>11.49</td>\n",
       "      <td>4.59</td>\n",
       "      <td>0.85</td>\n",
       "      <td>329.72</td>\n",
       "      <td>B</td>\n",
       "      <td>...</td>\n",
       "      <td>61.7</td>\n",
       "      <td>0</td>\n",
       "      <td>3</td>\n",
       "      <td>6108.0</td>\n",
       "      <td>67.6</td>\n",
       "      <td>2</td>\n",
       "      <td>0</td>\n",
       "      <td>1</td>\n",
       "      <td>1776.0</td>\n",
       "      <td>0</td>\n",
       "    </tr>\n",
       "    <tr>\n",
       "      <th>3</th>\n",
       "      <td>96244593</td>\n",
       "      <td>103356335</td>\n",
       "      <td>15825.0</td>\n",
       "      <td>14100.0</td>\n",
       "      <td>60</td>\n",
       "      <td>30.74</td>\n",
       "      <td>16.76</td>\n",
       "      <td>0.71</td>\n",
       "      <td>519.21</td>\n",
       "      <td>F</td>\n",
       "      <td>...</td>\n",
       "      <td>133.4</td>\n",
       "      <td>0</td>\n",
       "      <td>1</td>\n",
       "      <td>671.0</td>\n",
       "      <td>43.6</td>\n",
       "      <td>1</td>\n",
       "      <td>0</td>\n",
       "      <td>1</td>\n",
       "      <td>0.0</td>\n",
       "      <td>600</td>\n",
       "    </tr>\n",
       "    <tr>\n",
       "      <th>4</th>\n",
       "      <td>96470080</td>\n",
       "      <td>103587811</td>\n",
       "      <td>5325.0</td>\n",
       "      <td>2050.0</td>\n",
       "      <td>36</td>\n",
       "      <td>17.99</td>\n",
       "      <td>9.49</td>\n",
       "      <td>1.10</td>\n",
       "      <td>192.49</td>\n",
       "      <td>D</td>\n",
       "      <td>...</td>\n",
       "      <td>85.8</td>\n",
       "      <td>5</td>\n",
       "      <td>9</td>\n",
       "      <td>498.0</td>\n",
       "      <td>83.6</td>\n",
       "      <td>7</td>\n",
       "      <td>3</td>\n",
       "      <td>4</td>\n",
       "      <td>0.0</td>\n",
       "      <td>515</td>\n",
       "    </tr>\n",
       "  </tbody>\n",
       "</table>\n",
       "<p>5 rows × 108 columns</p>\n",
       "</div>"
      ],
      "text/plain": [
       "         id  member_id  loan_amnt  funded_amnt  term  int_rate  \\\n",
       "0  96922784  104110221    29400.0      28425.0    60     30.74   \n",
       "1  96382896  103494620    20000.0       6000.0    36     21.49   \n",
       "2  96593014  103738728    10000.0       3275.0    36     11.49   \n",
       "3  96244593  103356335    15825.0      14100.0    60     30.74   \n",
       "4  96470080  103587811     5325.0       2050.0    36     17.99   \n",
       "\n",
       "   exp_default_rate  service_fee_rate  installment grade       ...        \\\n",
       "0             16.76              0.71       964.60     F       ...         \n",
       "1             13.07              1.10       758.55     D       ...         \n",
       "2              4.59              0.85       329.72     B       ...         \n",
       "3             16.76              0.71       519.21     F       ...         \n",
       "4              9.49              1.10       192.49     D       ...         \n",
       "\n",
       "  il_util open_rv_12m open_rv_24m max_bal_bc  all_util inq_fi total_cu_tl  \\\n",
       "0    95.8           2           2     3573.0      85.7      0           1   \n",
       "1    96.2           1           1     3812.0      78.2      1           1   \n",
       "2    61.7           0           3     6108.0      67.6      2           0   \n",
       "3   133.4           0           1      671.0      43.6      1           0   \n",
       "4    85.8           5           9      498.0      83.6      7           3   \n",
       "\n",
       "  inq_last_12m mtg_payment housing_payment  \n",
       "0            1         0.0             815  \n",
       "1            2         0.0               0  \n",
       "2            1      1776.0               0  \n",
       "3            1         0.0             600  \n",
       "4            4         0.0             515  \n",
       "\n",
       "[5 rows x 108 columns]"
      ]
     },
     "execution_count": 95,
     "metadata": {},
     "output_type": "execute_result"
    }
   ],
   "source": [
    "df1 = pd.read_csv(\"primaryMarketNotes-browseNotes_1-RETAIL.csv\", low_memory=False)\n",
    "df1.head()"
   ]
  },
  {
   "cell_type": "code",
   "execution_count": 11,
   "metadata": {
    "collapsed": false
   },
   "outputs": [
    {
     "data": {
      "text/plain": [
       "521"
      ]
     },
     "execution_count": 11,
     "metadata": {},
     "output_type": "execute_result"
    }
   ],
   "source": [
    "len(df1)"
   ]
  },
  {
   "cell_type": "code",
   "execution_count": 71,
   "metadata": {
    "collapsed": false
   },
   "outputs": [],
   "source": [
    "df1.reset_index;"
   ]
  },
  {
   "cell_type": "code",
   "execution_count": 91,
   "metadata": {
    "collapsed": false
   },
   "outputs": [
    {
     "data": {
      "text/html": [
       "<div>\n",
       "<table border=\"1\" class=\"dataframe\">\n",
       "  <thead>\n",
       "    <tr style=\"text-align: right;\">\n",
       "      <th></th>\n",
       "      <th>loan_amnt</th>\n",
       "      <th>int_rate</th>\n",
       "      <th>term</th>\n",
       "      <th>emp_length</th>\n",
       "      <th>annual_inc</th>\n",
       "      <th>dti</th>\n",
       "      <th>open_acc</th>\n",
       "      <th>revol_bal</th>\n",
       "      <th>revol_util</th>\n",
       "      <th>inq_last_6mths</th>\n",
       "      <th>acc_now_delinq</th>\n",
       "      <th>delinq_amnt</th>\n",
       "      <th>delinq_2yrs</th>\n",
       "    </tr>\n",
       "  </thead>\n",
       "  <tbody>\n",
       "    <tr>\n",
       "      <th>3</th>\n",
       "      <td>15825.0</td>\n",
       "      <td>30.74</td>\n",
       "      <td>60</td>\n",
       "      <td>0</td>\n",
       "      <td>36000.0</td>\n",
       "      <td>10.73</td>\n",
       "      <td>10</td>\n",
       "      <td>1574.0</td>\n",
       "      <td>4.6</td>\n",
       "      <td>0</td>\n",
       "      <td>0</td>\n",
       "      <td>0.0</td>\n",
       "      <td>1</td>\n",
       "    </tr>\n",
       "  </tbody>\n",
       "</table>\n",
       "</div>"
      ],
      "text/plain": [
       "   loan_amnt  int_rate  term  emp_length  annual_inc    dti  open_acc  \\\n",
       "3    15825.0     30.74    60           0     36000.0  10.73        10   \n",
       "\n",
       "   revol_bal  revol_util  inq_last_6mths  acc_now_delinq  delinq_amnt  \\\n",
       "3     1574.0         4.6               0               0          0.0   \n",
       "\n",
       "   delinq_2yrs  \n",
       "3            1  "
      ]
     },
     "execution_count": 91,
     "metadata": {},
     "output_type": "execute_result"
    }
   ],
   "source": [
    "df.iloc[:4,:13]"
   ]
  },
  {
   "cell_type": "code",
   "execution_count": 92,
   "metadata": {
    "collapsed": false
   },
   "outputs": [
    {
     "data": {
      "text/html": [
       "<div>\n",
       "<table border=\"1\" class=\"dataframe\">\n",
       "  <thead>\n",
       "    <tr style=\"text-align: right;\">\n",
       "      <th></th>\n",
       "      <th>mths_since_last_delinq</th>\n",
       "      <th>pub_rec</th>\n",
       "      <th>mths_since_last_major_derog</th>\n",
       "      <th>collections_12_mths_ex_med</th>\n",
       "      <th>state</th>\n",
       "      <th>HomeOwnCat</th>\n",
       "      <th>Purpose</th>\n",
       "    </tr>\n",
       "  </thead>\n",
       "  <tbody>\n",
       "    <tr>\n",
       "      <th>3</th>\n",
       "      <td>14</td>\n",
       "      <td>0</td>\n",
       "      <td>14</td>\n",
       "      <td>0</td>\n",
       "      <td>0</td>\n",
       "      <td>0</td>\n",
       "      <td>0</td>\n",
       "    </tr>\n",
       "  </tbody>\n",
       "</table>\n",
       "</div>"
      ],
      "text/plain": [
       "   mths_since_last_delinq  pub_rec  mths_since_last_major_derog  \\\n",
       "3                      14        0                           14   \n",
       "\n",
       "   collections_12_mths_ex_med  state  HomeOwnCat  Purpose  \n",
       "3                           0      0           0        0  "
      ]
     },
     "execution_count": 92,
     "metadata": {},
     "output_type": "execute_result"
    }
   ],
   "source": [
    "df.iloc[:4,13:20]"
   ]
  },
  {
   "cell_type": "code",
   "execution_count": 93,
   "metadata": {
    "collapsed": false
   },
   "outputs": [
    {
     "data": {
      "text/html": [
       "<div>\n",
       "<table border=\"1\" class=\"dataframe\">\n",
       "  <thead>\n",
       "    <tr style=\"text-align: right;\">\n",
       "      <th></th>\n",
       "      <th>EarliestCreditMonths</th>\n",
       "    </tr>\n",
       "  </thead>\n",
       "  <tbody>\n",
       "    <tr>\n",
       "      <th>3</th>\n",
       "      <td>338</td>\n",
       "    </tr>\n",
       "  </tbody>\n",
       "</table>\n",
       "</div>"
      ],
      "text/plain": [
       "   EarliestCreditMonths\n",
       "3                   338"
      ]
     },
     "execution_count": 93,
     "metadata": {},
     "output_type": "execute_result"
    }
   ],
   "source": [
    "df.iloc[:4,20:30]"
   ]
  },
  {
   "cell_type": "code",
   "execution_count": 81,
   "metadata": {
    "collapsed": true
   },
   "outputs": [],
   "source": [
    "temp = df1[['id','loan_amnt', 'int_rate', 'term', 'emp_length', 'annual_inc', 'dti',\n",
    "       'open_acc', 'revol_bal', 'revol_util', 'inq_last_6mths',\n",
    "       'acc_now_delinq', 'delinq_amnt', 'delinq_2yrs',\n",
    "       'mths_since_last_delinq', 'pub_rec', 'mths_since_last_major_derog',\n",
    "       'collections_12_mths_ex_med', 'addr_state', 'home_ownership', 'purpose',\n",
    "       'earliest_cr_line']]"
   ]
  },
  {
   "cell_type": "markdown",
   "metadata": {},
   "source": [
    "### Extract relevant X_test row from input data, using Loan_ID"
   ]
  },
  {
   "cell_type": "code",
   "execution_count": 84,
   "metadata": {
    "collapsed": false
   },
   "outputs": [],
   "source": [
    "# Take out relevant row from data\n",
    "df = temp.loc[temp['id'] == input_ID]"
   ]
  },
  {
   "cell_type": "markdown",
   "metadata": {},
   "source": [
    "### Drop loan_id"
   ]
  },
  {
   "cell_type": "code",
   "execution_count": 85,
   "metadata": {
    "collapsed": false
   },
   "outputs": [
    {
     "name": "stderr",
     "output_type": "stream",
     "text": [
      "/Users/Greer/anaconda3/lib/python3.5/site-packages/ipykernel/__main__.py:1: SettingWithCopyWarning: \n",
      "A value is trying to be set on a copy of a slice from a DataFrame\n",
      "\n",
      "See the caveats in the documentation: http://pandas.pydata.org/pandas-docs/stable/indexing.html#indexing-view-versus-copy\n",
      "  if __name__ == '__main__':\n"
     ]
    }
   ],
   "source": [
    "df.drop('id', axis=1, inplace=True)"
   ]
  },
  {
   "cell_type": "markdown",
   "metadata": {},
   "source": [
    "## Ensure all data is in float form"
   ]
  },
  {
   "cell_type": "code",
   "execution_count": 86,
   "metadata": {
    "collapsed": false
   },
   "outputs": [
    {
     "data": {
      "text/plain": [
       "loan_amnt                      float64\n",
       "int_rate                       float64\n",
       "term                             int64\n",
       "emp_length                      object\n",
       "annual_inc                     float64\n",
       "dti                            float64\n",
       "open_acc                         int64\n",
       "revol_bal                      float64\n",
       "revol_util                      object\n",
       "inq_last_6mths                   int64\n",
       "acc_now_delinq                   int64\n",
       "delinq_amnt                    float64\n",
       "delinq_2yrs                      int64\n",
       "mths_since_last_delinq          object\n",
       "pub_rec                          int64\n",
       "mths_since_last_major_derog     object\n",
       "collections_12_mths_ex_med       int64\n",
       "addr_state                      object\n",
       "home_ownership                  object\n",
       "purpose                         object\n",
       "earliest_cr_line                object\n",
       "dtype: object"
      ]
     },
     "execution_count": 86,
     "metadata": {},
     "output_type": "execute_result"
    }
   ],
   "source": [
    "df.dtypes"
   ]
  },
  {
   "cell_type": "markdown",
   "metadata": {},
   "source": [
    "# Convert all non-numeric vars"
   ]
  },
  {
   "cell_type": "markdown",
   "metadata": {},
   "source": [
    "### Employment Length"
   ]
  },
  {
   "cell_type": "code",
   "execution_count": 87,
   "metadata": {
    "collapsed": false
   },
   "outputs": [
    {
     "name": "stderr",
     "output_type": "stream",
     "text": [
      "/Users/Greer/anaconda3/lib/python3.5/site-packages/ipykernel/__main__.py:1: SettingWithCopyWarning: \n",
      "A value is trying to be set on a copy of a slice from a DataFrame\n",
      "\n",
      "See the caveats in the documentation: http://pandas.pydata.org/pandas-docs/stable/indexing.html#indexing-view-versus-copy\n",
      "  if __name__ == '__main__':\n",
      "/Users/Greer/anaconda3/lib/python3.5/site-packages/pandas/core/generic.py:3191: SettingWithCopyWarning: \n",
      "A value is trying to be set on a copy of a slice from a DataFrame\n",
      "\n",
      "See the caveats in the documentation: http://pandas.pydata.org/pandas-docs/stable/indexing.html#indexing-view-versus-copy\n",
      "  self._update_inplace(new_data)\n",
      "/Users/Greer/anaconda3/lib/python3.5/site-packages/pandas/core/generic.py:3443: SettingWithCopyWarning: \n",
      "A value is trying to be set on a copy of a slice from a DataFrame\n",
      "\n",
      "See the caveats in the documentation: http://pandas.pydata.org/pandas-docs/stable/indexing.html#indexing-view-versus-copy\n",
      "  self._update_inplace(new_data)\n",
      "/Users/Greer/anaconda3/lib/python3.5/site-packages/ipykernel/__main__.py:4: SettingWithCopyWarning: \n",
      "A value is trying to be set on a copy of a slice from a DataFrame.\n",
      "Try using .loc[row_indexer,col_indexer] = value instead\n",
      "\n",
      "See the caveats in the documentation: http://pandas.pydata.org/pandas-docs/stable/indexing.html#indexing-view-versus-copy\n"
     ]
    },
    {
     "data": {
      "text/plain": [
       "0    1\n",
       "Name: emp_length, dtype: int64"
      ]
     },
     "execution_count": 87,
     "metadata": {},
     "output_type": "execute_result"
    }
   ],
   "source": [
    "df.replace('n/a', np.nan,inplace=True)\n",
    "df.emp_length.fillna(value=0,inplace=True)\n",
    "df['emp_length'].replace(to_replace='[^0-9]+', value='', inplace=True, regex=True)\n",
    "df['emp_length'] = df['emp_length'].astype(int)\n",
    "df['emp_length'].value_counts()"
   ]
  },
  {
   "cell_type": "markdown",
   "metadata": {},
   "source": [
    "### Convert object vars to numeric"
   ]
  },
  {
   "cell_type": "code",
   "execution_count": 88,
   "metadata": {
    "collapsed": false
   },
   "outputs": [
    {
     "name": "stderr",
     "output_type": "stream",
     "text": [
      "/Users/Greer/anaconda3/lib/python3.5/site-packages/ipykernel/__main__.py:2: SettingWithCopyWarning: \n",
      "A value is trying to be set on a copy of a slice from a DataFrame.\n",
      "Try using .loc[row_indexer,col_indexer] = value instead\n",
      "\n",
      "See the caveats in the documentation: http://pandas.pydata.org/pandas-docs/stable/indexing.html#indexing-view-versus-copy\n",
      "  from ipykernel import kernelapp as app\n",
      "/Users/Greer/anaconda3/lib/python3.5/site-packages/ipykernel/__main__.py:5: FutureWarning: convert_objects is deprecated.  Use the data-type specific converters pd.to_datetime, pd.to_timedelta and pd.to_numeric.\n",
      "/Users/Greer/anaconda3/lib/python3.5/site-packages/ipykernel/__main__.py:5: SettingWithCopyWarning: \n",
      "A value is trying to be set on a copy of a slice from a DataFrame.\n",
      "Try using .loc[row_indexer,col_indexer] = value instead\n",
      "\n",
      "See the caveats in the documentation: http://pandas.pydata.org/pandas-docs/stable/indexing.html#indexing-view-versus-copy\n",
      "/Users/Greer/anaconda3/lib/python3.5/site-packages/ipykernel/__main__.py:8: SettingWithCopyWarning: \n",
      "A value is trying to be set on a copy of a slice from a DataFrame.\n",
      "Try using .loc[row_indexer,col_indexer] = value instead\n",
      "\n",
      "See the caveats in the documentation: http://pandas.pydata.org/pandas-docs/stable/indexing.html#indexing-view-versus-copy\n"
     ]
    }
   ],
   "source": [
    "## Revolving utilization\n",
    "df['revol_util'] = df['revol_util'].apply(pd.to_numeric, args=('coerce',))\n",
    "\n",
    "## Mths_since_last_delinq\n",
    "df['mths_since_last_delinq'] = df['mths_since_last_delinq'].convert_objects(convert_numeric=True)\n",
    "\n",
    "# mths_since_last_major_derog\n",
    "df['mths_since_last_major_derog'] = df['mths_since_last_major_derog'].apply(pd.to_numeric, args=('coerce',))"
   ]
  },
  {
   "cell_type": "markdown",
   "metadata": {},
   "source": [
    "### Convert some vars to categorical"
   ]
  },
  {
   "cell_type": "code",
   "execution_count": 89,
   "metadata": {
    "collapsed": false,
    "scrolled": true
   },
   "outputs": [
    {
     "name": "stderr",
     "output_type": "stream",
     "text": [
      "/Users/Greer/anaconda3/lib/python3.5/site-packages/ipykernel/__main__.py:2: SettingWithCopyWarning: \n",
      "A value is trying to be set on a copy of a slice from a DataFrame.\n",
      "Try using .loc[row_indexer,col_indexer] = value instead\n",
      "\n",
      "See the caveats in the documentation: http://pandas.pydata.org/pandas-docs/stable/indexing.html#indexing-view-versus-copy\n",
      "  from ipykernel import kernelapp as app\n",
      "/Users/Greer/anaconda3/lib/python3.5/site-packages/ipykernel/__main__.py:4: SettingWithCopyWarning: \n",
      "A value is trying to be set on a copy of a slice from a DataFrame.\n",
      "Try using .loc[row_indexer,col_indexer] = value instead\n",
      "\n",
      "See the caveats in the documentation: http://pandas.pydata.org/pandas-docs/stable/indexing.html#indexing-view-versus-copy\n",
      "/Users/Greer/anaconda3/lib/python3.5/site-packages/ipykernel/__main__.py:6: SettingWithCopyWarning: \n",
      "A value is trying to be set on a copy of a slice from a DataFrame.\n",
      "Try using .loc[row_indexer,col_indexer] = value instead\n",
      "\n",
      "See the caveats in the documentation: http://pandas.pydata.org/pandas-docs/stable/indexing.html#indexing-view-versus-copy\n",
      "/Users/Greer/anaconda3/lib/python3.5/site-packages/ipykernel/__main__.py:8: SettingWithCopyWarning: \n",
      "A value is trying to be set on a copy of a slice from a DataFrame\n",
      "\n",
      "See the caveats in the documentation: http://pandas.pydata.org/pandas-docs/stable/indexing.html#indexing-view-versus-copy\n"
     ]
    }
   ],
   "source": [
    "# state\n",
    "df['state'] = pd.Categorical.from_array(df.addr_state).codes\n",
    "# homeownership\n",
    "df['HomeOwnCat'] = pd.Categorical.from_array(df.home_ownership).codes\n",
    "# purpose\n",
    "df['Purpose'] = pd.Categorical.from_array(df.purpose).codes\n",
    "\n",
    "df.drop(['addr_state','home_ownership','purpose'], axis=1, inplace=True)"
   ]
  },
  {
   "cell_type": "markdown",
   "metadata": {},
   "source": [
    "### Convert earliest credit to # months"
   ]
  },
  {
   "cell_type": "code",
   "execution_count": 90,
   "metadata": {
    "collapsed": false
   },
   "outputs": [
    {
     "name": "stderr",
     "output_type": "stream",
     "text": [
      "/Users/Greer/anaconda3/lib/python3.5/site-packages/ipykernel/__main__.py:5: SettingWithCopyWarning: \n",
      "A value is trying to be set on a copy of a slice from a DataFrame.\n",
      "Try using .loc[row_indexer,col_indexer] = value instead\n",
      "\n",
      "See the caveats in the documentation: http://pandas.pydata.org/pandas-docs/stable/indexing.html#indexing-view-versus-copy\n",
      "/Users/Greer/anaconda3/lib/python3.5/site-packages/ipykernel/__main__.py:19: SettingWithCopyWarning: \n",
      "A value is trying to be set on a copy of a slice from a DataFrame.\n",
      "Try using .loc[row_indexer,col_indexer] = value instead\n",
      "\n",
      "See the caveats in the documentation: http://pandas.pydata.org/pandas-docs/stable/indexing.html#indexing-view-versus-copy\n",
      "/Users/Greer/anaconda3/lib/python3.5/site-packages/ipykernel/__main__.py:20: SettingWithCopyWarning: \n",
      "A value is trying to be set on a copy of a slice from a DataFrame\n",
      "\n",
      "See the caveats in the documentation: http://pandas.pydata.org/pandas-docs/stable/indexing.html#indexing-view-versus-copy\n"
     ]
    }
   ],
   "source": [
    "# Format ex: 12-18-2003 16:00:00\n",
    "\n",
    "from datetime import datetime\n",
    "\n",
    "df['earliest_cr_line'] =  pd.to_datetime(df['earliest_cr_line'], format='%m-%d-%Y %H:%M:%S')\n",
    "\n",
    "def diff_month(d1, d2):\n",
    "    return (d1.year - d2.year)*12 + d1.month - d2.month\n",
    "\n",
    "n = len(df)\n",
    "d2 = pd.datetime.now()\n",
    "CreditMonths = []\n",
    "\n",
    "for i in range(0,n):\n",
    "    d1 = df['earliest_cr_line'].iloc[i]\n",
    "    diff = diff_month(d2,d1)\n",
    "    CreditMonths.append(diff)\n",
    "    \n",
    "df['EarliestCreditMonths'] = pd.Series(CreditMonths, index=df.index)\n",
    "df.drop('earliest_cr_line', axis=1, inplace=True)"
   ]
  },
  {
   "cell_type": "code",
   "execution_count": 96,
   "metadata": {
    "collapsed": false
   },
   "outputs": [
    {
     "data": {
      "text/plain": [
       "array(['loan_amnt', 'int_rate', 'term', 'emp_length', 'annual_inc', 'dti',\n",
       "       'open_acc', 'revol_bal', 'revol_util', 'inq_last_6mths',\n",
       "       'acc_now_delinq', 'delinq_amnt', 'delinq_2yrs',\n",
       "       'mths_since_last_delinq', 'pub_rec', 'mths_since_last_major_derog',\n",
       "       'collections_12_mths_ex_med', 'state', 'HomeOwnCat', 'Purpose',\n",
       "       'EarliestCreditMonths'], dtype=object)"
      ]
     },
     "execution_count": 96,
     "metadata": {},
     "output_type": "execute_result"
    }
   ],
   "source": [
    "# feats = df.columns.values\n",
    "# feats"
   ]
  },
  {
   "cell_type": "markdown",
   "metadata": {},
   "source": [
    "# Predict using RFC model previously calibrated"
   ]
  },
  {
   "cell_type": "code",
   "execution_count": 97,
   "metadata": {
    "collapsed": true
   },
   "outputs": [],
   "source": [
    "X_test = df"
   ]
  },
  {
   "cell_type": "code",
   "execution_count": 103,
   "metadata": {
    "collapsed": false
   },
   "outputs": [],
   "source": [
    "######### OPEN SAVED RF MODEL WITH PICKLE (Only needed if kernel died) #########\n",
    "import pickle\n",
    "import _pickle\n",
    "\n",
    "with open('RandomForest_LCdb.cpickle', 'rb') as f:\n",
    "    rf = pickle.load(f)\n",
    "\n",
    "pred = rf.predict(X_test)\n",
    "prob = rf.predict_proba(X_test)"
   ]
  },
  {
   "cell_type": "code",
   "execution_count": 105,
   "metadata": {
    "collapsed": false
   },
   "outputs": [
    {
     "data": {
      "text/plain": [
       "array([[ 0.91,  0.09]])"
      ]
     },
     "execution_count": 105,
     "metadata": {},
     "output_type": "execute_result"
    }
   ],
   "source": [
    "###### Quick check of results\n",
    "pred[0:1]\n",
    "prob[0]\n",
    "# Note: for prob, the second column is for default"
   ]
  },
  {
   "cell_type": "code",
   "execution_count": 109,
   "metadata": {
    "collapsed": false
   },
   "outputs": [
    {
     "data": {
      "text/plain": [
       "0.91000000000000003"
      ]
     },
     "execution_count": 109,
     "metadata": {},
     "output_type": "execute_result"
    }
   ],
   "source": [
    "output = prob[0]\n",
    "output[0]"
   ]
  },
  {
   "cell_type": "markdown",
   "metadata": {},
   "source": [
    "# Random Forest Classification"
   ]
  },
  {
   "cell_type": "code",
   "execution_count": 26,
   "metadata": {
    "collapsed": false
   },
   "outputs": [],
   "source": [
    "###### RANDOM FOREST - Categorical DV ######\n",
    "\n",
    "## GridSearch first for best parameters of RFC\n",
    "from sklearn import preprocessing\n",
    "from sklearn.cross_validation import train_test_split\n",
    "from sklearn.grid_search import GridSearchCV\n",
    "from sklearn.datasets import make_classification\n",
    "from sklearn.ensemble import RandomForestClassifier  # takes in categorical DV\n",
    "from sklearn.ensemble import RandomForestRegressor   # continuous DV\n",
    "\n",
    "# X = Explanatory\n",
    "X = df[['loan_amnt', 'int_rate', 'term', 'emp_length', 'annual_inc', 'dti',\n",
    "       'open_acc', 'revol_bal', 'revol_util', 'inq_last_6mths',\n",
    "       'acc_now_delinq', 'delinq_amnt', 'delinq_2yrs',\n",
    "       'mths_since_last_delinq', 'pub_rec', 'mths_since_last_major_derog',\n",
    "       'collections_12_mths_ex_med', 'state', 'HomeOwnCat', 'Purpose',\n",
    "       'EarliestCreditMonths']]\n",
    "# X = df[feats]\n",
    "# y = Target\n",
    "y = df['Default']\n",
    "\n",
    "X_train, X_test, y_train, y_test = train_test_split(X, y, test_size=0.2, random_state=42)\n",
    "# The classes are either '1' or '0' where the ratio of class '0':'1' is 7.72:1\n",
    "weight0 = 1\n",
    "weight1 = 9\n",
    "cl_weight = {0:weight0, 1:weight1}\n",
    "# Sample weights you want the model to train on: default is 1, equal weights\n",
    "\n",
    "# Build a classification task using 10 informative features\n",
    "X, y = make_classification(n_samples=5000,\n",
    "                           n_features=21,\n",
    "                           n_informative=21,\n",
    "                           n_redundant=0,\n",
    "                           n_repeated=0,\n",
    "                           n_classes=2,\n",
    "                           random_state=0,\n",
    "                           shuffle=False)\n",
    "\n",
    "####\n",
    "# cl_weight = {0:weight1, 1:weight2}\n",
    "# clf = RandomForestClassifier(n_estimators=400, max_depth=None, min_samples_split=2, random_state=0, oob_score=True, class_weight = cl_weight, criterion=âgini\")\n",
    "# sample_weight = np.array([weight if m == 1 else 1 for m in df_tr[label_column]])\n",
    "# y_pred = clf.fit(X_tr, y_tr,sample_weight= sample_weight).predict(X_te)\n",
    "####\n",
    "                             \n",
    "# rfc = RandomForestClassifier(n_jobs=-1,max_features= 'sqrt' ,n_estimators=20, oob_score = True, class_weight = cl_weight) \n",
    "rfc = RandomForestClassifier(n_jobs=-1,n_estimators=100, class_weight=\"balanced\") \n",
    "\n",
    "rfc.fit(X_train, y_train)\n",
    "results_train = rfc.predict(X_train)\n",
    "results = rfc.predict(X_test)\n",
    "prob = rfc.predict_proba(X_test)"
   ]
  }
 ],
 "metadata": {
  "anaconda-cloud": {},
  "kernelspec": {
   "display_name": "Python [default]",
   "language": "python",
   "name": "python3"
  },
  "language_info": {
   "codemirror_mode": {
    "name": "ipython",
    "version": 3
   },
   "file_extension": ".py",
   "mimetype": "text/x-python",
   "name": "python",
   "nbconvert_exporter": "python",
   "pygments_lexer": "ipython3",
   "version": "3.5.2"
  }
 },
 "nbformat": 4,
 "nbformat_minor": 1
}
