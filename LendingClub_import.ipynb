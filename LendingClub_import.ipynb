{
 "cells": [
  {
   "cell_type": "code",
   "execution_count": null,
   "metadata": {
    "collapsed": true
   },
   "outputs": [],
   "source": [
    "import os\n",
    "os.chdir(r\"/Users/Greer/Desktop/Lending Club - JL\")"
   ]
  },
  {
   "cell_type": "code",
   "execution_count": null,
   "metadata": {
    "collapsed": true
   },
   "outputs": [],
   "source": [
    "##### IMPORT ONE CSV\n",
    "import numpy as np\n",
    "import pandas as pd\n",
    "import seaborn as sns"
   ]
  },
  {
   "cell_type": "code",
   "execution_count": null,
   "metadata": {
    "collapsed": true
   },
   "outputs": [],
   "source": [
    "df1 = pd.read_csv(\"LoanStats3a.csv\",skiprows=1, low_memory=False)\n",
    "df1.info()\n",
    "len(df1)\n",
    "# 3a: 42538 observations, 111 columns/attributes\n",
    "\n",
    "df2 = pd.read_csv(\"LoanStats3b.csv\",skiprows=1, low_memory=False)\n",
    "df2.head()\n",
    "len(df2)\n",
    "# 3b: 188183 observations, 111 columns/attributes\n",
    "\n",
    "df3 = pd.read_csv(\"LoanStats3c.csv\",skiprows=1, low_memory=False)\n",
    "df3.head()\n",
    "len(df3)\n",
    "# 3c: 235631 observations, 111 columns/attributes\n",
    "\n",
    "df4 = pd.read_csv(\"LoanStats3d.csv\",skiprows=1, low_memory=False)\n",
    "df4.head()\n",
    "len(df4)\n",
    "# 3d: 421097 observations, 111 columns/attributes\n",
    "\n",
    "df5 = pd.read_csv(\"LoanStats_2016Q1.csv\",skiprows=1, low_memory=False)\n",
    "df5.head()\n",
    "len(df5)\n",
    "# 2016Q1: 133889 observations, 111 columns/attributes\n",
    "\n",
    "df6 = pd.read_csv(\"LoanStats_2016Q2.csv\",skiprows=1, low_memory=False)\n",
    "df6.head()\n",
    "len(df6)\n",
    "# 2016Q2: 97856 observations, 111 columns/attributes\n",
    "\n",
    "df7 = pd.read_csv(\"LoanStats_2016Q3.csv\",skiprows=1, low_memory=False)\n",
    "df7.head()\n",
    "len(df7)\n",
    "# 2016Q3: 99122 observations, 111 columns/attributes"
   ]
  },
  {
   "cell_type": "code",
   "execution_count": null,
   "metadata": {
    "collapsed": true
   },
   "outputs": [],
   "source": [
    "df = df1.append([df2, df3, df4, df5, df6, df7])\n",
    "\n",
    "len(df)\n",
    "\n",
    "### Write combined dataframe to CSV\n",
    "df.to_csv('LendingClub-AllLoans.csv')"
   ]
  }
 ],
 "metadata": {
  "anaconda-cloud": {},
  "kernelspec": {
   "display_name": "Python [default]",
   "language": "python",
   "name": "python3"
  },
  "language_info": {
   "codemirror_mode": {
    "name": "ipython",
    "version": 3
   },
   "file_extension": ".py",
   "mimetype": "text/x-python",
   "name": "python",
   "nbconvert_exporter": "python",
   "pygments_lexer": "ipython3",
   "version": "3.5.2"
  }
 },
 "nbformat": 4,
 "nbformat_minor": 1
}
