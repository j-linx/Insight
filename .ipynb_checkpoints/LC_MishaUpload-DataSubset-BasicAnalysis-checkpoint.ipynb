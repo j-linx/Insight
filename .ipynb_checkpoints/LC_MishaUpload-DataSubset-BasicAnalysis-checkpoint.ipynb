{
 "cells": [
  {
   "cell_type": "code",
   "execution_count": 1,
   "metadata": {
    "collapsed": true
   },
   "outputs": [],
   "source": [
    "import os\n",
    "os.chdir(r\"/Users/Greer/Desktop/Lending Club - From Misha/Payments\")\n",
    "\n",
    "import numpy as np\n",
    "import pandas as pd\n",
    "import seaborn as sns"
   ]
  },
  {
   "cell_type": "markdown",
   "metadata": {
    "collapsed": true
   },
   "source": [
    "# Import PMTHIST_all_20160715"
   ]
  },
  {
   "cell_type": "code",
   "execution_count": 2,
   "metadata": {
    "collapsed": false
   },
   "outputs": [
    {
     "name": "stdout",
     "output_type": "stream",
     "text": [
      "['LOAN_ID', 'PBAL_BEG_PERIOD', 'PRNCP_PAID', 'INT_PAID', 'FEE_PAID', 'DUE_AMT', 'RECEIVED_AMT', 'RECEIVED_D', 'PERIOD_END_LSTAT', 'MONTH', 'PBAL_END_PERIOD', 'MOB', 'CO', 'COAMT', 'InterestRate', 'IssuedDate', 'MONTHLYCONTRACTAMT', 'dti', 'State', 'HomeOwnership', 'MonthlyIncome', 'EarliestCREDITLine', 'OpenCREDITLines', 'TotalCREDITLines', 'RevolvingCREDITBalance', 'RevolvingLineUtilization', 'Inquiries6M', 'DQ2yrs', 'MonthsSinceDQ', 'PublicRec', 'MonthsSinceLastRec', 'EmploymentLength', 'currentpolicy', 'grade', 'term', 'APPL_FICO_BAND', 'Last_FICO_BAND', 'VINTAGE', 'PCO_RECOVERY', 'PCO_COLLECTION_FEE']\n"
     ]
    }
   ],
   "source": [
    "import csv\n",
    "\n",
    "## Check the attributes list\n",
    "with open('PMTHIST_all_20160715.csv', newline='') as f:\n",
    "  reader = csv.reader(f)\n",
    "  row1 = next(reader)\n",
    "    \n",
    "print(row1)"
   ]
  },
  {
   "cell_type": "code",
   "execution_count": 41,
   "metadata": {
    "collapsed": false
   },
   "outputs": [
    {
     "data": {
      "text/html": [
       "<div>\n",
       "<table border=\"1\" class=\"dataframe\">\n",
       "  <thead>\n",
       "    <tr style=\"text-align: right;\">\n",
       "      <th></th>\n",
       "      <th>LOAN_ID</th>\n",
       "      <th>PBAL_BEG_PERIOD</th>\n",
       "      <th>PRNCP_PAID</th>\n",
       "      <th>INT_PAID</th>\n",
       "      <th>FEE_PAID</th>\n",
       "      <th>DUE_AMT</th>\n",
       "      <th>RECEIVED_AMT</th>\n",
       "      <th>RECEIVED_D</th>\n",
       "      <th>PERIOD_END_LSTAT</th>\n",
       "      <th>MONTH</th>\n",
       "      <th>...</th>\n",
       "      <th>MonthsSinceLastRec</th>\n",
       "      <th>EmploymentLength</th>\n",
       "      <th>currentpolicy</th>\n",
       "      <th>grade</th>\n",
       "      <th>term</th>\n",
       "      <th>APPL_FICO_BAND</th>\n",
       "      <th>Last_FICO_BAND</th>\n",
       "      <th>VINTAGE</th>\n",
       "      <th>PCO_RECOVERY</th>\n",
       "      <th>PCO_COLLECTION_FEE</th>\n",
       "    </tr>\n",
       "  </thead>\n",
       "  <tbody>\n",
       "    <tr>\n",
       "      <th>0</th>\n",
       "      <td>54734</td>\n",
       "      <td>25000.000000</td>\n",
       "      <td>581.297917</td>\n",
       "      <td>247.802083</td>\n",
       "      <td>0.0</td>\n",
       "      <td>829.1</td>\n",
       "      <td>829.1</td>\n",
       "      <td>SEP2009</td>\n",
       "      <td>Current</td>\n",
       "      <td>SEP2009</td>\n",
       "      <td>...</td>\n",
       "      <td>NaN</td>\n",
       "      <td>&lt; 1 year</td>\n",
       "      <td>1</td>\n",
       "      <td>B</td>\n",
       "      <td>36</td>\n",
       "      <td>735-739</td>\n",
       "      <td>755-759</td>\n",
       "      <td>09Q3</td>\n",
       "      <td>NaN</td>\n",
       "      <td>NaN</td>\n",
       "    </tr>\n",
       "    <tr>\n",
       "      <th>1</th>\n",
       "      <td>54734</td>\n",
       "      <td>24418.702083</td>\n",
       "      <td>587.059790</td>\n",
       "      <td>242.040210</td>\n",
       "      <td>0.0</td>\n",
       "      <td>829.1</td>\n",
       "      <td>829.1</td>\n",
       "      <td>OCT2009</td>\n",
       "      <td>Current</td>\n",
       "      <td>OCT2009</td>\n",
       "      <td>...</td>\n",
       "      <td>NaN</td>\n",
       "      <td>&lt; 1 year</td>\n",
       "      <td>1</td>\n",
       "      <td>B</td>\n",
       "      <td>36</td>\n",
       "      <td>735-739</td>\n",
       "      <td>755-759</td>\n",
       "      <td>09Q3</td>\n",
       "      <td>NaN</td>\n",
       "      <td>NaN</td>\n",
       "    </tr>\n",
       "    <tr>\n",
       "      <th>2</th>\n",
       "      <td>54734</td>\n",
       "      <td>23831.642293</td>\n",
       "      <td>592.878776</td>\n",
       "      <td>236.221224</td>\n",
       "      <td>0.0</td>\n",
       "      <td>829.1</td>\n",
       "      <td>829.1</td>\n",
       "      <td>NOV2009</td>\n",
       "      <td>Current</td>\n",
       "      <td>NOV2009</td>\n",
       "      <td>...</td>\n",
       "      <td>NaN</td>\n",
       "      <td>&lt; 1 year</td>\n",
       "      <td>1</td>\n",
       "      <td>B</td>\n",
       "      <td>36</td>\n",
       "      <td>735-739</td>\n",
       "      <td>785-789</td>\n",
       "      <td>09Q3</td>\n",
       "      <td>NaN</td>\n",
       "      <td>NaN</td>\n",
       "    </tr>\n",
       "    <tr>\n",
       "      <th>3</th>\n",
       "      <td>54734</td>\n",
       "      <td>23238.763518</td>\n",
       "      <td>598.755439</td>\n",
       "      <td>230.344561</td>\n",
       "      <td>0.0</td>\n",
       "      <td>829.1</td>\n",
       "      <td>829.1</td>\n",
       "      <td>DEC2009</td>\n",
       "      <td>Current</td>\n",
       "      <td>DEC2009</td>\n",
       "      <td>...</td>\n",
       "      <td>NaN</td>\n",
       "      <td>&lt; 1 year</td>\n",
       "      <td>1</td>\n",
       "      <td>B</td>\n",
       "      <td>36</td>\n",
       "      <td>735-739</td>\n",
       "      <td>780-784</td>\n",
       "      <td>09Q3</td>\n",
       "      <td>NaN</td>\n",
       "      <td>NaN</td>\n",
       "    </tr>\n",
       "    <tr>\n",
       "      <th>4</th>\n",
       "      <td>54734</td>\n",
       "      <td>22640.008078</td>\n",
       "      <td>604.690353</td>\n",
       "      <td>224.409647</td>\n",
       "      <td>0.0</td>\n",
       "      <td>829.1</td>\n",
       "      <td>829.1</td>\n",
       "      <td>JAN2010</td>\n",
       "      <td>Current</td>\n",
       "      <td>JAN2010</td>\n",
       "      <td>...</td>\n",
       "      <td>NaN</td>\n",
       "      <td>&lt; 1 year</td>\n",
       "      <td>1</td>\n",
       "      <td>B</td>\n",
       "      <td>36</td>\n",
       "      <td>735-739</td>\n",
       "      <td>800-804</td>\n",
       "      <td>09Q3</td>\n",
       "      <td>NaN</td>\n",
       "      <td>NaN</td>\n",
       "    </tr>\n",
       "  </tbody>\n",
       "</table>\n",
       "<p>5 rows × 40 columns</p>\n",
       "</div>"
      ],
      "text/plain": [
       "   LOAN_ID  PBAL_BEG_PERIOD  PRNCP_PAID    INT_PAID  FEE_PAID  DUE_AMT  \\\n",
       "0    54734     25000.000000  581.297917  247.802083       0.0    829.1   \n",
       "1    54734     24418.702083  587.059790  242.040210       0.0    829.1   \n",
       "2    54734     23831.642293  592.878776  236.221224       0.0    829.1   \n",
       "3    54734     23238.763518  598.755439  230.344561       0.0    829.1   \n",
       "4    54734     22640.008078  604.690353  224.409647       0.0    829.1   \n",
       "\n",
       "   RECEIVED_AMT RECEIVED_D PERIOD_END_LSTAT    MONTH        ...          \\\n",
       "0         829.1    SEP2009          Current  SEP2009        ...           \n",
       "1         829.1    OCT2009          Current  OCT2009        ...           \n",
       "2         829.1    NOV2009          Current  NOV2009        ...           \n",
       "3         829.1    DEC2009          Current  DEC2009        ...           \n",
       "4         829.1    JAN2010          Current  JAN2010        ...           \n",
       "\n",
       "   MonthsSinceLastRec  EmploymentLength  currentpolicy  grade  term  \\\n",
       "0                 NaN          < 1 year              1      B    36   \n",
       "1                 NaN          < 1 year              1      B    36   \n",
       "2                 NaN          < 1 year              1      B    36   \n",
       "3                 NaN          < 1 year              1      B    36   \n",
       "4                 NaN          < 1 year              1      B    36   \n",
       "\n",
       "  APPL_FICO_BAND  Last_FICO_BAND  VINTAGE PCO_RECOVERY PCO_COLLECTION_FEE  \n",
       "0        735-739         755-759     09Q3          NaN                NaN  \n",
       "1        735-739         755-759     09Q3          NaN                NaN  \n",
       "2        735-739         785-789     09Q3          NaN                NaN  \n",
       "3        735-739         780-784     09Q3          NaN                NaN  \n",
       "4        735-739         800-804     09Q3          NaN                NaN  \n",
       "\n",
       "[5 rows x 40 columns]"
      ]
     },
     "execution_count": 41,
     "metadata": {},
     "output_type": "execute_result"
    }
   ],
   "source": [
    "data = pd.read_csv(\"PMTHIST_all_20160715.csv\", nrows=10000, low_memory=False)\n",
    "data.head()"
   ]
  },
  {
   "cell_type": "markdown",
   "metadata": {},
   "source": [
    "# Splitting large csv into 30 chunks"
   ]
  },
  {
   "cell_type": "code",
   "execution_count": 45,
   "metadata": {
    "collapsed": false
   },
   "outputs": [
    {
     "name": "stderr",
     "output_type": "stream",
     "text": [
      "/Users/Greer/anaconda3/lib/python3.5/site-packages/IPython/core/interactiveshell.py:2717: DtypeWarning: Columns (29) have mixed types. Specify dtype option on import or set low_memory=False.\n",
      "  interactivity=interactivity, compiler=compiler, result=result)\n"
     ]
    }
   ],
   "source": [
    "for i,chunk in enumerate(pd.read_csv('PMTHIST_all_20160715.csv', chunksize=500000)):\n",
    "    chunk.to_csv('chunk{}.csv'.format(i))"
   ]
  },
  {
   "cell_type": "code",
   "execution_count": 52,
   "metadata": {
    "collapsed": true
   },
   "outputs": [],
   "source": [
    "os.chdir(r\"/Users/Greer/Desktop/Lending Club - From Misha/Payments/chunks\")\n",
    "temp = pd.read_csv(\"chunk0.csv\", low_memory=False)"
   ]
  },
  {
   "cell_type": "code",
   "execution_count": 53,
   "metadata": {
    "collapsed": false
   },
   "outputs": [
    {
     "data": {
      "text/html": [
       "<div>\n",
       "<table border=\"1\" class=\"dataframe\">\n",
       "  <thead>\n",
       "    <tr style=\"text-align: right;\">\n",
       "      <th></th>\n",
       "      <th>Unnamed: 0</th>\n",
       "      <th>LOAN_ID</th>\n",
       "      <th>PBAL_BEG_PERIOD</th>\n",
       "      <th>PRNCP_PAID</th>\n",
       "      <th>INT_PAID</th>\n",
       "      <th>FEE_PAID</th>\n",
       "      <th>DUE_AMT</th>\n",
       "      <th>RECEIVED_AMT</th>\n",
       "      <th>RECEIVED_D</th>\n",
       "      <th>PERIOD_END_LSTAT</th>\n",
       "      <th>...</th>\n",
       "      <th>MonthsSinceLastRec</th>\n",
       "      <th>EmploymentLength</th>\n",
       "      <th>currentpolicy</th>\n",
       "      <th>grade</th>\n",
       "      <th>term</th>\n",
       "      <th>APPL_FICO_BAND</th>\n",
       "      <th>Last_FICO_BAND</th>\n",
       "      <th>VINTAGE</th>\n",
       "      <th>PCO_RECOVERY</th>\n",
       "      <th>PCO_COLLECTION_FEE</th>\n",
       "    </tr>\n",
       "  </thead>\n",
       "  <tbody>\n",
       "    <tr>\n",
       "      <th>0</th>\n",
       "      <td>0</td>\n",
       "      <td>54734</td>\n",
       "      <td>25000.000000</td>\n",
       "      <td>581.297917</td>\n",
       "      <td>247.802083</td>\n",
       "      <td>0.0</td>\n",
       "      <td>829.1</td>\n",
       "      <td>829.1</td>\n",
       "      <td>SEP2009</td>\n",
       "      <td>Current</td>\n",
       "      <td>...</td>\n",
       "      <td>NaN</td>\n",
       "      <td>&lt; 1 year</td>\n",
       "      <td>1</td>\n",
       "      <td>B</td>\n",
       "      <td>36</td>\n",
       "      <td>735-739</td>\n",
       "      <td>755-759</td>\n",
       "      <td>09Q3</td>\n",
       "      <td>NaN</td>\n",
       "      <td>NaN</td>\n",
       "    </tr>\n",
       "    <tr>\n",
       "      <th>1</th>\n",
       "      <td>1</td>\n",
       "      <td>54734</td>\n",
       "      <td>24418.702083</td>\n",
       "      <td>587.059790</td>\n",
       "      <td>242.040210</td>\n",
       "      <td>0.0</td>\n",
       "      <td>829.1</td>\n",
       "      <td>829.1</td>\n",
       "      <td>OCT2009</td>\n",
       "      <td>Current</td>\n",
       "      <td>...</td>\n",
       "      <td>NaN</td>\n",
       "      <td>&lt; 1 year</td>\n",
       "      <td>1</td>\n",
       "      <td>B</td>\n",
       "      <td>36</td>\n",
       "      <td>735-739</td>\n",
       "      <td>755-759</td>\n",
       "      <td>09Q3</td>\n",
       "      <td>NaN</td>\n",
       "      <td>NaN</td>\n",
       "    </tr>\n",
       "    <tr>\n",
       "      <th>2</th>\n",
       "      <td>2</td>\n",
       "      <td>54734</td>\n",
       "      <td>23831.642293</td>\n",
       "      <td>592.878776</td>\n",
       "      <td>236.221224</td>\n",
       "      <td>0.0</td>\n",
       "      <td>829.1</td>\n",
       "      <td>829.1</td>\n",
       "      <td>NOV2009</td>\n",
       "      <td>Current</td>\n",
       "      <td>...</td>\n",
       "      <td>NaN</td>\n",
       "      <td>&lt; 1 year</td>\n",
       "      <td>1</td>\n",
       "      <td>B</td>\n",
       "      <td>36</td>\n",
       "      <td>735-739</td>\n",
       "      <td>785-789</td>\n",
       "      <td>09Q3</td>\n",
       "      <td>NaN</td>\n",
       "      <td>NaN</td>\n",
       "    </tr>\n",
       "    <tr>\n",
       "      <th>3</th>\n",
       "      <td>3</td>\n",
       "      <td>54734</td>\n",
       "      <td>23238.763518</td>\n",
       "      <td>598.755439</td>\n",
       "      <td>230.344561</td>\n",
       "      <td>0.0</td>\n",
       "      <td>829.1</td>\n",
       "      <td>829.1</td>\n",
       "      <td>DEC2009</td>\n",
       "      <td>Current</td>\n",
       "      <td>...</td>\n",
       "      <td>NaN</td>\n",
       "      <td>&lt; 1 year</td>\n",
       "      <td>1</td>\n",
       "      <td>B</td>\n",
       "      <td>36</td>\n",
       "      <td>735-739</td>\n",
       "      <td>780-784</td>\n",
       "      <td>09Q3</td>\n",
       "      <td>NaN</td>\n",
       "      <td>NaN</td>\n",
       "    </tr>\n",
       "    <tr>\n",
       "      <th>4</th>\n",
       "      <td>4</td>\n",
       "      <td>54734</td>\n",
       "      <td>22640.008078</td>\n",
       "      <td>604.690353</td>\n",
       "      <td>224.409647</td>\n",
       "      <td>0.0</td>\n",
       "      <td>829.1</td>\n",
       "      <td>829.1</td>\n",
       "      <td>JAN2010</td>\n",
       "      <td>Current</td>\n",
       "      <td>...</td>\n",
       "      <td>NaN</td>\n",
       "      <td>&lt; 1 year</td>\n",
       "      <td>1</td>\n",
       "      <td>B</td>\n",
       "      <td>36</td>\n",
       "      <td>735-739</td>\n",
       "      <td>800-804</td>\n",
       "      <td>09Q3</td>\n",
       "      <td>NaN</td>\n",
       "      <td>NaN</td>\n",
       "    </tr>\n",
       "  </tbody>\n",
       "</table>\n",
       "<p>5 rows × 41 columns</p>\n",
       "</div>"
      ],
      "text/plain": [
       "   Unnamed: 0  LOAN_ID  PBAL_BEG_PERIOD  PRNCP_PAID    INT_PAID  FEE_PAID  \\\n",
       "0           0    54734     25000.000000  581.297917  247.802083       0.0   \n",
       "1           1    54734     24418.702083  587.059790  242.040210       0.0   \n",
       "2           2    54734     23831.642293  592.878776  236.221224       0.0   \n",
       "3           3    54734     23238.763518  598.755439  230.344561       0.0   \n",
       "4           4    54734     22640.008078  604.690353  224.409647       0.0   \n",
       "\n",
       "   DUE_AMT  RECEIVED_AMT RECEIVED_D PERIOD_END_LSTAT        ...          \\\n",
       "0    829.1         829.1    SEP2009          Current        ...           \n",
       "1    829.1         829.1    OCT2009          Current        ...           \n",
       "2    829.1         829.1    NOV2009          Current        ...           \n",
       "3    829.1         829.1    DEC2009          Current        ...           \n",
       "4    829.1         829.1    JAN2010          Current        ...           \n",
       "\n",
       "  MonthsSinceLastRec  EmploymentLength  currentpolicy  grade  term  \\\n",
       "0                NaN          < 1 year              1      B    36   \n",
       "1                NaN          < 1 year              1      B    36   \n",
       "2                NaN          < 1 year              1      B    36   \n",
       "3                NaN          < 1 year              1      B    36   \n",
       "4                NaN          < 1 year              1      B    36   \n",
       "\n",
       "   APPL_FICO_BAND Last_FICO_BAND  VINTAGE  PCO_RECOVERY PCO_COLLECTION_FEE  \n",
       "0         735-739        755-759     09Q3           NaN                NaN  \n",
       "1         735-739        755-759     09Q3           NaN                NaN  \n",
       "2         735-739        785-789     09Q3           NaN                NaN  \n",
       "3         735-739        780-784     09Q3           NaN                NaN  \n",
       "4         735-739        800-804     09Q3           NaN                NaN  \n",
       "\n",
       "[5 rows x 41 columns]"
      ]
     },
     "execution_count": 53,
     "metadata": {},
     "output_type": "execute_result"
    }
   ],
   "source": [
    "temp.head()"
   ]
  },
  {
   "cell_type": "markdown",
   "metadata": {},
   "source": [
    "# Loop chunk CSV files into 30 dataframes within a large dict file d{}"
   ]
  },
  {
   "cell_type": "code",
   "execution_count": null,
   "metadata": {
    "collapsed": true
   },
   "outputs": [],
   "source": [
    "# d = {}\n",
    "# for i in range(0,1):\n",
    "#     d[i] = pd.read_csv(\"chunk\" + str(i) + \".csv\", low_memory=False)\n",
    "\n",
    "## Once d is created the DataFrame for company x can be retrieved as d[x], so you can look up a specific company quite easily. To operate on all companies you would typically use a loop like:\n",
    "# for name, df in d.items():\n",
    "    # operate on DataFrame df for company name"
   ]
  },
  {
   "cell_type": "markdown",
   "metadata": {},
   "source": [
    "# Concatenate 5 dataframes (subset of 30) into one dataframe"
   ]
  },
  {
   "cell_type": "code",
   "execution_count": 230,
   "metadata": {
    "collapsed": false
   },
   "outputs": [],
   "source": [
    "import glob\n",
    "\n",
    "path =r'/Users/Greer/Desktop/Lending Club - From Misha/Payments/chunks_subset' # use your path \n",
    "allFiles = glob.glob(path + \"/*.csv\")\n",
    "frame = pd.DataFrame()\n",
    "list_ = []\n",
    "for file_ in allFiles:\n",
    "    df = pd.read_csv(file_,index_col=None, header=0, low_memory=False)\n",
    "    list_.append(df)\n",
    "frame = pd.concat(list_)"
   ]
  },
  {
   "cell_type": "code",
   "execution_count": 231,
   "metadata": {
    "collapsed": false
   },
   "outputs": [
    {
     "data": {
      "text/plain": [
       "2500000"
      ]
     },
     "execution_count": 231,
     "metadata": {},
     "output_type": "execute_result"
    }
   ],
   "source": [
    "len(frame)\n",
    "# 2,500,000"
   ]
  },
  {
   "cell_type": "code",
   "execution_count": 232,
   "metadata": {
    "collapsed": false
   },
   "outputs": [
    {
     "data": {
      "text/html": [
       "<div>\n",
       "<table border=\"1\" class=\"dataframe\">\n",
       "  <thead>\n",
       "    <tr style=\"text-align: right;\">\n",
       "      <th></th>\n",
       "      <th>LOAN_ID</th>\n",
       "      <th>PBAL_BEG_PERIOD</th>\n",
       "      <th>PRNCP_PAID</th>\n",
       "      <th>INT_PAID</th>\n",
       "      <th>FEE_PAID</th>\n",
       "      <th>DUE_AMT</th>\n",
       "      <th>RECEIVED_AMT</th>\n",
       "      <th>RECEIVED_D</th>\n",
       "      <th>PERIOD_END_LSTAT</th>\n",
       "      <th>MONTH</th>\n",
       "      <th>...</th>\n",
       "      <th>MonthsSinceLastRec</th>\n",
       "      <th>EmploymentLength</th>\n",
       "      <th>currentpolicy</th>\n",
       "      <th>grade</th>\n",
       "      <th>term</th>\n",
       "      <th>APPL_FICO_BAND</th>\n",
       "      <th>Last_FICO_BAND</th>\n",
       "      <th>VINTAGE</th>\n",
       "      <th>PCO_RECOVERY</th>\n",
       "      <th>PCO_COLLECTION_FEE</th>\n",
       "    </tr>\n",
       "  </thead>\n",
       "  <tbody>\n",
       "    <tr>\n",
       "      <th>0</th>\n",
       "      <td>54734</td>\n",
       "      <td>25000.000000</td>\n",
       "      <td>581.297917</td>\n",
       "      <td>247.802083</td>\n",
       "      <td>0.0</td>\n",
       "      <td>829.1</td>\n",
       "      <td>829.1</td>\n",
       "      <td>SEP2009</td>\n",
       "      <td>Current</td>\n",
       "      <td>SEP2009</td>\n",
       "      <td>...</td>\n",
       "      <td>NaN</td>\n",
       "      <td>&lt; 1 year</td>\n",
       "      <td>1</td>\n",
       "      <td>B</td>\n",
       "      <td>36</td>\n",
       "      <td>735-739</td>\n",
       "      <td>755-759</td>\n",
       "      <td>09Q3</td>\n",
       "      <td>NaN</td>\n",
       "      <td>NaN</td>\n",
       "    </tr>\n",
       "    <tr>\n",
       "      <th>1</th>\n",
       "      <td>54734</td>\n",
       "      <td>24418.702083</td>\n",
       "      <td>587.059790</td>\n",
       "      <td>242.040210</td>\n",
       "      <td>0.0</td>\n",
       "      <td>829.1</td>\n",
       "      <td>829.1</td>\n",
       "      <td>OCT2009</td>\n",
       "      <td>Current</td>\n",
       "      <td>OCT2009</td>\n",
       "      <td>...</td>\n",
       "      <td>NaN</td>\n",
       "      <td>&lt; 1 year</td>\n",
       "      <td>1</td>\n",
       "      <td>B</td>\n",
       "      <td>36</td>\n",
       "      <td>735-739</td>\n",
       "      <td>755-759</td>\n",
       "      <td>09Q3</td>\n",
       "      <td>NaN</td>\n",
       "      <td>NaN</td>\n",
       "    </tr>\n",
       "    <tr>\n",
       "      <th>2</th>\n",
       "      <td>54734</td>\n",
       "      <td>23831.642293</td>\n",
       "      <td>592.878776</td>\n",
       "      <td>236.221224</td>\n",
       "      <td>0.0</td>\n",
       "      <td>829.1</td>\n",
       "      <td>829.1</td>\n",
       "      <td>NOV2009</td>\n",
       "      <td>Current</td>\n",
       "      <td>NOV2009</td>\n",
       "      <td>...</td>\n",
       "      <td>NaN</td>\n",
       "      <td>&lt; 1 year</td>\n",
       "      <td>1</td>\n",
       "      <td>B</td>\n",
       "      <td>36</td>\n",
       "      <td>735-739</td>\n",
       "      <td>785-789</td>\n",
       "      <td>09Q3</td>\n",
       "      <td>NaN</td>\n",
       "      <td>NaN</td>\n",
       "    </tr>\n",
       "    <tr>\n",
       "      <th>3</th>\n",
       "      <td>54734</td>\n",
       "      <td>23238.763518</td>\n",
       "      <td>598.755439</td>\n",
       "      <td>230.344561</td>\n",
       "      <td>0.0</td>\n",
       "      <td>829.1</td>\n",
       "      <td>829.1</td>\n",
       "      <td>DEC2009</td>\n",
       "      <td>Current</td>\n",
       "      <td>DEC2009</td>\n",
       "      <td>...</td>\n",
       "      <td>NaN</td>\n",
       "      <td>&lt; 1 year</td>\n",
       "      <td>1</td>\n",
       "      <td>B</td>\n",
       "      <td>36</td>\n",
       "      <td>735-739</td>\n",
       "      <td>780-784</td>\n",
       "      <td>09Q3</td>\n",
       "      <td>NaN</td>\n",
       "      <td>NaN</td>\n",
       "    </tr>\n",
       "    <tr>\n",
       "      <th>4</th>\n",
       "      <td>54734</td>\n",
       "      <td>22640.008078</td>\n",
       "      <td>604.690353</td>\n",
       "      <td>224.409647</td>\n",
       "      <td>0.0</td>\n",
       "      <td>829.1</td>\n",
       "      <td>829.1</td>\n",
       "      <td>JAN2010</td>\n",
       "      <td>Current</td>\n",
       "      <td>JAN2010</td>\n",
       "      <td>...</td>\n",
       "      <td>NaN</td>\n",
       "      <td>&lt; 1 year</td>\n",
       "      <td>1</td>\n",
       "      <td>B</td>\n",
       "      <td>36</td>\n",
       "      <td>735-739</td>\n",
       "      <td>800-804</td>\n",
       "      <td>09Q3</td>\n",
       "      <td>NaN</td>\n",
       "      <td>NaN</td>\n",
       "    </tr>\n",
       "  </tbody>\n",
       "</table>\n",
       "<p>5 rows × 40 columns</p>\n",
       "</div>"
      ],
      "text/plain": [
       "   LOAN_ID  PBAL_BEG_PERIOD  PRNCP_PAID    INT_PAID  FEE_PAID  DUE_AMT  \\\n",
       "0    54734     25000.000000  581.297917  247.802083       0.0    829.1   \n",
       "1    54734     24418.702083  587.059790  242.040210       0.0    829.1   \n",
       "2    54734     23831.642293  592.878776  236.221224       0.0    829.1   \n",
       "3    54734     23238.763518  598.755439  230.344561       0.0    829.1   \n",
       "4    54734     22640.008078  604.690353  224.409647       0.0    829.1   \n",
       "\n",
       "   RECEIVED_AMT RECEIVED_D PERIOD_END_LSTAT    MONTH        ...          \\\n",
       "0         829.1    SEP2009          Current  SEP2009        ...           \n",
       "1         829.1    OCT2009          Current  OCT2009        ...           \n",
       "2         829.1    NOV2009          Current  NOV2009        ...           \n",
       "3         829.1    DEC2009          Current  DEC2009        ...           \n",
       "4         829.1    JAN2010          Current  JAN2010        ...           \n",
       "\n",
       "   MonthsSinceLastRec  EmploymentLength  currentpolicy  grade  term  \\\n",
       "0                 NaN          < 1 year              1      B    36   \n",
       "1                 NaN          < 1 year              1      B    36   \n",
       "2                 NaN          < 1 year              1      B    36   \n",
       "3                 NaN          < 1 year              1      B    36   \n",
       "4                 NaN          < 1 year              1      B    36   \n",
       "\n",
       "  APPL_FICO_BAND  Last_FICO_BAND  VINTAGE PCO_RECOVERY PCO_COLLECTION_FEE  \n",
       "0        735-739         755-759     09Q3          NaN                NaN  \n",
       "1        735-739         755-759     09Q3          NaN                NaN  \n",
       "2        735-739         785-789     09Q3          NaN                NaN  \n",
       "3        735-739         780-784     09Q3          NaN                NaN  \n",
       "4        735-739         800-804     09Q3          NaN                NaN  \n",
       "\n",
       "[5 rows x 40 columns]"
      ]
     },
     "execution_count": 232,
     "metadata": {},
     "output_type": "execute_result"
    }
   ],
   "source": [
    "frame.drop(frame.columns[[0]], axis=1, inplace=True)\n",
    "frame.head()"
   ]
  },
  {
   "cell_type": "code",
   "execution_count": 233,
   "metadata": {
    "collapsed": false
   },
   "outputs": [
    {
     "data": {
      "text/plain": [
       "['LOAN_ID',\n",
       " 'PBAL_BEG_PERIOD',\n",
       " 'PRNCP_PAID',\n",
       " 'INT_PAID',\n",
       " 'FEE_PAID',\n",
       " 'DUE_AMT',\n",
       " 'RECEIVED_AMT',\n",
       " 'RECEIVED_D',\n",
       " 'PERIOD_END_LSTAT',\n",
       " 'MONTH',\n",
       " 'PBAL_END_PERIOD',\n",
       " 'MOB',\n",
       " 'CO',\n",
       " 'COAMT',\n",
       " 'InterestRate',\n",
       " 'IssuedDate',\n",
       " 'MONTHLYCONTRACTAMT',\n",
       " 'dti',\n",
       " 'State',\n",
       " 'HomeOwnership',\n",
       " 'MonthlyIncome',\n",
       " 'EarliestCREDITLine',\n",
       " 'OpenCREDITLines',\n",
       " 'TotalCREDITLines',\n",
       " 'RevolvingCREDITBalance',\n",
       " 'RevolvingLineUtilization',\n",
       " 'Inquiries6M',\n",
       " 'DQ2yrs',\n",
       " 'MonthsSinceDQ',\n",
       " 'PublicRec',\n",
       " 'MonthsSinceLastRec',\n",
       " 'EmploymentLength',\n",
       " 'currentpolicy',\n",
       " 'grade',\n",
       " 'term',\n",
       " 'APPL_FICO_BAND',\n",
       " 'Last_FICO_BAND',\n",
       " 'VINTAGE',\n",
       " 'PCO_RECOVERY',\n",
       " 'PCO_COLLECTION_FEE']"
      ]
     },
     "execution_count": 233,
     "metadata": {},
     "output_type": "execute_result"
    }
   ],
   "source": [
    "df = frame\n",
    "df.reset_index\n",
    "list(df)"
   ]
  },
  {
   "cell_type": "code",
   "execution_count": 38,
   "metadata": {
    "collapsed": false
   },
   "outputs": [
    {
     "data": {
      "text/html": [
       "<div>\n",
       "<table border=\"1\" class=\"dataframe\">\n",
       "  <thead>\n",
       "    <tr style=\"text-align: right;\">\n",
       "      <th></th>\n",
       "      <th>Unnamed: 0</th>\n",
       "      <th>LOAN_ID</th>\n",
       "      <th>PBAL_BEG_PERIOD</th>\n",
       "      <th>PRNCP_PAID</th>\n",
       "      <th>INT_PAID</th>\n",
       "      <th>FEE_PAID</th>\n",
       "      <th>DUE_AMT</th>\n",
       "      <th>RECEIVED_AMT</th>\n",
       "      <th>PBAL_END_PERIOD</th>\n",
       "      <th>MOB</th>\n",
       "    </tr>\n",
       "  </thead>\n",
       "  <tbody>\n",
       "    <tr>\n",
       "      <th>0</th>\n",
       "      <td>0</td>\n",
       "      <td>54734</td>\n",
       "      <td>25000.000000</td>\n",
       "      <td>581.297917</td>\n",
       "      <td>247.802083</td>\n",
       "      <td>0.0</td>\n",
       "      <td>829.1</td>\n",
       "      <td>829.1</td>\n",
       "      <td>24418.702083</td>\n",
       "      <td>1</td>\n",
       "    </tr>\n",
       "    <tr>\n",
       "      <th>1</th>\n",
       "      <td>1</td>\n",
       "      <td>54734</td>\n",
       "      <td>24418.702083</td>\n",
       "      <td>587.059790</td>\n",
       "      <td>242.040210</td>\n",
       "      <td>0.0</td>\n",
       "      <td>829.1</td>\n",
       "      <td>829.1</td>\n",
       "      <td>23831.642293</td>\n",
       "      <td>2</td>\n",
       "    </tr>\n",
       "    <tr>\n",
       "      <th>2</th>\n",
       "      <td>2</td>\n",
       "      <td>54734</td>\n",
       "      <td>23831.642293</td>\n",
       "      <td>592.878776</td>\n",
       "      <td>236.221224</td>\n",
       "      <td>0.0</td>\n",
       "      <td>829.1</td>\n",
       "      <td>829.1</td>\n",
       "      <td>23238.763518</td>\n",
       "      <td>3</td>\n",
       "    </tr>\n",
       "    <tr>\n",
       "      <th>3</th>\n",
       "      <td>3</td>\n",
       "      <td>54734</td>\n",
       "      <td>23238.763518</td>\n",
       "      <td>598.755439</td>\n",
       "      <td>230.344561</td>\n",
       "      <td>0.0</td>\n",
       "      <td>829.1</td>\n",
       "      <td>829.1</td>\n",
       "      <td>22640.008078</td>\n",
       "      <td>4</td>\n",
       "    </tr>\n",
       "  </tbody>\n",
       "</table>\n",
       "</div>"
      ],
      "text/plain": [
       "   Unnamed: 0  LOAN_ID  PBAL_BEG_PERIOD  PRNCP_PAID    INT_PAID  FEE_PAID  \\\n",
       "0           0    54734     25000.000000  581.297917  247.802083       0.0   \n",
       "1           1    54734     24418.702083  587.059790  242.040210       0.0   \n",
       "2           2    54734     23831.642293  592.878776  236.221224       0.0   \n",
       "3           3    54734     23238.763518  598.755439  230.344561       0.0   \n",
       "\n",
       "   DUE_AMT  RECEIVED_AMT  PBAL_END_PERIOD  MOB  \n",
       "0    829.1         829.1     24418.702083    1  \n",
       "1    829.1         829.1     23831.642293    2  \n",
       "2    829.1         829.1     23238.763518    3  \n",
       "3    829.1         829.1     22640.008078    4  "
      ]
     },
     "execution_count": 38,
     "metadata": {},
     "output_type": "execute_result"
    }
   ],
   "source": [
    "df.iloc[:4,:10]"
   ]
  },
  {
   "cell_type": "code",
   "execution_count": 234,
   "metadata": {
    "collapsed": false
   },
   "outputs": [
    {
     "data": {
      "text/html": [
       "<div>\n",
       "<table border=\"1\" class=\"dataframe\">\n",
       "  <thead>\n",
       "    <tr style=\"text-align: right;\">\n",
       "      <th></th>\n",
       "      <th>MOB</th>\n",
       "      <th>CO</th>\n",
       "      <th>COAMT</th>\n",
       "      <th>InterestRate</th>\n",
       "      <th>IssuedDate</th>\n",
       "      <th>MONTHLYCONTRACTAMT</th>\n",
       "      <th>dti</th>\n",
       "      <th>State</th>\n",
       "      <th>HomeOwnership</th>\n",
       "      <th>MonthlyIncome</th>\n",
       "      <th>EarliestCREDITLine</th>\n",
       "    </tr>\n",
       "  </thead>\n",
       "  <tbody>\n",
       "    <tr>\n",
       "      <th>0</th>\n",
       "      <td>1</td>\n",
       "      <td>0</td>\n",
       "      <td>0.0</td>\n",
       "      <td>0.1189</td>\n",
       "      <td>AUG2009</td>\n",
       "      <td>829.1</td>\n",
       "      <td>19.48</td>\n",
       "      <td>CA</td>\n",
       "      <td>RENT</td>\n",
       "      <td>7083.333333</td>\n",
       "      <td>FEB1994</td>\n",
       "    </tr>\n",
       "    <tr>\n",
       "      <th>1</th>\n",
       "      <td>2</td>\n",
       "      <td>0</td>\n",
       "      <td>0.0</td>\n",
       "      <td>0.1189</td>\n",
       "      <td>AUG2009</td>\n",
       "      <td>829.1</td>\n",
       "      <td>19.48</td>\n",
       "      <td>CA</td>\n",
       "      <td>RENT</td>\n",
       "      <td>7083.333333</td>\n",
       "      <td>FEB1994</td>\n",
       "    </tr>\n",
       "    <tr>\n",
       "      <th>2</th>\n",
       "      <td>3</td>\n",
       "      <td>0</td>\n",
       "      <td>0.0</td>\n",
       "      <td>0.1189</td>\n",
       "      <td>AUG2009</td>\n",
       "      <td>829.1</td>\n",
       "      <td>19.48</td>\n",
       "      <td>CA</td>\n",
       "      <td>RENT</td>\n",
       "      <td>7083.333333</td>\n",
       "      <td>FEB1994</td>\n",
       "    </tr>\n",
       "    <tr>\n",
       "      <th>3</th>\n",
       "      <td>4</td>\n",
       "      <td>0</td>\n",
       "      <td>0.0</td>\n",
       "      <td>0.1189</td>\n",
       "      <td>AUG2009</td>\n",
       "      <td>829.1</td>\n",
       "      <td>19.48</td>\n",
       "      <td>CA</td>\n",
       "      <td>RENT</td>\n",
       "      <td>7083.333333</td>\n",
       "      <td>FEB1994</td>\n",
       "    </tr>\n",
       "  </tbody>\n",
       "</table>\n",
       "</div>"
      ],
      "text/plain": [
       "   MOB  CO  COAMT  InterestRate IssuedDate  MONTHLYCONTRACTAMT    dti State  \\\n",
       "0    1   0    0.0        0.1189    AUG2009               829.1  19.48    CA   \n",
       "1    2   0    0.0        0.1189    AUG2009               829.1  19.48    CA   \n",
       "2    3   0    0.0        0.1189    AUG2009               829.1  19.48    CA   \n",
       "3    4   0    0.0        0.1189    AUG2009               829.1  19.48    CA   \n",
       "\n",
       "  HomeOwnership  MonthlyIncome EarliestCREDITLine  \n",
       "0          RENT    7083.333333            FEB1994  \n",
       "1          RENT    7083.333333            FEB1994  \n",
       "2          RENT    7083.333333            FEB1994  \n",
       "3          RENT    7083.333333            FEB1994  "
      ]
     },
     "execution_count": 234,
     "metadata": {},
     "output_type": "execute_result"
    }
   ],
   "source": [
    "df.iloc[:4,11:22]"
   ]
  },
  {
   "cell_type": "code",
   "execution_count": 235,
   "metadata": {
    "collapsed": false
   },
   "outputs": [
    {
     "data": {
      "text/html": [
       "<div>\n",
       "<table border=\"1\" class=\"dataframe\">\n",
       "  <thead>\n",
       "    <tr style=\"text-align: right;\">\n",
       "      <th></th>\n",
       "      <th>TotalCREDITLines</th>\n",
       "      <th>RevolvingCREDITBalance</th>\n",
       "      <th>RevolvingLineUtilization</th>\n",
       "      <th>Inquiries6M</th>\n",
       "      <th>DQ2yrs</th>\n",
       "      <th>MonthsSinceDQ</th>\n",
       "      <th>PublicRec</th>\n",
       "    </tr>\n",
       "  </thead>\n",
       "  <tbody>\n",
       "    <tr>\n",
       "      <th>0</th>\n",
       "      <td>42.0</td>\n",
       "      <td>28854</td>\n",
       "      <td>0.521</td>\n",
       "      <td>0.0</td>\n",
       "      <td>0.0</td>\n",
       "      <td>NaN</td>\n",
       "      <td>0.0</td>\n",
       "    </tr>\n",
       "    <tr>\n",
       "      <th>1</th>\n",
       "      <td>42.0</td>\n",
       "      <td>28854</td>\n",
       "      <td>0.521</td>\n",
       "      <td>0.0</td>\n",
       "      <td>0.0</td>\n",
       "      <td>NaN</td>\n",
       "      <td>0.0</td>\n",
       "    </tr>\n",
       "    <tr>\n",
       "      <th>2</th>\n",
       "      <td>42.0</td>\n",
       "      <td>28854</td>\n",
       "      <td>0.521</td>\n",
       "      <td>0.0</td>\n",
       "      <td>0.0</td>\n",
       "      <td>NaN</td>\n",
       "      <td>0.0</td>\n",
       "    </tr>\n",
       "    <tr>\n",
       "      <th>3</th>\n",
       "      <td>42.0</td>\n",
       "      <td>28854</td>\n",
       "      <td>0.521</td>\n",
       "      <td>0.0</td>\n",
       "      <td>0.0</td>\n",
       "      <td>NaN</td>\n",
       "      <td>0.0</td>\n",
       "    </tr>\n",
       "  </tbody>\n",
       "</table>\n",
       "</div>"
      ],
      "text/plain": [
       "   TotalCREDITLines  RevolvingCREDITBalance  RevolvingLineUtilization  \\\n",
       "0              42.0                   28854                     0.521   \n",
       "1              42.0                   28854                     0.521   \n",
       "2              42.0                   28854                     0.521   \n",
       "3              42.0                   28854                     0.521   \n",
       "\n",
       "   Inquiries6M  DQ2yrs  MonthsSinceDQ  PublicRec  \n",
       "0          0.0     0.0            NaN        0.0  \n",
       "1          0.0     0.0            NaN        0.0  \n",
       "2          0.0     0.0            NaN        0.0  \n",
       "3          0.0     0.0            NaN        0.0  "
      ]
     },
     "execution_count": 235,
     "metadata": {},
     "output_type": "execute_result"
    }
   ],
   "source": [
    "df.iloc[:4,23:30]"
   ]
  },
  {
   "cell_type": "code",
   "execution_count": 226,
   "metadata": {
    "collapsed": false
   },
   "outputs": [
    {
     "data": {
      "text/html": [
       "<div>\n",
       "<table border=\"1\" class=\"dataframe\">\n",
       "  <thead>\n",
       "    <tr style=\"text-align: right;\">\n",
       "      <th></th>\n",
       "      <th>EmploymentLength</th>\n",
       "      <th>currentpolicy</th>\n",
       "      <th>grade</th>\n",
       "      <th>term</th>\n",
       "      <th>APPL_FICO_BAND</th>\n",
       "      <th>Last_FICO_BAND</th>\n",
       "      <th>VINTAGE</th>\n",
       "      <th>PCO_RECOVERY</th>\n",
       "      <th>PCO_COLLECTION_FEE</th>\n",
       "      <th>EarlestCreditMonths</th>\n",
       "      <th>EarliestCreditMonths</th>\n",
       "    </tr>\n",
       "  </thead>\n",
       "  <tbody>\n",
       "    <tr>\n",
       "      <th>0</th>\n",
       "      <td>1</td>\n",
       "      <td>1</td>\n",
       "      <td>B</td>\n",
       "      <td>36</td>\n",
       "      <td>737</td>\n",
       "      <td>757</td>\n",
       "      <td>09Q3</td>\n",
       "      <td>NaN</td>\n",
       "      <td>NaN</td>\n",
       "      <td>CreditMonths</td>\n",
       "      <td>564.0</td>\n",
       "    </tr>\n",
       "    <tr>\n",
       "      <th>1</th>\n",
       "      <td>1</td>\n",
       "      <td>1</td>\n",
       "      <td>B</td>\n",
       "      <td>36</td>\n",
       "      <td>737</td>\n",
       "      <td>757</td>\n",
       "      <td>09Q3</td>\n",
       "      <td>NaN</td>\n",
       "      <td>NaN</td>\n",
       "      <td>275</td>\n",
       "      <td>564.0</td>\n",
       "    </tr>\n",
       "    <tr>\n",
       "      <th>2</th>\n",
       "      <td>1</td>\n",
       "      <td>1</td>\n",
       "      <td>B</td>\n",
       "      <td>36</td>\n",
       "      <td>737</td>\n",
       "      <td>787</td>\n",
       "      <td>09Q3</td>\n",
       "      <td>NaN</td>\n",
       "      <td>NaN</td>\n",
       "      <td>275</td>\n",
       "      <td>564.0</td>\n",
       "    </tr>\n",
       "    <tr>\n",
       "      <th>3</th>\n",
       "      <td>1</td>\n",
       "      <td>1</td>\n",
       "      <td>B</td>\n",
       "      <td>36</td>\n",
       "      <td>737</td>\n",
       "      <td>782</td>\n",
       "      <td>09Q3</td>\n",
       "      <td>NaN</td>\n",
       "      <td>NaN</td>\n",
       "      <td>275</td>\n",
       "      <td>564.0</td>\n",
       "    </tr>\n",
       "  </tbody>\n",
       "</table>\n",
       "</div>"
      ],
      "text/plain": [
       "   EmploymentLength  currentpolicy grade  term  APPL_FICO_BAND Last_FICO_BAND  \\\n",
       "0                 1              1     B    36             737            757   \n",
       "1                 1              1     B    36             737            757   \n",
       "2                 1              1     B    36             737            787   \n",
       "3                 1              1     B    36             737            782   \n",
       "\n",
       "  VINTAGE  PCO_RECOVERY  PCO_COLLECTION_FEE EarlestCreditMonths  \\\n",
       "0    09Q3           NaN                 NaN        CreditMonths   \n",
       "1    09Q3           NaN                 NaN                 275   \n",
       "2    09Q3           NaN                 NaN                 275   \n",
       "3    09Q3           NaN                 NaN                 275   \n",
       "\n",
       "   EarliestCreditMonths  \n",
       "0                 564.0  \n",
       "1                 564.0  \n",
       "2                 564.0  \n",
       "3                 564.0  "
      ]
     },
     "execution_count": 226,
     "metadata": {},
     "output_type": "execute_result"
    }
   ],
   "source": [
    "df.iloc[:4,31:42]"
   ]
  },
  {
   "cell_type": "code",
   "execution_count": 236,
   "metadata": {
    "collapsed": false
   },
   "outputs": [
    {
     "data": {
      "text/plain": [
       "10+ years    643668\n",
       "2 years      250390\n",
       "< 1 year     241084\n",
       "3 years      217003\n",
       "5 years      209194\n",
       "4 years      200699\n",
       "1 year       189597\n",
       "6 years      157821\n",
       "7 years      127451\n",
       "8 years      100809\n",
       "9 years       83840\n",
       "n/a           78444\n",
       "Name: EmploymentLength, dtype: int64"
      ]
     },
     "execution_count": 236,
     "metadata": {},
     "output_type": "execute_result"
    }
   ],
   "source": [
    "df.EmploymentLength.value_counts()"
   ]
  },
  {
   "cell_type": "code",
   "execution_count": 237,
   "metadata": {
    "collapsed": true
   },
   "outputs": [],
   "source": [
    "df.replace('n/a', np.nan,inplace=True)\n",
    "df.EmploymentLength.fillna(value=0,inplace=True)\n",
    "df['EmploymentLength'].replace(to_replace='[^0-9]+', value='', inplace=True, regex=True)\n",
    "df['EmploymentLength'] = df['EmploymentLength'].astype(int)"
   ]
  },
  {
   "cell_type": "code",
   "execution_count": 239,
   "metadata": {
    "collapsed": false
   },
   "outputs": [
    {
     "data": {
      "text/plain": [
       "0.0     2212465\n",
       "1.0      213703\n",
       "2.0       47973\n",
       "3.0       15118\n",
       "4.0        5134\n",
       "5.0        2382\n",
       "6.0         893\n",
       "7.0         786\n",
       "8.0         218\n",
       "9.0         152\n",
       "10.0        127\n",
       "11.0        125\n",
       "13.0         37\n",
       "18.0         32\n",
       "12.0         22\n",
       "Name: DQ2yrs, dtype: int64"
      ]
     },
     "execution_count": 239,
     "metadata": {},
     "output_type": "execute_result"
    }
   ],
   "source": [
    "## Examine distribution of delinquency\n",
    "df.DQ2yrs.value_counts()"
   ]
  },
  {
   "cell_type": "code",
   "execution_count": 240,
   "metadata": {
    "collapsed": false
   },
   "outputs": [
    {
     "name": "stdout",
     "output_type": "stream",
     "text": [
      "Counter({'685-689': 157203, '680-684': 155223, '690-694': 153888, '695-699': 148980, '700-704': 145753, '675-679': 144284, '670-674': 137028, '705-709': 126587, '665-669': 122295, '710-714': 112126, '715-719': 110085, '720-724': 109556, '660-664': 105869, '725-729': 100669, '730-734': 84123, '735-739': 81691, '740-744': 70016, '745-749': 60683, '750-754': 58678, '755-759': 49965, '760-764': 41151, '765-769': 36159, '770-774': 34526, '775-779': 28807, '780-784': 24819, '790-794': 19301, '785-789': 18308, '795-799': 14190, '800-804': 11836, '805-809': 8948, '810-814': 6374, '650-654': 3776, '655-659': 3485, '645-649': 3143, '640-644': 2904, '815-819': 2583, '820-824': 1765, '825-829': 1276, '830-834': 621, '835-839': 397, '840-844': 247, '845-849': 155, '635-639': 140, '630-634': 126, '625-629': 74, '610-614': 73, '850': 56, '620-624': 35, '615-619': 23})\n"
     ]
    }
   ],
   "source": [
    "## Count occurrences of every potential value of APPL_FICO_BAND, note that some are '850'\n",
    "\n",
    "import collections\n",
    "print(collections.Counter(line.rstrip().rpartition('    ')[-1] for line in df.APPL_FICO_BAND))"
   ]
  },
  {
   "cell_type": "code",
   "execution_count": 273,
   "metadata": {
    "collapsed": false
   },
   "outputs": [
    {
     "name": "stdout",
     "output_type": "stream",
     "text": [
      "evaluating row 0\n",
      "evaluating row 100000\n",
      "evaluating row 200000\n",
      "evaluating row 300000\n",
      "evaluating row 400000\n",
      "evaluating row 500000\n",
      "evaluating row 600000\n",
      "evaluating row 700000\n",
      "evaluating row 800000\n",
      "evaluating row 900000\n",
      "evaluating row 1000000\n",
      "evaluating row 1100000\n",
      "evaluating row 1200000\n",
      "evaluating row 1300000\n",
      "evaluating row 1400000\n",
      "evaluating row 1500000\n",
      "evaluating row 1600000\n",
      "evaluating row 1700000\n",
      "evaluating row 1800000\n",
      "evaluating row 1900000\n",
      "evaluating row 2000000\n",
      "evaluating row 2100000\n",
      "evaluating row 2200000\n",
      "evaluating row 2300000\n",
      "evaluating row 2400000\n"
     ]
    }
   ],
   "source": [
    "## Convert APPL_FICO_BAND to average\n",
    "\n",
    "n = len(df)\n",
    "APPL_FICO_avg = []\n",
    "    \n",
    "for i in range(0,n):\n",
    "    if i % 100000 == 0:\n",
    "        print(\"evaluating row %d\" %i)\n",
    "    string = df.iloc[i]['APPL_FICO_BAND']\n",
    "    if string == '850':\n",
    "        APPL_FICO_avg.append(850)\n",
    "    else:\n",
    "        j = int(string.split(\" \")[0].split(\"-\")[0])\n",
    "        k = int(string.split(\"-\")[1].split(\" \")[0])\n",
    "        avg = (j+k)//2\n",
    "        APPL_FICO_avg.append(avg)"
   ]
  },
  {
   "cell_type": "code",
   "execution_count": 274,
   "metadata": {
    "collapsed": false,
    "scrolled": false
   },
   "outputs": [
    {
     "data": {
      "text/plain": [
       "2500000"
      ]
     },
     "execution_count": 274,
     "metadata": {},
     "output_type": "execute_result"
    }
   ],
   "source": [
    "len(APPL_FICO_avg)"
   ]
  },
  {
   "cell_type": "code",
   "execution_count": 275,
   "metadata": {
    "collapsed": false
   },
   "outputs": [
    {
     "data": {
      "text/plain": [
       "[737, 737, 737, 737, 737, 737, 737, 737, 737, 737, 737, 737, 737, 737, 737]"
      ]
     },
     "execution_count": 275,
     "metadata": {},
     "output_type": "execute_result"
    }
   ],
   "source": [
    "## Check APPL_FICO_avg[10588:10600]\n",
    "APPL_FICO_avg[0:15]"
   ]
  },
  {
   "cell_type": "code",
   "execution_count": 276,
   "metadata": {
    "collapsed": false,
    "scrolled": true
   },
   "outputs": [],
   "source": [
    "## Replace appl FICO band in dataframe with average calculated above\n",
    "\n",
    "#df['APPL_FICO_BAND'][0:n] = APPL_FICO_avg\n",
    "df['APPL_FICO_BAND'] = pd.Series(APPL_FICO_avg, index=df.index)"
   ]
  },
  {
   "cell_type": "code",
   "execution_count": 277,
   "metadata": {
    "collapsed": false
   },
   "outputs": [
    {
     "data": {
      "text/plain": [
       "499995    667\n",
       "499996    667\n",
       "499997    667\n",
       "499998    667\n",
       "499999    667\n",
       "Name: APPL_FICO_BAND, dtype: int64"
      ]
     },
     "execution_count": 277,
     "metadata": {},
     "output_type": "execute_result"
    }
   ],
   "source": [
    "df.APPL_FICO_BAND[0:15]\n",
    "df.APPL_FICO_BAND[2499995:2500000]"
   ]
  },
  {
   "cell_type": "code",
   "execution_count": 136,
   "metadata": {
    "collapsed": false
   },
   "outputs": [
    {
     "data": {
      "text/plain": [
       "822"
      ]
     },
     "execution_count": 136,
     "metadata": {},
     "output_type": "execute_result"
    }
   ],
   "source": [
    "### test\n",
    "# string = '820-824'\n",
    "# j = int(string.split(\" \")[0].split(\"-\")[0])\n",
    "# k = int(string.split(\"-\")[1].split(\" \")[0])\n",
    "# avg = (j+k)//2\n",
    "# avg"
   ]
  },
  {
   "cell_type": "code",
   "execution_count": 29,
   "metadata": {
    "collapsed": false,
    "scrolled": true
   },
   "outputs": [
    {
     "name": "stdout",
     "output_type": "stream",
     "text": [
      "Counter({'690-694': 108070, '695-699': 106841, '700-704': 104151, '705-709': 101481, '685-689': 100710, '680-684': 100073, '710-714': 92929, '715-719': 91535, '675-679': 88671, '720-724': 86016, '670-674': 83270, '725-729': 76641, '730-734': 72321, '665-669': 71772, '735-739': 63763, '660-664': 62803, '740-744': 60198, '750-754': 51910, '745-749': 51862, '655-659': 51756, '755-759': 46932, 'MISSING': 45934, '650-654': 43801, '760-764': 42303, '765-769': 40318, '645-649': 38579, '770-774': 35637, '775-779': 34819, '640-644': 33304, '780-784': 31216, '635-639': 28111, '630-634': 26081, '785-789': 25182, '790-794': 24538, '625-629': 22805, '620-624': 21831, '795-799': 20801, '615-619': 18701, '610-614': 17644, '800-804': 17610, 'LOW-499': 15645, '605-609': 15522, '600-604': 14696, '805-809': 14089, '590-594': 13283, '595-599': 13209, '580-584': 11769, '585-589': 11611, '570-574': 10468, '810-814': 10391, '575-579': 10278, '565-569': 9455, '560-564': 9299, '815-819': 8719, '555-559': 8595, '550-554': 8392, '545-549': 7675, '540-544': 7601, '535-539': 6878, '530-534': 6306, '820-824': 5926, '525-529': 5787, '520-524': 5658, '515-519': 4811, '510-514': 4493, '825-829': 4317, '505-509': 3782, '500-504': 3499, '830-834': 2606, '835-839': 1323, '840-844': 771, '845-HIGH': 226})\n"
     ]
    }
   ],
   "source": [
    "## Count occurrences of every potential value of Last_FICO_BAND, note that some are \"MISSING\"\n",
    "\n",
    "import collections\n",
    "print(collections.Counter(line.rstrip().rpartition('    ')[-1] for line in df.Last_FICO_BAND))"
   ]
  },
  {
   "cell_type": "code",
   "execution_count": 266,
   "metadata": {
    "collapsed": false
   },
   "outputs": [
    {
     "name": "stdout",
     "output_type": "stream",
     "text": [
      "evaluating row 0\n",
      "evaluating row 100000\n",
      "evaluating row 200000\n",
      "evaluating row 300000\n",
      "evaluating row 400000\n",
      "evaluating row 500000\n",
      "evaluating row 600000\n",
      "evaluating row 700000\n",
      "evaluating row 800000\n",
      "evaluating row 900000\n",
      "evaluating row 1000000\n",
      "evaluating row 1100000\n",
      "evaluating row 1200000\n",
      "evaluating row 1300000\n",
      "evaluating row 1400000\n",
      "evaluating row 1500000\n",
      "evaluating row 1600000\n",
      "evaluating row 1700000\n",
      "evaluating row 1800000\n",
      "evaluating row 1900000\n",
      "evaluating row 2000000\n",
      "evaluating row 2100000\n",
      "evaluating row 2200000\n",
      "evaluating row 2300000\n",
      "evaluating row 2400000\n"
     ]
    }
   ],
   "source": [
    "## Convert Last_FICO_BAND to average\n",
    "\n",
    "n = len(df)\n",
    "\n",
    "Last_FICO_avg = []\n",
    "for i in range(0,n):\n",
    "    if i % 100000 == 0:\n",
    "        print(\"evaluating row %d\" %i)\n",
    "    string = df.iloc[i]['Last_FICO_BAND']\n",
    "    if string == 'MISSING':\n",
    "        Last_FICO_avg.append(0)\n",
    "    elif string == 'LOW-499':\n",
    "        Last_FICO_avg.append(400)\n",
    "    elif string == '845-HIGH':\n",
    "        Last_FICO_avg.append(848)\n",
    "    else:\n",
    "        j = int(string.split(\" \")[0].split(\"-\")[0])\n",
    "        k = int(string.split(\"-\")[1].split(\" \")[0])\n",
    "        avg = (j+k)//2\n",
    "        Last_FICO_avg.append(avg)"
   ]
  },
  {
   "cell_type": "code",
   "execution_count": 267,
   "metadata": {
    "collapsed": false
   },
   "outputs": [
    {
     "data": {
      "text/plain": [
       "2500000"
      ]
     },
     "execution_count": 267,
     "metadata": {},
     "output_type": "execute_result"
    }
   ],
   "source": [
    "len(Last_FICO_avg)"
   ]
  },
  {
   "cell_type": "code",
   "execution_count": 268,
   "metadata": {
    "collapsed": false
   },
   "outputs": [],
   "source": [
    "## Replace Last FICO band in dataframe with average calculated above\n",
    "\n",
    "df['Last_FICO_BAND'] = pd.Series(Last_FICO_avg, index=df.index)"
   ]
  },
  {
   "cell_type": "code",
   "execution_count": 270,
   "metadata": {
    "collapsed": false
   },
   "outputs": [
    {
     "data": {
      "text/plain": [
       "499989    697\n",
       "499990    717\n",
       "499991    737\n",
       "499992    737\n",
       "499993    722\n",
       "499994    712\n",
       "499995    652\n",
       "499996    652\n",
       "499997    672\n",
       "499998    672\n",
       "499999    677\n",
       "Name: Last_FICO_BAND, dtype: int64"
      ]
     },
     "execution_count": 270,
     "metadata": {},
     "output_type": "execute_result"
    }
   ],
   "source": [
    "df.Last_FICO_BAND[0:15]\n",
    "df.Last_FICO_BAND[2499989:2500000]"
   ]
  },
  {
   "cell_type": "code",
   "execution_count": 279,
   "metadata": {
    "collapsed": false
   },
   "outputs": [
    {
     "data": {
      "text/html": [
       "<div>\n",
       "<table border=\"1\" class=\"dataframe\">\n",
       "  <thead>\n",
       "    <tr style=\"text-align: right;\">\n",
       "      <th></th>\n",
       "      <th>EmploymentLength</th>\n",
       "      <th>currentpolicy</th>\n",
       "      <th>term</th>\n",
       "      <th>APPL_FICO_BAND</th>\n",
       "      <th>Last_FICO_BAND</th>\n",
       "      <th>PCO_RECOVERY</th>\n",
       "      <th>PCO_COLLECTION_FEE</th>\n",
       "    </tr>\n",
       "  </thead>\n",
       "  <tbody>\n",
       "    <tr>\n",
       "      <th>0</th>\n",
       "      <td>1</td>\n",
       "      <td>1</td>\n",
       "      <td>36</td>\n",
       "      <td>737</td>\n",
       "      <td>757</td>\n",
       "      <td>NaN</td>\n",
       "      <td>NaN</td>\n",
       "    </tr>\n",
       "    <tr>\n",
       "      <th>1</th>\n",
       "      <td>1</td>\n",
       "      <td>1</td>\n",
       "      <td>36</td>\n",
       "      <td>737</td>\n",
       "      <td>757</td>\n",
       "      <td>NaN</td>\n",
       "      <td>NaN</td>\n",
       "    </tr>\n",
       "    <tr>\n",
       "      <th>2</th>\n",
       "      <td>1</td>\n",
       "      <td>1</td>\n",
       "      <td>36</td>\n",
       "      <td>737</td>\n",
       "      <td>787</td>\n",
       "      <td>NaN</td>\n",
       "      <td>NaN</td>\n",
       "    </tr>\n",
       "    <tr>\n",
       "      <th>3</th>\n",
       "      <td>1</td>\n",
       "      <td>1</td>\n",
       "      <td>36</td>\n",
       "      <td>737</td>\n",
       "      <td>782</td>\n",
       "      <td>NaN</td>\n",
       "      <td>NaN</td>\n",
       "    </tr>\n",
       "    <tr>\n",
       "      <th>4</th>\n",
       "      <td>1</td>\n",
       "      <td>1</td>\n",
       "      <td>36</td>\n",
       "      <td>737</td>\n",
       "      <td>802</td>\n",
       "      <td>NaN</td>\n",
       "      <td>NaN</td>\n",
       "    </tr>\n",
       "  </tbody>\n",
       "</table>\n",
       "</div>"
      ],
      "text/plain": [
       "   EmploymentLength  currentpolicy  term  APPL_FICO_BAND  Last_FICO_BAND  \\\n",
       "0                 1              1    36             737             757   \n",
       "1                 1              1    36             737             757   \n",
       "2                 1              1    36             737             787   \n",
       "3                 1              1    36             737             782   \n",
       "4                 1              1    36             737             802   \n",
       "\n",
       "   PCO_RECOVERY  PCO_COLLECTION_FEE  \n",
       "0           NaN                 NaN  \n",
       "1           NaN                 NaN  \n",
       "2           NaN                 NaN  \n",
       "3           NaN                 NaN  \n",
       "4           NaN                 NaN  "
      ]
     },
     "execution_count": 279,
     "metadata": {},
     "output_type": "execute_result"
    }
   ],
   "source": [
    "df.iloc[:5,25:32]"
   ]
  },
  {
   "cell_type": "code",
   "execution_count": 241,
   "metadata": {
    "collapsed": false
   },
   "outputs": [
    {
     "data": {
      "text/plain": [
       "0    FEB1994\n",
       "1    FEB1994\n",
       "2    FEB1994\n",
       "3    FEB1994\n",
       "4    FEB1994\n",
       "5    FEB1994\n",
       "6    FEB1994\n",
       "7    FEB1994\n",
       "8    FEB1994\n",
       "9    FEB1994\n",
       "Name: EarliestCREDITLine, dtype: object"
      ]
     },
     "execution_count": 241,
     "metadata": {},
     "output_type": "execute_result"
    }
   ],
   "source": [
    "df['EarliestCREDITLine'][0:5]"
   ]
  },
  {
   "cell_type": "code",
   "execution_count": 242,
   "metadata": {
    "collapsed": true
   },
   "outputs": [],
   "source": [
    "## Convert Earliest Credit Line to number of months\n",
    "from datetime import datetime\n",
    "\n",
    "df['EarliestCREDITLine'] =  pd.to_datetime(df['EarliestCREDITLine'], format='%b%Y')"
   ]
  },
  {
   "cell_type": "code",
   "execution_count": 271,
   "metadata": {
    "collapsed": false,
    "scrolled": false
   },
   "outputs": [
    {
     "ename": "KeyError",
     "evalue": "'EarliestCREDITLine'",
     "output_type": "error",
     "traceback": [
      "\u001b[0;31m---------------------------------------------------------------------------\u001b[0m",
      "\u001b[0;31mKeyError\u001b[0m                                  Traceback (most recent call last)",
      "\u001b[0;32m/Users/Greer/anaconda3/lib/python3.5/site-packages/pandas/indexes/base.py\u001b[0m in \u001b[0;36mget_loc\u001b[0;34m(self, key, method, tolerance)\u001b[0m\n\u001b[1;32m   1944\u001b[0m             \u001b[0;32mtry\u001b[0m\u001b[0;34m:\u001b[0m\u001b[0;34m\u001b[0m\u001b[0m\n\u001b[0;32m-> 1945\u001b[0;31m                 \u001b[0;32mreturn\u001b[0m \u001b[0mself\u001b[0m\u001b[0;34m.\u001b[0m\u001b[0m_engine\u001b[0m\u001b[0;34m.\u001b[0m\u001b[0mget_loc\u001b[0m\u001b[0;34m(\u001b[0m\u001b[0mkey\u001b[0m\u001b[0;34m)\u001b[0m\u001b[0;34m\u001b[0m\u001b[0m\n\u001b[0m\u001b[1;32m   1946\u001b[0m             \u001b[0;32mexcept\u001b[0m \u001b[0mKeyError\u001b[0m\u001b[0;34m:\u001b[0m\u001b[0;34m\u001b[0m\u001b[0m\n",
      "\u001b[0;32mpandas/index.pyx\u001b[0m in \u001b[0;36mpandas.index.IndexEngine.get_loc (pandas/index.c:4154)\u001b[0;34m()\u001b[0m\n",
      "\u001b[0;32mpandas/index.pyx\u001b[0m in \u001b[0;36mpandas.index.IndexEngine.get_loc (pandas/index.c:4018)\u001b[0;34m()\u001b[0m\n",
      "\u001b[0;32mpandas/hashtable.pyx\u001b[0m in \u001b[0;36mpandas.hashtable.PyObjectHashTable.get_item (pandas/hashtable.c:12368)\u001b[0;34m()\u001b[0m\n",
      "\u001b[0;32mpandas/hashtable.pyx\u001b[0m in \u001b[0;36mpandas.hashtable.PyObjectHashTable.get_item (pandas/hashtable.c:12322)\u001b[0;34m()\u001b[0m\n",
      "\u001b[0;31mKeyError\u001b[0m: 'EarliestCREDITLine'",
      "\nDuring handling of the above exception, another exception occurred:\n",
      "\u001b[0;31mKeyError\u001b[0m                                  Traceback (most recent call last)",
      "\u001b[0;32m<ipython-input-271-ecedf24890ad>\u001b[0m in \u001b[0;36m<module>\u001b[0;34m()\u001b[0m\n\u001b[0;32m----> 1\u001b[0;31m \u001b[0mdf\u001b[0m\u001b[0;34m[\u001b[0m\u001b[0;34m'EarliestCREDITLine'\u001b[0m\u001b[0;34m]\u001b[0m\u001b[0;34m[\u001b[0m\u001b[0;36m2499989\u001b[0m\u001b[0;34m:\u001b[0m\u001b[0mn\u001b[0m\u001b[0;34m]\u001b[0m\u001b[0;34m\u001b[0m\u001b[0m\n\u001b[0m",
      "\u001b[0;32m/Users/Greer/anaconda3/lib/python3.5/site-packages/pandas/core/frame.py\u001b[0m in \u001b[0;36m__getitem__\u001b[0;34m(self, key)\u001b[0m\n\u001b[1;32m   1995\u001b[0m             \u001b[0;32mreturn\u001b[0m \u001b[0mself\u001b[0m\u001b[0;34m.\u001b[0m\u001b[0m_getitem_multilevel\u001b[0m\u001b[0;34m(\u001b[0m\u001b[0mkey\u001b[0m\u001b[0;34m)\u001b[0m\u001b[0;34m\u001b[0m\u001b[0m\n\u001b[1;32m   1996\u001b[0m         \u001b[0;32melse\u001b[0m\u001b[0;34m:\u001b[0m\u001b[0;34m\u001b[0m\u001b[0m\n\u001b[0;32m-> 1997\u001b[0;31m             \u001b[0;32mreturn\u001b[0m \u001b[0mself\u001b[0m\u001b[0;34m.\u001b[0m\u001b[0m_getitem_column\u001b[0m\u001b[0;34m(\u001b[0m\u001b[0mkey\u001b[0m\u001b[0;34m)\u001b[0m\u001b[0;34m\u001b[0m\u001b[0m\n\u001b[0m\u001b[1;32m   1998\u001b[0m \u001b[0;34m\u001b[0m\u001b[0m\n\u001b[1;32m   1999\u001b[0m     \u001b[0;32mdef\u001b[0m \u001b[0m_getitem_column\u001b[0m\u001b[0;34m(\u001b[0m\u001b[0mself\u001b[0m\u001b[0;34m,\u001b[0m \u001b[0mkey\u001b[0m\u001b[0;34m)\u001b[0m\u001b[0;34m:\u001b[0m\u001b[0;34m\u001b[0m\u001b[0m\n",
      "\u001b[0;32m/Users/Greer/anaconda3/lib/python3.5/site-packages/pandas/core/frame.py\u001b[0m in \u001b[0;36m_getitem_column\u001b[0;34m(self, key)\u001b[0m\n\u001b[1;32m   2002\u001b[0m         \u001b[0;31m# get column\u001b[0m\u001b[0;34m\u001b[0m\u001b[0;34m\u001b[0m\u001b[0m\n\u001b[1;32m   2003\u001b[0m         \u001b[0;32mif\u001b[0m \u001b[0mself\u001b[0m\u001b[0;34m.\u001b[0m\u001b[0mcolumns\u001b[0m\u001b[0;34m.\u001b[0m\u001b[0mis_unique\u001b[0m\u001b[0;34m:\u001b[0m\u001b[0;34m\u001b[0m\u001b[0m\n\u001b[0;32m-> 2004\u001b[0;31m             \u001b[0;32mreturn\u001b[0m \u001b[0mself\u001b[0m\u001b[0;34m.\u001b[0m\u001b[0m_get_item_cache\u001b[0m\u001b[0;34m(\u001b[0m\u001b[0mkey\u001b[0m\u001b[0;34m)\u001b[0m\u001b[0;34m\u001b[0m\u001b[0m\n\u001b[0m\u001b[1;32m   2005\u001b[0m \u001b[0;34m\u001b[0m\u001b[0m\n\u001b[1;32m   2006\u001b[0m         \u001b[0;31m# duplicate columns & possible reduce dimensionality\u001b[0m\u001b[0;34m\u001b[0m\u001b[0;34m\u001b[0m\u001b[0m\n",
      "\u001b[0;32m/Users/Greer/anaconda3/lib/python3.5/site-packages/pandas/core/generic.py\u001b[0m in \u001b[0;36m_get_item_cache\u001b[0;34m(self, item)\u001b[0m\n\u001b[1;32m   1348\u001b[0m         \u001b[0mres\u001b[0m \u001b[0;34m=\u001b[0m \u001b[0mcache\u001b[0m\u001b[0;34m.\u001b[0m\u001b[0mget\u001b[0m\u001b[0;34m(\u001b[0m\u001b[0mitem\u001b[0m\u001b[0;34m)\u001b[0m\u001b[0;34m\u001b[0m\u001b[0m\n\u001b[1;32m   1349\u001b[0m         \u001b[0;32mif\u001b[0m \u001b[0mres\u001b[0m \u001b[0;32mis\u001b[0m \u001b[0;32mNone\u001b[0m\u001b[0;34m:\u001b[0m\u001b[0;34m\u001b[0m\u001b[0m\n\u001b[0;32m-> 1350\u001b[0;31m             \u001b[0mvalues\u001b[0m \u001b[0;34m=\u001b[0m \u001b[0mself\u001b[0m\u001b[0;34m.\u001b[0m\u001b[0m_data\u001b[0m\u001b[0;34m.\u001b[0m\u001b[0mget\u001b[0m\u001b[0;34m(\u001b[0m\u001b[0mitem\u001b[0m\u001b[0;34m)\u001b[0m\u001b[0;34m\u001b[0m\u001b[0m\n\u001b[0m\u001b[1;32m   1351\u001b[0m             \u001b[0mres\u001b[0m \u001b[0;34m=\u001b[0m \u001b[0mself\u001b[0m\u001b[0;34m.\u001b[0m\u001b[0m_box_item_values\u001b[0m\u001b[0;34m(\u001b[0m\u001b[0mitem\u001b[0m\u001b[0;34m,\u001b[0m \u001b[0mvalues\u001b[0m\u001b[0;34m)\u001b[0m\u001b[0;34m\u001b[0m\u001b[0m\n\u001b[1;32m   1352\u001b[0m             \u001b[0mcache\u001b[0m\u001b[0;34m[\u001b[0m\u001b[0mitem\u001b[0m\u001b[0;34m]\u001b[0m \u001b[0;34m=\u001b[0m \u001b[0mres\u001b[0m\u001b[0;34m\u001b[0m\u001b[0m\n",
      "\u001b[0;32m/Users/Greer/anaconda3/lib/python3.5/site-packages/pandas/core/internals.py\u001b[0m in \u001b[0;36mget\u001b[0;34m(self, item, fastpath)\u001b[0m\n\u001b[1;32m   3288\u001b[0m \u001b[0;34m\u001b[0m\u001b[0m\n\u001b[1;32m   3289\u001b[0m             \u001b[0;32mif\u001b[0m \u001b[0;32mnot\u001b[0m \u001b[0misnull\u001b[0m\u001b[0;34m(\u001b[0m\u001b[0mitem\u001b[0m\u001b[0;34m)\u001b[0m\u001b[0;34m:\u001b[0m\u001b[0;34m\u001b[0m\u001b[0m\n\u001b[0;32m-> 3290\u001b[0;31m                 \u001b[0mloc\u001b[0m \u001b[0;34m=\u001b[0m \u001b[0mself\u001b[0m\u001b[0;34m.\u001b[0m\u001b[0mitems\u001b[0m\u001b[0;34m.\u001b[0m\u001b[0mget_loc\u001b[0m\u001b[0;34m(\u001b[0m\u001b[0mitem\u001b[0m\u001b[0;34m)\u001b[0m\u001b[0;34m\u001b[0m\u001b[0m\n\u001b[0m\u001b[1;32m   3291\u001b[0m             \u001b[0;32melse\u001b[0m\u001b[0;34m:\u001b[0m\u001b[0;34m\u001b[0m\u001b[0m\n\u001b[1;32m   3292\u001b[0m                 \u001b[0mindexer\u001b[0m \u001b[0;34m=\u001b[0m \u001b[0mnp\u001b[0m\u001b[0;34m.\u001b[0m\u001b[0marange\u001b[0m\u001b[0;34m(\u001b[0m\u001b[0mlen\u001b[0m\u001b[0;34m(\u001b[0m\u001b[0mself\u001b[0m\u001b[0;34m.\u001b[0m\u001b[0mitems\u001b[0m\u001b[0;34m)\u001b[0m\u001b[0;34m)\u001b[0m\u001b[0;34m[\u001b[0m\u001b[0misnull\u001b[0m\u001b[0;34m(\u001b[0m\u001b[0mself\u001b[0m\u001b[0;34m.\u001b[0m\u001b[0mitems\u001b[0m\u001b[0;34m)\u001b[0m\u001b[0;34m]\u001b[0m\u001b[0;34m\u001b[0m\u001b[0m\n",
      "\u001b[0;32m/Users/Greer/anaconda3/lib/python3.5/site-packages/pandas/indexes/base.py\u001b[0m in \u001b[0;36mget_loc\u001b[0;34m(self, key, method, tolerance)\u001b[0m\n\u001b[1;32m   1945\u001b[0m                 \u001b[0;32mreturn\u001b[0m \u001b[0mself\u001b[0m\u001b[0;34m.\u001b[0m\u001b[0m_engine\u001b[0m\u001b[0;34m.\u001b[0m\u001b[0mget_loc\u001b[0m\u001b[0;34m(\u001b[0m\u001b[0mkey\u001b[0m\u001b[0;34m)\u001b[0m\u001b[0;34m\u001b[0m\u001b[0m\n\u001b[1;32m   1946\u001b[0m             \u001b[0;32mexcept\u001b[0m \u001b[0mKeyError\u001b[0m\u001b[0;34m:\u001b[0m\u001b[0;34m\u001b[0m\u001b[0m\n\u001b[0;32m-> 1947\u001b[0;31m                 \u001b[0;32mreturn\u001b[0m \u001b[0mself\u001b[0m\u001b[0;34m.\u001b[0m\u001b[0m_engine\u001b[0m\u001b[0;34m.\u001b[0m\u001b[0mget_loc\u001b[0m\u001b[0;34m(\u001b[0m\u001b[0mself\u001b[0m\u001b[0;34m.\u001b[0m\u001b[0m_maybe_cast_indexer\u001b[0m\u001b[0;34m(\u001b[0m\u001b[0mkey\u001b[0m\u001b[0;34m)\u001b[0m\u001b[0;34m)\u001b[0m\u001b[0;34m\u001b[0m\u001b[0m\n\u001b[0m\u001b[1;32m   1948\u001b[0m \u001b[0;34m\u001b[0m\u001b[0m\n\u001b[1;32m   1949\u001b[0m         \u001b[0mindexer\u001b[0m \u001b[0;34m=\u001b[0m \u001b[0mself\u001b[0m\u001b[0;34m.\u001b[0m\u001b[0mget_indexer\u001b[0m\u001b[0;34m(\u001b[0m\u001b[0;34m[\u001b[0m\u001b[0mkey\u001b[0m\u001b[0;34m]\u001b[0m\u001b[0;34m,\u001b[0m \u001b[0mmethod\u001b[0m\u001b[0;34m=\u001b[0m\u001b[0mmethod\u001b[0m\u001b[0;34m,\u001b[0m \u001b[0mtolerance\u001b[0m\u001b[0;34m=\u001b[0m\u001b[0mtolerance\u001b[0m\u001b[0;34m)\u001b[0m\u001b[0;34m\u001b[0m\u001b[0m\n",
      "\u001b[0;32mpandas/index.pyx\u001b[0m in \u001b[0;36mpandas.index.IndexEngine.get_loc (pandas/index.c:4154)\u001b[0;34m()\u001b[0m\n",
      "\u001b[0;32mpandas/index.pyx\u001b[0m in \u001b[0;36mpandas.index.IndexEngine.get_loc (pandas/index.c:4018)\u001b[0;34m()\u001b[0m\n",
      "\u001b[0;32mpandas/hashtable.pyx\u001b[0m in \u001b[0;36mpandas.hashtable.PyObjectHashTable.get_item (pandas/hashtable.c:12368)\u001b[0;34m()\u001b[0m\n",
      "\u001b[0;32mpandas/hashtable.pyx\u001b[0m in \u001b[0;36mpandas.hashtable.PyObjectHashTable.get_item (pandas/hashtable.c:12322)\u001b[0;34m()\u001b[0m\n",
      "\u001b[0;31mKeyError\u001b[0m: 'EarliestCREDITLine'"
     ]
    }
   ],
   "source": [
    "df['EarliestCREDITLine'][2499989:n]"
   ]
  },
  {
   "cell_type": "code",
   "execution_count": 247,
   "metadata": {
    "collapsed": true
   },
   "outputs": [],
   "source": [
    "def diff_month(d1, d2):\n",
    "    return (d1.year - d2.year)*12 + d1.month - d2.month\n",
    "\n",
    "d2 = pd.datetime.now()\n",
    "CreditMonths = []\n",
    "\n",
    "for i in range(0,n):\n",
    "    d1 = df['EarliestCREDITLine'].iloc[i]\n",
    "    diff = diff_month(d2,d1)\n",
    "    CreditMonths.append(diff)\n",
    "    "
   ]
  },
  {
   "cell_type": "code",
   "execution_count": 272,
   "metadata": {
    "collapsed": false
   },
   "outputs": [
    {
     "data": {
      "text/plain": [
       "[201, 201, 201, 201, 201, 201, 221, 221, 221, 221, 221]"
      ]
     },
     "execution_count": 272,
     "metadata": {},
     "output_type": "execute_result"
    }
   ],
   "source": [
    "CreditMonths[2499989:n]"
   ]
  },
  {
   "cell_type": "code",
   "execution_count": 249,
   "metadata": {
    "collapsed": false
   },
   "outputs": [
    {
     "data": {
      "text/plain": [
       "2500000"
      ]
     },
     "execution_count": 249,
     "metadata": {},
     "output_type": "execute_result"
    }
   ],
   "source": [
    "len(CreditMonths)"
   ]
  },
  {
   "cell_type": "code",
   "execution_count": null,
   "metadata": {
    "collapsed": true
   },
   "outputs": [],
   "source": [
    "#CreditMonths.insert(0,0)\n",
    "\n",
    "df['EarliestCreditMonths'] = pd.Series(CreditMonths, index=df.index)"
   ]
  },
  {
   "cell_type": "code",
   "execution_count": 280,
   "metadata": {
    "collapsed": false
   },
   "outputs": [
    {
     "data": {
      "text/html": [
       "<div>\n",
       "<table border=\"1\" class=\"dataframe\">\n",
       "  <thead>\n",
       "    <tr style=\"text-align: right;\">\n",
       "      <th></th>\n",
       "      <th>PCO_COLLECTION_FEE</th>\n",
       "      <th>EarliestCreditMonths</th>\n",
       "    </tr>\n",
       "  </thead>\n",
       "  <tbody>\n",
       "    <tr>\n",
       "      <th>0</th>\n",
       "      <td>NaN</td>\n",
       "      <td>275.0</td>\n",
       "    </tr>\n",
       "    <tr>\n",
       "      <th>1</th>\n",
       "      <td>NaN</td>\n",
       "      <td>275.0</td>\n",
       "    </tr>\n",
       "    <tr>\n",
       "      <th>2</th>\n",
       "      <td>NaN</td>\n",
       "      <td>275.0</td>\n",
       "    </tr>\n",
       "    <tr>\n",
       "      <th>3</th>\n",
       "      <td>NaN</td>\n",
       "      <td>275.0</td>\n",
       "    </tr>\n",
       "  </tbody>\n",
       "</table>\n",
       "</div>"
      ],
      "text/plain": [
       "   PCO_COLLECTION_FEE  EarliestCreditMonths\n",
       "0                 NaN                 275.0\n",
       "1                 NaN                 275.0\n",
       "2                 NaN                 275.0\n",
       "3                 NaN                 275.0"
      ]
     },
     "execution_count": 280,
     "metadata": {},
     "output_type": "execute_result"
    }
   ],
   "source": [
    "## Check CreditMonths column\n",
    "df.iloc[:4,31:42]"
   ]
  },
  {
   "cell_type": "code",
   "execution_count": 251,
   "metadata": {
    "collapsed": false
   },
   "outputs": [],
   "source": [
    "## Drop some string vars\n",
    "df.drop(['RECEIVED_D', 'PERIOD_END_LSTAT', 'MONTH', 'IssuedDate', 'State', 'VINTAGE', 'grade', 'EarliestCREDITLine'], \n",
    "        axis=1, inplace=True)"
   ]
  },
  {
   "cell_type": "code",
   "execution_count": null,
   "metadata": {
    "collapsed": true
   },
   "outputs": [],
   "source": [
    "## Fill in NaN in any existing place\n",
    "df.fillna(0.0,inplace=True)\n",
    "df.fillna(0,inplace=True)"
   ]
  },
  {
   "cell_type": "code",
   "execution_count": 281,
   "metadata": {
    "collapsed": false
   },
   "outputs": [],
   "source": [
    "df.to_csv(\"LC_subset.csv\")"
   ]
  }
 ],
 "metadata": {
  "anaconda-cloud": {},
  "kernelspec": {
   "display_name": "Python [default]",
   "language": "python",
   "name": "python3"
  },
  "language_info": {
   "codemirror_mode": {
    "name": "ipython",
    "version": 3
   },
   "file_extension": ".py",
   "mimetype": "text/x-python",
   "name": "python",
   "nbconvert_exporter": "python",
   "pygments_lexer": "ipython3",
   "version": "3.5.2"
  }
 },
 "nbformat": 4,
 "nbformat_minor": 1
}
