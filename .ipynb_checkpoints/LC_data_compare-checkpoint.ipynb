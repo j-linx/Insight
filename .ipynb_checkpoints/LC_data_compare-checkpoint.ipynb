{
 "cells": [
  {
   "cell_type": "code",
   "execution_count": 11,
   "metadata": {
    "collapsed": true
   },
   "outputs": [],
   "source": [
    "LC_publicdata_var = [\"loan_id\",\"member_id\",\"loan_amnt\",\"funded_amnt\",\"funded_amnt_inv\",\"term\",\"int_rate\",\"installment\",\n",
    "                 \"grade\",\"sub_grade\",\"emp_title\",\"emp_length\",\"home_ownership\",\"annual_inc\",\"verification_status\",\n",
    "                 \"issue_d\",\"loan_status\",\"pymnt_plan\",\"url\",\"desc\",\"purpose\",\"title\",\"zip_code\",\"addr_state\",\"dti\",\n",
    "                 \"delinq_2yrs\",\"earliest_cr_line\",\"inq_last_6mths\",\"mths_since_last_delinq\",\"mths_since_last_record\",\n",
    "                 \"open_acc\",\"pub_rec\",\"revol_bal\",\"revol_util\",\"total_acc\",\"initial_list_status\",\"out_prncp\",\n",
    "                 \"out_prncp_inv\",\"total_pymnt\",\"total_pymnt_inv\",\"total_rec_prncp\",\"total_rec_int\",\n",
    "                 \"total_rec_late_fee\",\"recoveries\",\"collection_recovery_fee\",\"last_pymnt_d\",\"last_pymnt_amnt\",\n",
    "                 \"next_pymnt_d\",\"last_credit_pull_d\",\"collections_12_mths_ex_med\",\"mths_since_last_major_derog\",\n",
    "                 \"policy_code\",\"application_type\",\"annual_inc_joint\",\"dti_joint\",\"verification_status_joint\",\n",
    "                 \"acc_now_delinq\",\"tot_coll_amt\",\"tot_cur_bal\",\"open_acc_6m\",\"open_il_6m\",\"open_il_12m\",\"open_il_24m\",\n",
    "                 \"mths_since_rcnt_il\",\"total_bal_il\",\"il_util\",\"open_rv_12m\",\"open_rv_24m\",\"max_bal_bc\",\"all_util\",\n",
    "                 \"total_rev_hi_lim\",\"inq_fi\",\"total_cu_tl\",\"inq_last_12m\",\"acc_open_past_24mths\",\"avg_cur_bal\",\n",
    "                 \"bc_open_to_buy\",\"bc_util\",\"chargeoff_within_12_mths\",\"delinq_amnt\",\"mo_sin_old_il_acct\",\n",
    "                 \"mo_sin_old_rev_tl_op\",\"mo_sin_rcnt_rev_tl_op\",\"mo_sin_rcnt_tl\",\"mort_acc\",\"mths_since_recent_bc\",\n",
    "                 \"mths_since_recent_bc_dlq\",\"mths_since_recent_inq\",\"mths_since_recent_revol_delinq\",\n",
    "                 \"num_accts_ever_120_pd\",\"num_actv_bc_tl\",\"num_actv_rev_tl\",\"num_bc_sats\",\"num_bc_tl\",\"num_il_tl\",\n",
    "                 \"num_op_rev_tl\",\"num_rev_accts\",\"num_rev_tl_bal_gt_0\",\"num_sats\",\"num_tl_120dpd_2m\",\"num_tl_30dpd\",\n",
    "                 \"num_tl_90g_dpd_24m\",\"num_tl_op_past_12m\",\"pct_tl_nvr_dlq\",\"percent_bc_gt_75\",\"pub_rec_bankruptcies\",\n",
    "                 \"tax_liens\",\"tot_hi_cred_lim\",\"total_bal_ex_mort\",\"total_bc_limit\",\"total_il_high_credit_limit\"]"
   ]
  },
  {
   "cell_type": "code",
   "execution_count": 27,
   "metadata": {
    "collapsed": false
   },
   "outputs": [],
   "source": [
    "LC_misha_var = ['LOAN_ID', 'PBAL_BEG_PERIOD', 'PRNCP_PAID', 'INT_PAID', 'FEE_PAID', 'DUE_AMT', 'RECEIVED_AMT', \n",
    "                'RECEIVED_D', 'PERIOD_END_LSTAT', 'MONTH', 'PBAL_END_PERIOD', 'MOB', 'CO', 'COAMT', 'InterestRate', \n",
    "                'IssuedDate', 'MONTHLYCONTRACTAMT', 'dti', 'State', 'HomeOwnership', 'MonthlyIncome', \n",
    "                'EarliestCREDITLine', 'OpenCREDITLines', 'TotalCREDITLines', 'RevolvingCREDITBalance', \n",
    "                'RevolvingLineUtilization', 'Inquiries6M', 'DQ2yrs', 'MonthsSinceDQ', 'PublicRec', \n",
    "                'MonthsSinceLastRec', 'EmploymentLength', 'currentpolicy', 'grade', 'term', 'APPL_FICO_BAND', \n",
    "                'Last_FICO_BAND', 'VINTAGE', 'PCO_RECOVERY', 'PCO_COLLECTION_FEE']\n",
    "# Note: Term = LoanLength, duration of loan repayment 36 months/pmts (3 yrs) or 60 months (5 yrs)\n",
    "# Vintage = age of loan initiation (starting from 2008, seemingly)\n",
    "# PCO_RECOVERY = post charge-off gross recovery\n",
    "# PCO_COLLECTION_FEE = post charge off collection fee\n",
    "# MOB = months on book\n",
    "# CO = probably co-signer status\n",
    "# PubRec = Number of derogatory public records\n",
    "# Due_Amt = Monthly Payment from LC_invest_var\n",
    "# currentpolicy = is policy currently active or not?\n",
    "\n",
    "###### VARS THAT ARE CONFOUNDING TO DQ STATUS (PRIMARILY DUE TO TIMING) #######\n",
    "# PCO_*, Last_FICO_Band?\n",
    "\n",
    "LC_misha_var.remove('PCO_RECOVERY')\n",
    "#?? LC_misha_var.remove('PCO_COLLECTION_FEE') perhaps this determines 'Collections_exMed'\n",
    "LC_misha_var.remove('Last_FICO_BAND')\n",
    "LC_misha_var.remove('VINTAGE')\n",
    "LC_misha_var.remove('currentpolicy')\n",
    "LC_misha_var.remove('grade')"
   ]
  },
  {
   "cell_type": "code",
   "execution_count": 24,
   "metadata": {
    "collapsed": false
   },
   "outputs": [],
   "source": [
    "LC_invest_var = ['AMT','PURPOSE','GRADE','INTERESTRATE','LOANLENGTH','MON_PMT','STATUS','FUNDING_REC','NUM_INVESTORS',\n",
    "                'SUBMIT_DATE','HOMEOWNERSHIP','JOB_TITLE','EMP_LENGTH','MON_INCOME','DTI','STATE','APPL_FICO_BAND',\n",
    "                'EARLIESTCREDIT','OPENCRLINES','TOTCRLINES','RevolvingCREDITBalance','RevolvingLineUtilization',\n",
    "                 'Inquiries6M','ACCS_DQ','DQ_AMT','DQ2yrs','MonthsSinceDQ','PublicRec','MonthsSinceLastRec',\n",
    "                 'MonthsSinceLastDerog','Collections_exMed']\n",
    "\n",
    "# Vars that are here but not in Misha vars: ACCS_DQ, DQ_AMT, MonthsSinceLastDerog, Job_Title, Submit_Date, Funding_Rec, \n",
    "# Status, Num_Investors, Collections_exMed, Purpose, Grade\n",
    "LC_invest_var.remove('PURPOSE')\n",
    "LC_invest_var.remove('GRADE')\n",
    "LC_invest_var.remove('SUBMIT_DATE')\n",
    "LC_invest_var.remove('FUNDING_REC')\n",
    "LC_invest_var.remove('STATUS')\n",
    "LC_invest_var.remove('NUM_INVESTORS')\n",
    "LC_invest_var.remove('JOB_TITLE')\n",
    "LC_invest_var.remove('MonthsSinceLastDerog')\n",
    "#?? LC_invest_var.remove('Collections_exMed')\n",
    "#?? LC_invest_var.remove()\n",
    "# MonthsSinceLastDerog = Months since most recent 90-day or worse rating"
   ]
  },
  {
   "cell_type": "code",
   "execution_count": 12,
   "metadata": {
    "collapsed": false
   },
   "outputs": [
    {
     "data": {
      "text/plain": [
       "111"
      ]
     },
     "execution_count": 12,
     "metadata": {},
     "output_type": "execute_result"
    }
   ],
   "source": [
    "len(LC_publicdata_var)"
   ]
  },
  {
   "cell_type": "code",
   "execution_count": 28,
   "metadata": {
    "collapsed": false
   },
   "outputs": [
    {
     "data": {
      "text/plain": [
       "37"
      ]
     },
     "execution_count": 28,
     "metadata": {},
     "output_type": "execute_result"
    }
   ],
   "source": [
    "len(LC_misha_var)"
   ]
  },
  {
   "cell_type": "code",
   "execution_count": 25,
   "metadata": {
    "collapsed": false
   },
   "outputs": [
    {
     "data": {
      "text/plain": [
       "23"
      ]
     },
     "execution_count": 25,
     "metadata": {},
     "output_type": "execute_result"
    }
   ],
   "source": [
    "len(LC_invest_var)"
   ]
  }
 ],
 "metadata": {
  "kernelspec": {
   "display_name": "Python [default]",
   "language": "python",
   "name": "python3"
  },
  "language_info": {
   "codemirror_mode": {
    "name": "ipython",
    "version": 3
   },
   "file_extension": ".py",
   "mimetype": "text/x-python",
   "name": "python",
   "nbconvert_exporter": "python",
   "pygments_lexer": "ipython3",
   "version": "3.5.2"
  }
 },
 "nbformat": 4,
 "nbformat_minor": 1
}
