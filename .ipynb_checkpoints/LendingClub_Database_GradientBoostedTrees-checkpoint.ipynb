{
 "cells": [
  {
   "cell_type": "code",
   "execution_count": 9,
   "metadata": {
    "collapsed": true
   },
   "outputs": [],
   "source": [
    "import os\n",
    "os.chdir(r\"/Users/Greer/Desktop/Lending Club - JL\")\n",
    "\n",
    "import numpy as np\n",
    "import pandas as pd\n",
    "import seaborn as sns"
   ]
  },
  {
   "cell_type": "markdown",
   "metadata": {
    "collapsed": true
   },
   "source": [
    "# Import LC_UniqLoansEnded_All (All Unique Loan IDs, final period, from LC)"
   ]
  },
  {
   "cell_type": "code",
   "execution_count": 2,
   "metadata": {
    "collapsed": false
   },
   "outputs": [
    {
     "name": "stdout",
     "output_type": "stream",
     "text": [
      "['', 'loan_amnt', 'int_rate', 'term', 'installment', 'funded_amnt', 'emp_length', 'annual_inc', 'dti', 'open_acc', 'total_acc', 'revol_bal', 'revol_util', 'inq_last_6mths', 'acc_now_delinq', 'delinq_amnt', 'delinq_2yrs', 'mths_since_last_delinq', 'pub_rec', 'mths_since_last_record', 'mths_since_last_major_derog', 'collections_12_mths_ex_med', 'state', 'HomeOwnCat', 'GradeCat', 'Purpose', 'EarliestCreditMonths', 'Default']\n"
     ]
    }
   ],
   "source": [
    "import csv\n",
    "\n",
    "## Check the attributes list\n",
    "with open(\"LC_database_all_clean.csv\", newline='') as f:\n",
    "  reader = csv.reader(f)\n",
    "  row1 = next(reader)\n",
    "    \n",
    "print(row1)"
   ]
  },
  {
   "cell_type": "code",
   "execution_count": 10,
   "metadata": {
    "collapsed": false
   },
   "outputs": [
    {
     "data": {
      "text/html": [
       "<div>\n",
       "<table border=\"1\" class=\"dataframe\">\n",
       "  <thead>\n",
       "    <tr style=\"text-align: right;\">\n",
       "      <th></th>\n",
       "      <th>Unnamed: 0</th>\n",
       "      <th>loan_amnt</th>\n",
       "      <th>int_rate</th>\n",
       "      <th>term</th>\n",
       "      <th>installment</th>\n",
       "      <th>funded_amnt</th>\n",
       "      <th>emp_length</th>\n",
       "      <th>annual_inc</th>\n",
       "      <th>dti</th>\n",
       "      <th>open_acc</th>\n",
       "      <th>...</th>\n",
       "      <th>pub_rec</th>\n",
       "      <th>mths_since_last_record</th>\n",
       "      <th>mths_since_last_major_derog</th>\n",
       "      <th>collections_12_mths_ex_med</th>\n",
       "      <th>state</th>\n",
       "      <th>HomeOwnCat</th>\n",
       "      <th>GradeCat</th>\n",
       "      <th>Purpose</th>\n",
       "      <th>EarliestCreditMonths</th>\n",
       "      <th>Default</th>\n",
       "    </tr>\n",
       "  </thead>\n",
       "  <tbody>\n",
       "    <tr>\n",
       "      <th>0</th>\n",
       "      <td>0</td>\n",
       "      <td>5000.0</td>\n",
       "      <td>10.65</td>\n",
       "      <td>36.0</td>\n",
       "      <td>162.87</td>\n",
       "      <td>5000.0</td>\n",
       "      <td>10</td>\n",
       "      <td>24000.0</td>\n",
       "      <td>27.65</td>\n",
       "      <td>3.0</td>\n",
       "      <td>...</td>\n",
       "      <td>0.0</td>\n",
       "      <td>0.0</td>\n",
       "      <td>0.0</td>\n",
       "      <td>0.0</td>\n",
       "      <td>3</td>\n",
       "      <td>5</td>\n",
       "      <td>1</td>\n",
       "      <td>1</td>\n",
       "      <td>384.0</td>\n",
       "      <td>0</td>\n",
       "    </tr>\n",
       "    <tr>\n",
       "      <th>1</th>\n",
       "      <td>1</td>\n",
       "      <td>2500.0</td>\n",
       "      <td>15.27</td>\n",
       "      <td>60.0</td>\n",
       "      <td>59.83</td>\n",
       "      <td>2500.0</td>\n",
       "      <td>1</td>\n",
       "      <td>30000.0</td>\n",
       "      <td>1.00</td>\n",
       "      <td>3.0</td>\n",
       "      <td>...</td>\n",
       "      <td>0.0</td>\n",
       "      <td>0.0</td>\n",
       "      <td>0.0</td>\n",
       "      <td>0.0</td>\n",
       "      <td>10</td>\n",
       "      <td>5</td>\n",
       "      <td>2</td>\n",
       "      <td>0</td>\n",
       "      <td>213.0</td>\n",
       "      <td>1</td>\n",
       "    </tr>\n",
       "    <tr>\n",
       "      <th>2</th>\n",
       "      <td>2</td>\n",
       "      <td>2400.0</td>\n",
       "      <td>15.96</td>\n",
       "      <td>36.0</td>\n",
       "      <td>84.33</td>\n",
       "      <td>2400.0</td>\n",
       "      <td>10</td>\n",
       "      <td>12252.0</td>\n",
       "      <td>8.72</td>\n",
       "      <td>2.0</td>\n",
       "      <td>...</td>\n",
       "      <td>0.0</td>\n",
       "      <td>0.0</td>\n",
       "      <td>0.0</td>\n",
       "      <td>0.0</td>\n",
       "      <td>14</td>\n",
       "      <td>5</td>\n",
       "      <td>2</td>\n",
       "      <td>11</td>\n",
       "      <td>182.0</td>\n",
       "      <td>0</td>\n",
       "    </tr>\n",
       "    <tr>\n",
       "      <th>3</th>\n",
       "      <td>3</td>\n",
       "      <td>10000.0</td>\n",
       "      <td>13.49</td>\n",
       "      <td>36.0</td>\n",
       "      <td>339.31</td>\n",
       "      <td>10000.0</td>\n",
       "      <td>10</td>\n",
       "      <td>49200.0</td>\n",
       "      <td>20.00</td>\n",
       "      <td>10.0</td>\n",
       "      <td>...</td>\n",
       "      <td>0.0</td>\n",
       "      <td>0.0</td>\n",
       "      <td>0.0</td>\n",
       "      <td>0.0</td>\n",
       "      <td>4</td>\n",
       "      <td>5</td>\n",
       "      <td>2</td>\n",
       "      <td>9</td>\n",
       "      <td>251.0</td>\n",
       "      <td>0</td>\n",
       "    </tr>\n",
       "    <tr>\n",
       "      <th>4</th>\n",
       "      <td>4</td>\n",
       "      <td>3000.0</td>\n",
       "      <td>12.69</td>\n",
       "      <td>60.0</td>\n",
       "      <td>67.79</td>\n",
       "      <td>3000.0</td>\n",
       "      <td>1</td>\n",
       "      <td>80000.0</td>\n",
       "      <td>17.94</td>\n",
       "      <td>15.0</td>\n",
       "      <td>...</td>\n",
       "      <td>0.0</td>\n",
       "      <td>0.0</td>\n",
       "      <td>0.0</td>\n",
       "      <td>0.0</td>\n",
       "      <td>37</td>\n",
       "      <td>5</td>\n",
       "      <td>1</td>\n",
       "      <td>9</td>\n",
       "      <td>252.0</td>\n",
       "      <td>0</td>\n",
       "    </tr>\n",
       "  </tbody>\n",
       "</table>\n",
       "<p>5 rows × 28 columns</p>\n",
       "</div>"
      ],
      "text/plain": [
       "   Unnamed: 0  loan_amnt  int_rate  term  installment  funded_amnt  \\\n",
       "0           0     5000.0     10.65  36.0       162.87       5000.0   \n",
       "1           1     2500.0     15.27  60.0        59.83       2500.0   \n",
       "2           2     2400.0     15.96  36.0        84.33       2400.0   \n",
       "3           3    10000.0     13.49  36.0       339.31      10000.0   \n",
       "4           4     3000.0     12.69  60.0        67.79       3000.0   \n",
       "\n",
       "   emp_length  annual_inc    dti  open_acc   ...     pub_rec  \\\n",
       "0          10     24000.0  27.65       3.0   ...         0.0   \n",
       "1           1     30000.0   1.00       3.0   ...         0.0   \n",
       "2          10     12252.0   8.72       2.0   ...         0.0   \n",
       "3          10     49200.0  20.00      10.0   ...         0.0   \n",
       "4           1     80000.0  17.94      15.0   ...         0.0   \n",
       "\n",
       "   mths_since_last_record  mths_since_last_major_derog  \\\n",
       "0                     0.0                          0.0   \n",
       "1                     0.0                          0.0   \n",
       "2                     0.0                          0.0   \n",
       "3                     0.0                          0.0   \n",
       "4                     0.0                          0.0   \n",
       "\n",
       "   collections_12_mths_ex_med  state  HomeOwnCat  GradeCat  Purpose  \\\n",
       "0                         0.0      3           5         1        1   \n",
       "1                         0.0     10           5         2        0   \n",
       "2                         0.0     14           5         2       11   \n",
       "3                         0.0      4           5         2        9   \n",
       "4                         0.0     37           5         1        9   \n",
       "\n",
       "   EarliestCreditMonths  Default  \n",
       "0                 384.0        0  \n",
       "1                 213.0        1  \n",
       "2                 182.0        0  \n",
       "3                 251.0        0  \n",
       "4                 252.0        0  \n",
       "\n",
       "[5 rows x 28 columns]"
      ]
     },
     "execution_count": 10,
     "metadata": {},
     "output_type": "execute_result"
    }
   ],
   "source": [
    "df = pd.read_csv(\"LC_database_all_clean.csv\", low_memory=False)\n",
    "df.head()"
   ]
  },
  {
   "cell_type": "code",
   "execution_count": 11,
   "metadata": {
    "collapsed": false
   },
   "outputs": [],
   "source": [
    "df.drop(df.columns[[0]], axis=1, inplace=True)"
   ]
  },
  {
   "cell_type": "code",
   "execution_count": 5,
   "metadata": {
    "collapsed": false
   },
   "outputs": [
    {
     "data": {
      "text/plain": [
       "1218316"
      ]
     },
     "execution_count": 5,
     "metadata": {},
     "output_type": "execute_result"
    }
   ],
   "source": [
    "len(df)"
   ]
  },
  {
   "cell_type": "code",
   "execution_count": 12,
   "metadata": {
    "collapsed": false
   },
   "outputs": [
    {
     "data": {
      "text/plain": [
       "(1218316, 27)"
      ]
     },
     "execution_count": 12,
     "metadata": {},
     "output_type": "execute_result"
    }
   ],
   "source": [
    "df.reset_index\n",
    "df.shape"
   ]
  },
  {
   "cell_type": "markdown",
   "metadata": {},
   "source": [
    "## CHECK FEATURES"
   ]
  },
  {
   "cell_type": "code",
   "execution_count": 17,
   "metadata": {
    "collapsed": false
   },
   "outputs": [
    {
     "data": {
      "text/html": [
       "<div>\n",
       "<table border=\"1\" class=\"dataframe\">\n",
       "  <thead>\n",
       "    <tr style=\"text-align: right;\">\n",
       "      <th></th>\n",
       "      <th>loan_amnt</th>\n",
       "      <th>int_rate</th>\n",
       "      <th>term</th>\n",
       "      <th>installment</th>\n",
       "      <th>funded_amnt</th>\n",
       "      <th>emp_length</th>\n",
       "      <th>annual_inc</th>\n",
       "      <th>dti</th>\n",
       "      <th>open_acc</th>\n",
       "      <th>total_acc</th>\n",
       "      <th>revol_bal</th>\n",
       "      <th>revol_util</th>\n",
       "      <th>inq_last_6mths</th>\n",
       "    </tr>\n",
       "  </thead>\n",
       "  <tbody>\n",
       "    <tr>\n",
       "      <th>0</th>\n",
       "      <td>5000.0</td>\n",
       "      <td>10.65</td>\n",
       "      <td>36.0</td>\n",
       "      <td>162.87</td>\n",
       "      <td>5000.0</td>\n",
       "      <td>10</td>\n",
       "      <td>24000.0</td>\n",
       "      <td>27.65</td>\n",
       "      <td>3.0</td>\n",
       "      <td>9.0</td>\n",
       "      <td>13648.0</td>\n",
       "      <td>83.7</td>\n",
       "      <td>1.0</td>\n",
       "    </tr>\n",
       "    <tr>\n",
       "      <th>1</th>\n",
       "      <td>2500.0</td>\n",
       "      <td>15.27</td>\n",
       "      <td>60.0</td>\n",
       "      <td>59.83</td>\n",
       "      <td>2500.0</td>\n",
       "      <td>1</td>\n",
       "      <td>30000.0</td>\n",
       "      <td>1.00</td>\n",
       "      <td>3.0</td>\n",
       "      <td>4.0</td>\n",
       "      <td>1687.0</td>\n",
       "      <td>9.4</td>\n",
       "      <td>5.0</td>\n",
       "    </tr>\n",
       "    <tr>\n",
       "      <th>2</th>\n",
       "      <td>2400.0</td>\n",
       "      <td>15.96</td>\n",
       "      <td>36.0</td>\n",
       "      <td>84.33</td>\n",
       "      <td>2400.0</td>\n",
       "      <td>10</td>\n",
       "      <td>12252.0</td>\n",
       "      <td>8.72</td>\n",
       "      <td>2.0</td>\n",
       "      <td>10.0</td>\n",
       "      <td>2956.0</td>\n",
       "      <td>98.5</td>\n",
       "      <td>2.0</td>\n",
       "    </tr>\n",
       "    <tr>\n",
       "      <th>3</th>\n",
       "      <td>10000.0</td>\n",
       "      <td>13.49</td>\n",
       "      <td>36.0</td>\n",
       "      <td>339.31</td>\n",
       "      <td>10000.0</td>\n",
       "      <td>10</td>\n",
       "      <td>49200.0</td>\n",
       "      <td>20.00</td>\n",
       "      <td>10.0</td>\n",
       "      <td>37.0</td>\n",
       "      <td>5598.0</td>\n",
       "      <td>21.0</td>\n",
       "      <td>1.0</td>\n",
       "    </tr>\n",
       "  </tbody>\n",
       "</table>\n",
       "</div>"
      ],
      "text/plain": [
       "   loan_amnt  int_rate  term  installment  funded_amnt  emp_length  \\\n",
       "0     5000.0     10.65  36.0       162.87       5000.0          10   \n",
       "1     2500.0     15.27  60.0        59.83       2500.0           1   \n",
       "2     2400.0     15.96  36.0        84.33       2400.0          10   \n",
       "3    10000.0     13.49  36.0       339.31      10000.0          10   \n",
       "\n",
       "   annual_inc    dti  open_acc  total_acc  revol_bal  revol_util  \\\n",
       "0     24000.0  27.65       3.0        9.0    13648.0        83.7   \n",
       "1     30000.0   1.00       3.0        4.0     1687.0         9.4   \n",
       "2     12252.0   8.72       2.0       10.0     2956.0        98.5   \n",
       "3     49200.0  20.00      10.0       37.0     5598.0        21.0   \n",
       "\n",
       "   inq_last_6mths  \n",
       "0             1.0  \n",
       "1             5.0  \n",
       "2             2.0  \n",
       "3             1.0  "
      ]
     },
     "execution_count": 17,
     "metadata": {},
     "output_type": "execute_result"
    }
   ],
   "source": [
    "df.iloc[:4,:13]"
   ]
  },
  {
   "cell_type": "code",
   "execution_count": 18,
   "metadata": {
    "collapsed": false
   },
   "outputs": [
    {
     "data": {
      "text/html": [
       "<div>\n",
       "<table border=\"1\" class=\"dataframe\">\n",
       "  <thead>\n",
       "    <tr style=\"text-align: right;\">\n",
       "      <th></th>\n",
       "      <th>acc_now_delinq</th>\n",
       "      <th>delinq_amnt</th>\n",
       "      <th>delinq_2yrs</th>\n",
       "      <th>mths_since_last_delinq</th>\n",
       "      <th>pub_rec</th>\n",
       "      <th>mths_since_last_record</th>\n",
       "      <th>mths_since_last_major_derog</th>\n",
       "    </tr>\n",
       "  </thead>\n",
       "  <tbody>\n",
       "    <tr>\n",
       "      <th>0</th>\n",
       "      <td>0.0</td>\n",
       "      <td>0.0</td>\n",
       "      <td>0.0</td>\n",
       "      <td>0.0</td>\n",
       "      <td>0.0</td>\n",
       "      <td>0.0</td>\n",
       "      <td>0.0</td>\n",
       "    </tr>\n",
       "    <tr>\n",
       "      <th>1</th>\n",
       "      <td>0.0</td>\n",
       "      <td>0.0</td>\n",
       "      <td>0.0</td>\n",
       "      <td>0.0</td>\n",
       "      <td>0.0</td>\n",
       "      <td>0.0</td>\n",
       "      <td>0.0</td>\n",
       "    </tr>\n",
       "    <tr>\n",
       "      <th>2</th>\n",
       "      <td>0.0</td>\n",
       "      <td>0.0</td>\n",
       "      <td>0.0</td>\n",
       "      <td>0.0</td>\n",
       "      <td>0.0</td>\n",
       "      <td>0.0</td>\n",
       "      <td>0.0</td>\n",
       "    </tr>\n",
       "    <tr>\n",
       "      <th>3</th>\n",
       "      <td>0.0</td>\n",
       "      <td>0.0</td>\n",
       "      <td>0.0</td>\n",
       "      <td>35.0</td>\n",
       "      <td>0.0</td>\n",
       "      <td>0.0</td>\n",
       "      <td>0.0</td>\n",
       "    </tr>\n",
       "  </tbody>\n",
       "</table>\n",
       "</div>"
      ],
      "text/plain": [
       "   acc_now_delinq  delinq_amnt  delinq_2yrs  mths_since_last_delinq  pub_rec  \\\n",
       "0             0.0          0.0          0.0                     0.0      0.0   \n",
       "1             0.0          0.0          0.0                     0.0      0.0   \n",
       "2             0.0          0.0          0.0                     0.0      0.0   \n",
       "3             0.0          0.0          0.0                    35.0      0.0   \n",
       "\n",
       "   mths_since_last_record  mths_since_last_major_derog  \n",
       "0                     0.0                          0.0  \n",
       "1                     0.0                          0.0  \n",
       "2                     0.0                          0.0  \n",
       "3                     0.0                          0.0  "
      ]
     },
     "execution_count": 18,
     "metadata": {},
     "output_type": "execute_result"
    }
   ],
   "source": [
    "df.iloc[:4,13:20]"
   ]
  },
  {
   "cell_type": "code",
   "execution_count": 13,
   "metadata": {
    "collapsed": false
   },
   "outputs": [
    {
     "data": {
      "text/html": [
       "<div>\n",
       "<table border=\"1\" class=\"dataframe\">\n",
       "  <thead>\n",
       "    <tr style=\"text-align: right;\">\n",
       "      <th></th>\n",
       "      <th>collections_12_mths_ex_med</th>\n",
       "      <th>state</th>\n",
       "      <th>HomeOwnCat</th>\n",
       "      <th>GradeCat</th>\n",
       "      <th>Purpose</th>\n",
       "      <th>EarliestCreditMonths</th>\n",
       "      <th>Default</th>\n",
       "    </tr>\n",
       "  </thead>\n",
       "  <tbody>\n",
       "    <tr>\n",
       "      <th>0</th>\n",
       "      <td>0.0</td>\n",
       "      <td>3</td>\n",
       "      <td>5</td>\n",
       "      <td>1</td>\n",
       "      <td>1</td>\n",
       "      <td>384.0</td>\n",
       "      <td>0</td>\n",
       "    </tr>\n",
       "    <tr>\n",
       "      <th>1</th>\n",
       "      <td>0.0</td>\n",
       "      <td>10</td>\n",
       "      <td>5</td>\n",
       "      <td>2</td>\n",
       "      <td>0</td>\n",
       "      <td>213.0</td>\n",
       "      <td>1</td>\n",
       "    </tr>\n",
       "    <tr>\n",
       "      <th>2</th>\n",
       "      <td>0.0</td>\n",
       "      <td>14</td>\n",
       "      <td>5</td>\n",
       "      <td>2</td>\n",
       "      <td>11</td>\n",
       "      <td>182.0</td>\n",
       "      <td>0</td>\n",
       "    </tr>\n",
       "    <tr>\n",
       "      <th>3</th>\n",
       "      <td>0.0</td>\n",
       "      <td>4</td>\n",
       "      <td>5</td>\n",
       "      <td>2</td>\n",
       "      <td>9</td>\n",
       "      <td>251.0</td>\n",
       "      <td>0</td>\n",
       "    </tr>\n",
       "  </tbody>\n",
       "</table>\n",
       "</div>"
      ],
      "text/plain": [
       "   collections_12_mths_ex_med  state  HomeOwnCat  GradeCat  Purpose  \\\n",
       "0                         0.0      3           5         1        1   \n",
       "1                         0.0     10           5         2        0   \n",
       "2                         0.0     14           5         2       11   \n",
       "3                         0.0      4           5         2        9   \n",
       "\n",
       "   EarliestCreditMonths  Default  \n",
       "0                 384.0        0  \n",
       "1                 213.0        1  \n",
       "2                 182.0        0  \n",
       "3                 251.0        0  "
      ]
     },
     "execution_count": 13,
     "metadata": {},
     "output_type": "execute_result"
    }
   ],
   "source": [
    "df.iloc[:4,20:30]"
   ]
  },
  {
   "cell_type": "markdown",
   "metadata": {},
   "source": [
    "## Ensure all data is in float form"
   ]
  },
  {
   "cell_type": "code",
   "execution_count": 7,
   "metadata": {
    "collapsed": false
   },
   "outputs": [
    {
     "data": {
      "text/plain": [
       "loan_amnt                      float64\n",
       "int_rate                       float64\n",
       "term                           float64\n",
       "installment                    float64\n",
       "funded_amnt                    float64\n",
       "emp_length                       int64\n",
       "annual_inc                     float64\n",
       "dti                            float64\n",
       "open_acc                       float64\n",
       "total_acc                      float64\n",
       "revol_bal                      float64\n",
       "revol_util                     float64\n",
       "inq_last_6mths                 float64\n",
       "acc_now_delinq                 float64\n",
       "delinq_amnt                    float64\n",
       "delinq_2yrs                    float64\n",
       "mths_since_last_delinq         float64\n",
       "pub_rec                        float64\n",
       "mths_since_last_record         float64\n",
       "mths_since_last_major_derog    float64\n",
       "collections_12_mths_ex_med     float64\n",
       "state                            int64\n",
       "HomeOwnCat                       int64\n",
       "GradeCat                         int64\n",
       "Purpose                          int64\n",
       "EarliestCreditMonths           float64\n",
       "Default                          int64\n",
       "dtype: object"
      ]
     },
     "execution_count": 7,
     "metadata": {},
     "output_type": "execute_result"
    }
   ],
   "source": [
    "df.dtypes"
   ]
  },
  {
   "cell_type": "markdown",
   "metadata": {},
   "source": [
    "# DESCRIPTIVE STATS AND GRAPHS"
   ]
  },
  {
   "cell_type": "code",
   "execution_count": 9,
   "metadata": {
    "collapsed": false,
    "scrolled": true
   },
   "outputs": [
    {
     "data": {
      "text/plain": [
       "0    1097355\n",
       "1     120961\n",
       "Name: Default, dtype: int64"
      ]
     },
     "execution_count": 9,
     "metadata": {},
     "output_type": "execute_result"
    }
   ],
   "source": [
    "## Examine distribution of delinquency\n",
    "df.Default.value_counts()\n",
    "# 9.072x more non-defaults"
   ]
  },
  {
   "cell_type": "code",
   "execution_count": 10,
   "metadata": {
    "collapsed": false
   },
   "outputs": [
    {
     "data": {
      "text/plain": [
       "installment             loan_amnt      0.945736\n",
       "funded_amnt             loan_amnt      0.999478\n",
       "                        installment    0.946467\n",
       "total_acc               open_acc       0.701888\n",
       "mths_since_last_record  pub_rec        0.655152\n",
       "GradeCat                int_rate       0.955893\n",
       "dtype: float64"
      ]
     },
     "execution_count": 10,
     "metadata": {},
     "output_type": "execute_result"
    }
   ],
   "source": [
    "###### SOME GRAPHICAL ANALYSIS ######\n",
    "\n",
    "### Highly Correlated Data\n",
    "## examine our dataframe's correlation matrix and drop highly correlated/redundant data to address multicollinearity\n",
    "cor = df.corr()\n",
    "cor.loc[:,:] = np.tril(cor, k=-1) # below main lower triangle of an array\n",
    "cor = cor.stack()\n",
    "cor[(cor > 0.55) | (cor < -0.55)]"
   ]
  },
  {
   "cell_type": "code",
   "execution_count": 13,
   "metadata": {
    "collapsed": true
   },
   "outputs": [],
   "source": [
    "###### DROP HIGHLY MULTICOLLINEAR (rho > |.65|) VARIABLES ######\n",
    "df.drop(['GradeCat','mths_since_last_record','total_acc','funded_amnt','installment'], axis=1, inplace=True)\n",
    "\n",
    "# RFC deals well with multicollinearity, so leave in some collinear vars for now"
   ]
  },
  {
   "cell_type": "code",
   "execution_count": 14,
   "metadata": {
    "collapsed": false,
    "scrolled": true
   },
   "outputs": [
    {
     "data": {
      "text/plain": [
       "(1218316, 22)"
      ]
     },
     "execution_count": 14,
     "metadata": {},
     "output_type": "execute_result"
    }
   ],
   "source": [
    "df.shape"
   ]
  },
  {
   "cell_type": "code",
   "execution_count": null,
   "metadata": {
    "collapsed": true
   },
   "outputs": [],
   "source": [
    "feats = df.columns.values\n",
    "feats"
   ]
  },
  {
   "cell_type": "markdown",
   "metadata": {},
   "source": [
    "# Gradient Boosted Regression Trees"
   ]
  },
  {
   "cell_type": "code",
   "execution_count": 15,
   "metadata": {
    "collapsed": false
   },
   "outputs": [
    {
     "name": "stdout",
     "output_type": "stream",
     "text": [
      "<class 'pandas.core.frame.DataFrame'>\n",
      "RangeIndex: 1218316 entries, 0 to 1218315\n",
      "Data columns (total 22 columns):\n",
      "loan_amnt                      1218316 non-null float64\n",
      "int_rate                       1218316 non-null float64\n",
      "term                           1218316 non-null float64\n",
      "emp_length                     1218316 non-null int64\n",
      "annual_inc                     1218316 non-null float64\n",
      "dti                            1218316 non-null float64\n",
      "open_acc                       1218316 non-null float64\n",
      "revol_bal                      1218316 non-null float64\n",
      "revol_util                     1218316 non-null float64\n",
      "inq_last_6mths                 1218316 non-null float64\n",
      "acc_now_delinq                 1218316 non-null float64\n",
      "delinq_amnt                    1218316 non-null float64\n",
      "delinq_2yrs                    1218316 non-null float64\n",
      "mths_since_last_delinq         1218316 non-null float64\n",
      "pub_rec                        1218316 non-null float64\n",
      "mths_since_last_major_derog    1218316 non-null float64\n",
      "collections_12_mths_ex_med     1218316 non-null float64\n",
      "state                          1218316 non-null int64\n",
      "HomeOwnCat                     1218316 non-null int64\n",
      "Purpose                        1218316 non-null int64\n",
      "EarliestCreditMonths           1218316 non-null float64\n",
      "Default                        1218316 non-null int64\n",
      "dtypes: float64(17), int64(5)\n",
      "memory usage: 204.5 MB\n"
     ]
    }
   ],
   "source": [
    "## Dummy encode categorical vars\n",
    "\n",
    "df = pd.get_dummies(df)\n",
    "df.info()"
   ]
  },
  {
   "cell_type": "code",
   "execution_count": 16,
   "metadata": {
    "collapsed": false
   },
   "outputs": [],
   "source": [
    "from sklearn import ensemble\n",
    "from sklearn import datasets\n",
    "from sklearn.utils import shuffle\n",
    "from sklearn.metrics import mean_squared_error\n",
    "from matplotlib import pyplot as plt\n",
    "\n",
    "y = df.Default.values\n",
    "X = df[['loan_amnt', 'int_rate', 'term', 'emp_length', 'annual_inc', 'dti',\n",
    "       'open_acc', 'revol_bal', 'revol_util', 'inq_last_6mths',\n",
    "       'acc_now_delinq', 'delinq_amnt', 'delinq_2yrs',\n",
    "       'mths_since_last_delinq', 'pub_rec', 'mths_since_last_major_derog',\n",
    "       'collections_12_mths_ex_med', 'state', 'HomeOwnCat', 'Purpose',\n",
    "       'EarliestCreditMonths']]\n",
    "\n",
    "X, y = shuffle(X, y, random_state=30)\n",
    "X = X.astype(np.float32)\n",
    "\n",
    "offset = int(X.shape[0] * 0.8)\n",
    "X_train, y_train = X[:offset], y[:offset]\n",
    "X_test, y_test = X[offset:], y[offset:]"
   ]
  },
  {
   "cell_type": "code",
   "execution_count": null,
   "metadata": {
    "collapsed": true
   },
   "outputs": [],
   "source": [
    "# Tuning: simple grid search amongst a hand chosen set of hyper-parameters\n",
    "\n",
    "from sklearn.grid_search import GridSearchCV\n",
    "\n",
    "param_grid = {'learning_rate': [0.1, 0.05, 0.02, 0.01],\n",
    "              'max_depth': [4, 6],\n",
    "              'min_samples_leaf': [3, 5, 9, 17],\n",
    "              'max_features': [1.0, 0.3, 0.1]\n",
    "              }\n",
    "# param_grid = {'learning_rate': [0.1],\n",
    "#               'max_depth': [4],\n",
    "#               'min_samples_leaf': [3],\n",
    "#               'max_features': [1.0],\n",
    "#               }\n",
    "\n",
    "est = GridSearchCV(ensemble.GradientBoostingRegressor(n_estimators=100),\n",
    "                   param_grid, n_jobs=4, refit=True)\n",
    "\n",
    "est.fit(X_train, y_train)\n",
    "\n",
    "best_params = est.best_params_"
   ]
  },
  {
   "cell_type": "code",
   "execution_count": 14,
   "metadata": {
    "collapsed": false
   },
   "outputs": [
    {
     "name": "stdout",
     "output_type": "stream",
     "text": [
      "CPU times: user 1min 59s, sys: 31.8 s, total: 2min 31s\n",
      "Wall time: 2min 32s\n"
     ]
    }
   ],
   "source": [
    "%%time\n",
    "est = ensemble.GradientBoostingRegressor(n_estimators=2000).fit(X_train, y_train)"
   ]
  },
  {
   "cell_type": "code",
   "execution_count": 15,
   "metadata": {
    "collapsed": false
   },
   "outputs": [
    {
     "data": {
      "text/plain": [
       "0.99999908796542891"
      ]
     },
     "execution_count": 15,
     "metadata": {},
     "output_type": "execute_result"
    }
   ],
   "source": [
    "est.score(X_test,y_test)"
   ]
  },
  {
   "cell_type": "code",
   "execution_count": 13,
   "metadata": {
    "collapsed": false
   },
   "outputs": [],
   "source": [
    "######### Pickle the RF output results and predictions #########\n",
    "import pickle\n",
    "\n",
    "with open('GradientBoostRT_LCdb.pkl', 'wb') as f:\n",
    "    pickle.dump(est, f)"
   ]
  },
  {
   "cell_type": "markdown",
   "metadata": {},
   "source": [
    "## Quick check of results"
   ]
  },
  {
   "cell_type": "code",
   "execution_count": 17,
   "metadata": {
    "collapsed": false
   },
   "outputs": [
    {
     "data": {
      "image/png": "[encoded data removed]",
      "text/plain": [
       "<matplotlib.figure.Figure at 0x111fb5da0>"
      ]
     },
     "metadata": {},
     "output_type": "display_data"
    },
    {
     "data": {
      "image/png": "[encoded data removed]",
      "text/plain": [
       "<matplotlib.figure.Figure at 0x11714d5c0>"
      ]
     },
     "metadata": {},
     "output_type": "display_data"
    }
   ],
   "source": [
    "sns.set(font_scale=1, rc={\"lines.linewidth\":1.2}) \n",
    "\n",
    "\n",
    "Iterations = 2000\n",
    "# compute test set deviance\n",
    "test_score = np.zeros((Iterations,), dtype=np.float64)\n",
    "\n",
    "for i, y_pred in enumerate(est.staged_predict(X_test)):\n",
    "    test_score[i] = est.loss_(y_test, y_pred)\n",
    "\n",
    "plt.figure(figsize=(14, 6)).subplots_adjust(wspace=.3)\n",
    "\n",
    "plt.subplot(1, 2, 1)\n",
    "plt.title('Deviance over iterations')\n",
    "plt.plot(np.arange(Iterations) + 1, est.train_score_, 'dodgerblue',\n",
    "         label='Training Set Deviance', alpha=.6)\n",
    "plt.plot(np.arange(Iterations) + 1, test_score, 'firebrick',\n",
    "         label='Test Set Deviance', alpha=.6)\n",
    "plt.legend(loc='upper right')\n",
    "plt.xlabel('Boosting Iterations')\n",
    "plt.ylabel('Deviance')\n",
    "\n",
    "\n",
    "plt.subplot(1, 2, 2,)\n",
    "# Top Ten\n",
    "feature_importance = est.feature_importances_\n",
    "feature_importance = 100.0 * (feature_importance / feature_importance.max())\n",
    "\n",
    "indices = np.argsort(feature_importance)[-10:]\n",
    "plt.barh(np.arange(10), feature_importance[indices],color='dodgerblue',alpha=.4)\n",
    "plt.yticks(np.arange(10 + 0.25), np.array(df.columns)[indices])\n",
    "_ = plt.xlabel('Relative importance'), plt.title('Top Ten Important Variables')\n",
    "plt.show()"
   ]
  },
  {
   "cell_type": "code",
   "execution_count": 37,
   "metadata": {
    "collapsed": false
   },
   "outputs": [
    {
     "data": {
      "text/plain": [
       "array([[ 0.112,  0.888],\n",
       "       [ 0.006,  0.994],\n",
       "       [ 0.998,  0.002],\n",
       "       [ 0.052,  0.948],\n",
       "       [ 0.02 ,  0.98 ],\n",
       "       [ 0.998,  0.002],\n",
       "       [ 0.066,  0.934],\n",
       "       [ 0.04 ,  0.96 ],\n",
       "       [ 1.   ,  0.   ],\n",
       "       [ 0.12 ,  0.88 ],\n",
       "       [ 0.046,  0.954],\n",
       "       [ 0.14 ,  0.86 ],\n",
       "       [ 0.05 ,  0.95 ],\n",
       "       [ 0.042,  0.958],\n",
       "       [ 0.578,  0.422],\n",
       "       [ 1.   ,  0.   ],\n",
       "       [ 0.046,  0.954],\n",
       "       [ 0.018,  0.982],\n",
       "       [ 0.042,  0.958],\n",
       "       [ 0.052,  0.948]])"
      ]
     },
     "execution_count": 37,
     "metadata": {},
     "output_type": "execute_result"
    }
   ],
   "source": [
    "results[0:20]\n",
    "prob[0:20]\n",
    "# Note: for prob, the second column is for default"
   ]
  },
  {
   "cell_type": "markdown",
   "metadata": {},
   "source": [
    "# Start from here"
   ]
  },
  {
   "cell_type": "markdown",
   "metadata": {},
   "source": [
    "## open saved GBRT model with pickle"
   ]
  },
  {
   "cell_type": "code",
   "execution_count": 28,
   "metadata": {
    "collapsed": false
   },
   "outputs": [],
   "source": [
    "from sklearn.cross_validation import train_test_split\n",
    "import pickle\n",
    "import _pickle as cPickle\n",
    "\n",
    "# X = Explanatory\n",
    "X = df[['loan_amnt', 'int_rate', 'term', 'emp_length', 'annual_inc', 'dti',\n",
    "       'open_acc', 'revol_bal', 'revol_util', 'inq_last_6mths',\n",
    "       'acc_now_delinq', 'delinq_amnt', 'delinq_2yrs',\n",
    "       'mths_since_last_delinq', 'pub_rec', 'mths_since_last_major_derog',\n",
    "       'collections_12_mths_ex_med', 'state', 'HomeOwnCat', 'Purpose',\n",
    "       'EarliestCreditMonths']]\n",
    "\n",
    "# y = Target\n",
    "y = df['Default']\n",
    "\n",
    "X_train, X_test, y_train, y_test = train_test_split(X, y, test_size=0.2, random_state=42)\n",
    "\n",
    "with open('GradientBoostRT_LCdb_undersample.pkl', 'rb') as f:\n",
    "    rf = pickle.load(f)\n",
    "\n",
    "results_train = rf.predict(X_train)\n",
    "results = rf.predict(X_test)\n",
    "prob = rf.predict_proba(X_test)"
   ]
  },
  {
   "cell_type": "code",
   "execution_count": 38,
   "metadata": {
    "collapsed": false
   },
   "outputs": [
    {
     "data": {
      "text/plain": [
       "array([ 0.89,  1.  ,  1.  ])"
      ]
     },
     "execution_count": 38,
     "metadata": {},
     "output_type": "execute_result"
    }
   ],
   "source": [
    "### Recall, precision --> F1 Score\n",
    "from sklearn.metrics import precision_recall_curve\n",
    "\n",
    "precision, recall, thresholds = precision_recall_curve(y_test, results)\n",
    "precision"
   ]
  },
  {
   "cell_type": "code",
   "execution_count": 39,
   "metadata": {
    "collapsed": false
   },
   "outputs": [
    {
     "data": {
      "text/plain": [
       "0.98633257403189067"
      ]
     },
     "execution_count": 39,
     "metadata": {},
     "output_type": "execute_result"
    }
   ],
   "source": [
    "from sklearn import metrics\n",
    "\n",
    "# testing score\n",
    "score = metrics.f1_score(y_test, results)\n",
    "#score = metrics.f1_score(y_test, results, pos_label=list(set(y_test)))\n",
    "\n",
    "# training score\n",
    "# score_train = metrics.f1_score(y_train, results_train)\n",
    "score"
   ]
  },
  {
   "cell_type": "code",
   "execution_count": 40,
   "metadata": {
    "collapsed": false
   },
   "outputs": [
    {
     "data": {
      "text/plain": [
       "0.97599999999999998"
      ]
     },
     "execution_count": 40,
     "metadata": {},
     "output_type": "execute_result"
    }
   ],
   "source": [
    "### Accuracy Score\n",
    "pscore = metrics.accuracy_score(y_test, results)\n",
    "# pscore_train = metrics.accuracy_score(y_train, results_train)\n",
    "pscore\n",
    "\n",
    "# “accuracy classification score”. What it does is calculate how accurate the classification is."
   ]
  },
  {
   "cell_type": "code",
   "execution_count": 41,
   "metadata": {
    "collapsed": false
   },
   "outputs": [
    {
     "name": "stdout",
     "output_type": "stream",
     "text": [
      "             precision    recall  f1-score   support\n",
      "\n",
      "          0       0.82      1.00      0.90       110\n",
      "          1       1.00      0.97      0.99       890\n",
      "\n",
      "avg / total       0.98      0.98      0.98      1000\n",
      "\n"
     ]
    }
   ],
   "source": [
    "from sklearn.metrics import classification_report\n",
    "\n",
    "print(classification_report(y_test,results))"
   ]
  },
  {
   "cell_type": "code",
   "execution_count": 27,
   "metadata": {
    "collapsed": false
   },
   "outputs": [
    {
     "data": {
      "image/png": "[encoded data removed]",
      "text/plain": [
       "<matplotlib.figure.Figure at 0x115d83048>"
      ]
     },
     "metadata": {},
     "output_type": "display_data"
    }
   ],
   "source": [
    "plt.plot(precision,recall)\n",
    "plt.show()"
   ]
  },
  {
   "cell_type": "markdown",
   "metadata": {},
   "source": [
    "## Plot the ROC curve"
   ]
  },
  {
   "cell_type": "code",
   "execution_count": 45,
   "metadata": {
    "collapsed": false
   },
   "outputs": [
    {
     "data": {
      "text/plain": [
       "0.98651685393258426"
      ]
     },
     "execution_count": 45,
     "metadata": {},
     "output_type": "execute_result"
    }
   ],
   "source": [
    "### Obtain ROC and AUC scores\n",
    "roc = metrics.roc_curve(y_test, results, pos_label=None, sample_weight=None, drop_intermediate=True)\n",
    "auc = metrics.roc_auc_score(y_test, results, average='macro', sample_weight=None)\n",
    "auc"
   ]
  },
  {
   "cell_type": "code",
   "execution_count": 42,
   "metadata": {
    "collapsed": false
   },
   "outputs": [
    {
     "name": "stdout",
     "output_type": "stream",
     "text": [
      "ROC AUC: 1.00\n"
     ]
    },
    {
     "data": {
      "image/png": "[encoded data removed]",
      "text/plain": [
       "<matplotlib.figure.Figure at 0x1174670f0>"
      ]
     },
     "metadata": {},
     "output_type": "display_data"
    }
   ],
   "source": [
    "##### Plot the ROC and show AUC #####\n",
    "# Calculate the AUC\n",
    "\n",
    "import matplotlib.pyplot as plt\n",
    "from sklearn.metrics import roc_curve, auc\n",
    "\n",
    "# Determine the false positive and true positive rates\n",
    "fpr, tpr, _ = roc_curve(y_test, rfc.predict_proba(X_test)[:,1])\n",
    "\n",
    "roc_auc = metrics.auc(fpr, tpr)\n",
    "print('ROC AUC: %0.2f' % roc_auc)\n",
    " \n",
    "# Plot of a ROC curve for a specific class\n",
    "plt.figure()\n",
    "plt.plot(fpr, tpr, label='ROC curve (AUC = %0.2f)' % roc_auc)\n",
    "plt.plot([0, 1], [0, 1], 'k--')\n",
    "plt.xlim([0.0, 1.0])\n",
    "plt.ylim([0.0, 1.05])\n",
    "plt.xlabel('False Positive Rate')\n",
    "plt.ylabel('True Positive Rate')\n",
    "plt.title('ROC Curve')\n",
    "plt.legend(loc=\"lower right\")\n",
    "plt.show()"
   ]
  },
  {
   "cell_type": "code",
   "execution_count": 44,
   "metadata": {
    "collapsed": false
   },
   "outputs": [
    {
     "ename": "ValueError",
     "evalue": "Found arrays with inconsistent numbers of samples: [1000 4000]",
     "output_type": "error",
     "traceback": [
      "\u001b[0;31m---------------------------------------------------------------------------\u001b[0m",
      "\u001b[0;31mValueError\u001b[0m                                Traceback (most recent call last)",
      "\u001b[0;32m<ipython-input-44-e767a6c8a006>\u001b[0m in \u001b[0;36m<module>\u001b[0;34m()\u001b[0m\n\u001b[1;32m      1\u001b[0m \u001b[0;31m##### Mean Squared Error of Training\u001b[0m\u001b[0;34m\u001b[0m\u001b[0;34m\u001b[0m\u001b[0m\n\u001b[1;32m      2\u001b[0m \u001b[0;32mfrom\u001b[0m \u001b[0msklearn\u001b[0m\u001b[0;34m.\u001b[0m\u001b[0mmetrics\u001b[0m \u001b[0;32mimport\u001b[0m \u001b[0mmean_squared_error\u001b[0m\u001b[0;34m\u001b[0m\u001b[0m\n\u001b[0;32m----> 3\u001b[0;31m \u001b[0mmse\u001b[0m \u001b[0;34m=\u001b[0m \u001b[0mmean_squared_error\u001b[0m\u001b[0;34m(\u001b[0m\u001b[0my_train\u001b[0m\u001b[0;34m,\u001b[0m \u001b[0mresults_train\u001b[0m\u001b[0;34m)\u001b[0m\u001b[0;34m\u001b[0m\u001b[0m\n\u001b[0m\u001b[1;32m      4\u001b[0m \u001b[0mprint\u001b[0m\u001b[0;34m(\u001b[0m\u001b[0;34m\"MSE: %.4f\"\u001b[0m \u001b[0;34m%\u001b[0m \u001b[0mmse\u001b[0m\u001b[0;34m)\u001b[0m\u001b[0;34m\u001b[0m\u001b[0m\n",
      "\u001b[0;32m/Users/Greer/anaconda3/lib/python3.5/site-packages/sklearn/metrics/regression.py\u001b[0m in \u001b[0;36mmean_squared_error\u001b[0;34m(y_true, y_pred, sample_weight, multioutput)\u001b[0m\n\u001b[1;32m    229\u001b[0m     \"\"\"\n\u001b[1;32m    230\u001b[0m     y_type, y_true, y_pred, multioutput = _check_reg_targets(\n\u001b[0;32m--> 231\u001b[0;31m         y_true, y_pred, multioutput)\n\u001b[0m\u001b[1;32m    232\u001b[0m     output_errors = np.average((y_true - y_pred) ** 2, axis=0,\n\u001b[1;32m    233\u001b[0m                                weights=sample_weight)\n",
      "\u001b[0;32m/Users/Greer/anaconda3/lib/python3.5/site-packages/sklearn/metrics/regression.py\u001b[0m in \u001b[0;36m_check_reg_targets\u001b[0;34m(y_true, y_pred, multioutput)\u001b[0m\n\u001b[1;32m     72\u001b[0m \u001b[0;34m\u001b[0m\u001b[0m\n\u001b[1;32m     73\u001b[0m     \"\"\"\n\u001b[0;32m---> 74\u001b[0;31m     \u001b[0mcheck_consistent_length\u001b[0m\u001b[0;34m(\u001b[0m\u001b[0my_true\u001b[0m\u001b[0;34m,\u001b[0m \u001b[0my_pred\u001b[0m\u001b[0;34m)\u001b[0m\u001b[0;34m\u001b[0m\u001b[0m\n\u001b[0m\u001b[1;32m     75\u001b[0m     \u001b[0my_true\u001b[0m \u001b[0;34m=\u001b[0m \u001b[0mcheck_array\u001b[0m\u001b[0;34m(\u001b[0m\u001b[0my_true\u001b[0m\u001b[0;34m,\u001b[0m \u001b[0mensure_2d\u001b[0m\u001b[0;34m=\u001b[0m\u001b[0;32mFalse\u001b[0m\u001b[0;34m)\u001b[0m\u001b[0;34m\u001b[0m\u001b[0m\n\u001b[1;32m     76\u001b[0m     \u001b[0my_pred\u001b[0m \u001b[0;34m=\u001b[0m \u001b[0mcheck_array\u001b[0m\u001b[0;34m(\u001b[0m\u001b[0my_pred\u001b[0m\u001b[0;34m,\u001b[0m \u001b[0mensure_2d\u001b[0m\u001b[0;34m=\u001b[0m\u001b[0;32mFalse\u001b[0m\u001b[0;34m)\u001b[0m\u001b[0;34m\u001b[0m\u001b[0m\n",
      "\u001b[0;32m/Users/Greer/anaconda3/lib/python3.5/site-packages/sklearn/utils/validation.py\u001b[0m in \u001b[0;36mcheck_consistent_length\u001b[0;34m(*arrays)\u001b[0m\n\u001b[1;32m    174\u001b[0m     \u001b[0;32mif\u001b[0m \u001b[0mlen\u001b[0m\u001b[0;34m(\u001b[0m\u001b[0muniques\u001b[0m\u001b[0;34m)\u001b[0m \u001b[0;34m>\u001b[0m \u001b[0;36m1\u001b[0m\u001b[0;34m:\u001b[0m\u001b[0;34m\u001b[0m\u001b[0m\n\u001b[1;32m    175\u001b[0m         raise ValueError(\"Found arrays with inconsistent numbers of samples: \"\n\u001b[0;32m--> 176\u001b[0;31m                          \"%s\" % str(uniques))\n\u001b[0m\u001b[1;32m    177\u001b[0m \u001b[0;34m\u001b[0m\u001b[0m\n\u001b[1;32m    178\u001b[0m \u001b[0;34m\u001b[0m\u001b[0m\n",
      "\u001b[0;31mValueError\u001b[0m: Found arrays with inconsistent numbers of samples: [1000 4000]"
     ]
    }
   ],
   "source": [
    "##### Mean Squared Error of Training\n",
    "from sklearn.metrics import mean_squared_error\n",
    "mse = mean_squared_error(y_train, results_train)\n",
    "print(\"MSE: %.4f\" % mse)"
   ]
  },
  {
   "cell_type": "code",
   "execution_count": 43,
   "metadata": {
    "collapsed": false
   },
   "outputs": [
    {
     "name": "stdout",
     "output_type": "stream",
     "text": [
      "MSE: 0.0240\n"
     ]
    }
   ],
   "source": [
    "##### Mean Squared Error of Test\n",
    "from sklearn.metrics import mean_squared_error\n",
    "mse = mean_squared_error(y_test, results)\n",
    "print(\"MSE: %.4f\" % mse)"
   ]
  },
  {
   "cell_type": "markdown",
   "metadata": {},
   "source": [
    "## Some plots"
   ]
  },
  {
   "cell_type": "code",
   "execution_count": null,
   "metadata": {
    "collapsed": true
   },
   "outputs": [],
   "source": [
    "plot_df = df.query('last_meanfico > 600 & int_rate <28')[:3000]\n",
    "\n",
    "sns.set(font_scale=1.2, rc={\"lines.linewidth\": 1.5}) \n",
    "\n",
    "\n",
    "\n",
    "g = sns.lmplot(\"int_rate\", \"last_meanfico\", x_jitter= .7,  y_jitter= .1,\n",
    "           data=plot_df, hue='term',lowess=True, size=5,aspect=1.4, legend_out=False,\n",
    "           scatter_kws={ 's':20, 'alpha':.6})\n",
    "\n",
    "g.set(xlim=(2.5, 28),ylim=(580, 880),alpha = .5)\n",
    "\n",
    "g.savefig('1.png',transparent=True)"
   ]
  },
  {
   "cell_type": "markdown",
   "metadata": {},
   "source": [
    "## Feature Analysis"
   ]
  },
  {
   "cell_type": "code",
   "execution_count": 36,
   "metadata": {
    "collapsed": false
   },
   "outputs": [
    {
     "name": "stdout",
     "output_type": "stream",
     "text": [
      "[ 0.07340918  0.15713894  0.00933418  0.0390665   0.08129616  0.09058198\n",
      "  0.05850628  0.08909845  0.08913712  0.02438137  0.00058939  0.0006488\n",
      "  0.01386019  0.04469436  0.01177611  0.02748462  0.00209791  0.06210419\n",
      "  0.01244198  0.02515734  0.08719494]\n"
     ]
    }
   ],
   "source": [
    "print(rfc.feature_importances_)"
   ]
  },
  {
   "cell_type": "code",
   "execution_count": 15,
   "metadata": {
    "collapsed": false
   },
   "outputs": [
    {
     "name": "stdout",
     "output_type": "stream",
     "text": [
      "Feature ranking:\n",
      "1. Term (0.009513)\n",
      "2. State (0.062098)\n",
      "3. Revolving Line Utilization (0.088838)\n",
      "4. Revolving Credit Balance (0.088942)\n",
      "5. Purpose (0.024977)\n",
      "6. Public Records (0.011889)\n",
      "7. Open Credit Lines (0.058926)\n",
      "8. Months since last major derogatory (0.027411)\n",
      "9. Months since last delinquency (0.044553)\n",
      "10. Months Since Earliest Credit (0.086995)\n",
      "11. Loan Amount (0.073097)\n",
      "12. Interest Rate (0.157408)\n",
      "13. Inquiries - past 6M (0.024234)\n",
      "14. Home Ownership (0.012933)\n",
      "15. Employment Length (0.038876)\n",
      "16. Delinquency Amount (0.000634)\n",
      "17. Delinquencies - past 2Y (0.013856)\n",
      "18. Debt-to-Income (0.090843)\n",
      "19. Collections 12M excl. med (0.002129)\n",
      "20. Annual Income (0.081252)\n",
      "21. Accounts Now Delinquent (0.000596)\n"
     ]
    }
   ],
   "source": [
    "###### Important Features Ranking ######\n",
    "\n",
    "# X_titles = ['loan_amnt', 'int_rate', 'term', 'emp_length', 'annual_inc', 'dti',\n",
    "#        'open_acc', 'revol_bal', 'revol_util', 'inq_last_6mths',\n",
    "#        'acc_now_delinq', 'delinq_amnt', 'delinq_2yrs',\n",
    "#        'mths_since_last_delinq', 'pub_rec', 'mths_since_last_major_derog',\n",
    "#        'collections_12_mths_ex_med', 'state', 'HomeOwnCat', 'Purpose',\n",
    "#        'EarliestCreditMonths']\n",
    "\n",
    "# Prettier translated variable titles\n",
    "X_titles = ['Loan Amount', 'Interest Rate', 'Term', 'Employment Length', 'Annual Income', 'Debt-to-Income',\n",
    "            'Open Credit Lines', 'Revolving Credit Balance', 'Revolving Line Utilization', 'Inquiries - past 6M',\n",
    "            'Accounts Now Delinquent', 'Delinquency Amount', 'Delinquencies - past 2Y', \n",
    "            'Months since last delinquency', 'Public Records', 'Months since last major derogatory', \n",
    "            'Collections 12M excl. med','State', 'Home Ownership', 'Purpose', 'Months Since Earliest Credit']\n",
    "\n",
    "### Variables seen by investor: map to my vars ###\n",
    "#  'DUE_AMT' = 'AMT'???\n",
    "#  'MOB' = 'SUBMIT_DATE'??\n",
    "#  'InterestRate' = 'INTERESTRATE'\n",
    "#  'MONTHLYCONTRACTAMT' = 'MON_PMT'\n",
    "#  'dti'='DTI'\n",
    "#  'MonthlyIncome' = 'MON_INCOME'\n",
    "#  'OpenCREDITLines' = 'OPENCRLINES'\n",
    "#  'TotalCREDITLines' = 'TOTCRLINES'\n",
    "#  'RevolvingCREDITBalance' = 'RevolvingCREDITBalance'\n",
    "#  'RevolvingLineUtilization' = 'RevolvingLineUtilization'\n",
    "#  'Inquiries6M' = 'Inquiries6M'\n",
    "#  'DQ2yrs' = 'DQ2yrs'\n",
    "#  'PublicRec' = 'PublicRec'\n",
    "#  'EmploymentLength' = 'EMP_LENGTH'\n",
    "#  'APPL_FICO_BAND' = 'APPL_FICO_BAND'\n",
    "#  'StateCat' = 'STATE'\n",
    "#  'HomeOwnCat' = 'HOMEOWNERSHIP'\n",
    "#  'GradeCat' = 'GRADE'\n",
    "#  'EarliestCreditMonths' = 'EARLIESTCREDIT'\n",
    "#  'term' = 'LOANLENGTH'\n",
    "\n",
    "feature_names = np.array(X_titles)\n",
    "importances = rfc.feature_importances_\n",
    "std = np.std([tree.feature_importances_\n",
    "                            for tree in rfc.estimators_], axis=0)\n",
    "indices = np.argsort(X_titles)[::-1]\n",
    "\n",
    "# Print the feature ranking\n",
    "print(\"Feature ranking:\")\n",
    "for f in range(X.shape[1]):\n",
    "    print(\"%d. %s (%f)\" % (f + 1, feature_names[indices[f]], importances[indices[f]]))"
   ]
  },
  {
   "cell_type": "code",
   "execution_count": 16,
   "metadata": {
    "collapsed": false
   },
   "outputs": [
    {
     "data": {
      "image/png": "[encoded data removed]",
      "text/plain": [
       "<matplotlib.figure.Figure at 0x115cc7da0>"
      ]
     },
     "metadata": {},
     "output_type": "display_data"
    }
   ],
   "source": [
    "###### Plot the feature importances of the forest ######\n",
    "from matplotlib import pyplot as plt\n",
    "\n",
    "feature_importance = rfc.feature_importances_\n",
    "# make importances relative to max importance\n",
    "#feature_importance = 100.0 * (feature_importance / feature_importance.max())\n",
    "feature_importance = 100.0 * feature_importance\n",
    "\n",
    "sorted_idx = np.argsort(feature_importance)\n",
    "pos = np.arange(sorted_idx.shape[0]) + .5\n",
    "plt.subplot(1, 2, 2)\n",
    "plt.barh(pos, feature_importance[sorted_idx], align='center')\n",
    "plt.yticks(pos, feature_names[sorted_idx])\n",
    "plt.xlabel('Relative Importance')\n",
    "plt.title('Variable Importance')\n",
    "plt.show()"
   ]
  },
  {
   "cell_type": "markdown",
   "metadata": {
    "collapsed": true
   },
   "source": [
    "## EXTRA STUFF, NOT YET HAD TIME FOR"
   ]
  },
  {
   "cell_type": "code",
   "execution_count": null,
   "metadata": {
    "collapsed": true
   },
   "outputs": [],
   "source": [
    "##### Gradient Boosted Regression Trees\n",
    "from sklearn import ensemble\n",
    "from sklearn import datasets\n",
    "from sklearn.utils import shuffle\n",
    "from sklearn.metrics import mean_squared_error\n",
    "from matplotlib import pyplot as plt\n",
    "\n",
    "X, y = shuffle(df.values, y, random_state=30)\n",
    "X = X.astype(np.float32)\n",
    "\n",
    "offset = int(X.shape[0] * 0.75)\n",
    "X_train, y_train = X[:offset], y[:offset]\n",
    "X_test, y_test = X[offset:], y[offset:]\n",
    "\n",
    "##### Estimate Best Parameters\n",
    "from sklearn.grid_search import GridSearchCV\n",
    "\n",
    "param_grid = {'learning_rate': [0.1, 0.05, 0.02, 0.01],\n",
    "              'max_depth': [4, 6],\n",
    "              'min_samples_leaf': [3, 5, 9, 17],\n",
    "              'max_features': [1.0, 0.3, 0.1]\n",
    "              }\n",
    "# param_grid = {'learning_rate': [0.1],\n",
    "#               'max_depth': [4],\n",
    "#               'min_samples_leaf': [3],\n",
    "#               'max_features': [1.0],\n",
    "#               }\n",
    "\n",
    "est = GridSearchCV(ensemble.GradientBoostingRegressor(n_estimators=100),\n",
    "                   param_grid, n_jobs=4, refit=True)\n",
    "\n",
    "est.fit(X_train, y_train)\n",
    "\n",
    "best_params = est.best_params_\n",
    "\n",
    "##### Run the Gradient Boosting \n",
    "est = ensemble.GradientBoostingRegressor(n_estimators=2000).fit(X_train, y_train)\n",
    "\n",
    "##### Get \n",
    "est.score(X_test,y_test)"
   ]
  },
  {
   "cell_type": "code",
   "execution_count": null,
   "metadata": {
    "collapsed": true
   },
   "outputs": [],
   "source": [
    "##### Look at Partial Dependence Plots to understand the functional relations between predictors and an outcome\n",
    "## capture marginal effect of a given variable or variables on the target function, in this case defaults\n",
    "\n",
    "from sklearn.ensemble.partial_dependence import plot_partial_dependence\n",
    "\n",
    "comp_features = [('annual_inc','dti'),'loan_amnt','Last_FICO_BAND','annual_inc', 'inq_last_6mths', 'revol_util', 'dti']\n",
    "\n",
    "fig, axs = plot_partial_dependence(est, X_train, comp_features,\n",
    "                                   feature_names=list(df.columns),\n",
    "                                   figsize=(14, 14), n_jobs=4)"
   ]
  },
  {
   "cell_type": "code",
   "execution_count": 1,
   "metadata": {
    "collapsed": false
   },
   "outputs": [],
   "source": [
    "##### Additional plots to look at relationships\n",
    "\n",
    "## TAKES A REAAAALLLLY LONG TIME, BUT LOOKS COOL.. HEAT MAP TYPE PLOT\n",
    "\n",
    "# sns.jointplot(y,df.Last_FICO_BAND.values,annot_kws=dict(stat=\"r\"),\n",
    "#               kind=\"kde\", color=\"#4CB391\").set_axis_labels(\"DQ2yrs\", \"Last_FICO_BAND\")\n",
    "# sns.plt.show()"
   ]
  }
 ],
 "metadata": {
  "anaconda-cloud": {},
  "kernelspec": {
   "display_name": "Python [default]",
   "language": "python",
   "name": "python3"
  },
  "language_info": {
   "codemirror_mode": {
    "name": "ipython",
    "version": 3
   },
   "file_extension": ".py",
   "mimetype": "text/x-python",
   "name": "python",
   "nbconvert_exporter": "python",
   "pygments_lexer": "ipython3",
   "version": "3.5.2"
  }
 },
 "nbformat": 4,
 "nbformat_minor": 1
}
