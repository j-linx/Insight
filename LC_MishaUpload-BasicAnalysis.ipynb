{
 "cells": [
  {
   "cell_type": "code",
   "execution_count": 3,
   "metadata": {
    "collapsed": true
   },
   "outputs": [],
   "source": [
    "import os\n",
    "os.chdir(r\"/Users/Greer/Desktop/Lending Club - From Misha/Payments\")\n",
    "\n",
    "import numpy as np\n",
    "import pandas as pd\n",
    "import seaborn as sns"
   ]
  },
  {
   "cell_type": "markdown",
   "metadata": {
    "collapsed": true
   },
   "source": [
    "# Import PMTHIST_all_20160715"
   ]
  },
  {
   "cell_type": "code",
   "execution_count": 22,
   "metadata": {
    "collapsed": false
   },
   "outputs": [
    {
     "name": "stdout",
     "output_type": "stream",
     "text": [
      "['LOAN_ID', 'PBAL_BEG_PERIOD', 'PRNCP_PAID', 'INT_PAID', 'FEE_PAID', 'DUE_AMT', 'RECEIVED_AMT', 'RECEIVED_D', 'PERIOD_END_LSTAT', 'MONTH', 'PBAL_END_PERIOD', 'MOB', 'CO', 'COAMT', 'InterestRate', 'IssuedDate', 'MONTHLYCONTRACTAMT', 'dti', 'State', 'HomeOwnership', 'MonthlyIncome', 'EarliestCREDITLine', 'OpenCREDITLines', 'TotalCREDITLines', 'RevolvingCREDITBalance', 'RevolvingLineUtilization', 'Inquiries6M', 'DQ2yrs', 'MonthsSinceDQ', 'PublicRec', 'MonthsSinceLastRec', 'EmploymentLength', 'currentpolicy', 'grade', 'term', 'APPL_FICO_BAND', 'Last_FICO_BAND', 'VINTAGE', 'PCO_RECOVERY', 'PCO_COLLECTION_FEE']\n"
     ]
    }
   ],
   "source": [
    "import csv\n",
    "\n",
    "## Check the attributes list\n",
    "with open('PMTHIST_all_20160715.csv', newline='') as f:\n",
    "  reader = csv.reader(f)\n",
    "  row1 = next(reader)\n",
    "    \n",
    "print(row1)"
   ]
  },
  {
   "cell_type": "code",
   "execution_count": 41,
   "metadata": {
    "collapsed": false
   },
   "outputs": [
    {
     "data": {
      "text/html": [
       "<div>\n",
       "<table border=\"1\" class=\"dataframe\">\n",
       "  <thead>\n",
       "    <tr style=\"text-align: right;\">\n",
       "      <th></th>\n",
       "      <th>LOAN_ID</th>\n",
       "      <th>PBAL_BEG_PERIOD</th>\n",
       "      <th>PRNCP_PAID</th>\n",
       "      <th>INT_PAID</th>\n",
       "      <th>FEE_PAID</th>\n",
       "      <th>DUE_AMT</th>\n",
       "      <th>RECEIVED_AMT</th>\n",
       "      <th>RECEIVED_D</th>\n",
       "      <th>PERIOD_END_LSTAT</th>\n",
       "      <th>MONTH</th>\n",
       "      <th>...</th>\n",
       "      <th>MonthsSinceLastRec</th>\n",
       "      <th>EmploymentLength</th>\n",
       "      <th>currentpolicy</th>\n",
       "      <th>grade</th>\n",
       "      <th>term</th>\n",
       "      <th>APPL_FICO_BAND</th>\n",
       "      <th>Last_FICO_BAND</th>\n",
       "      <th>VINTAGE</th>\n",
       "      <th>PCO_RECOVERY</th>\n",
       "      <th>PCO_COLLECTION_FEE</th>\n",
       "    </tr>\n",
       "  </thead>\n",
       "  <tbody>\n",
       "    <tr>\n",
       "      <th>0</th>\n",
       "      <td>54734</td>\n",
       "      <td>25000.000000</td>\n",
       "      <td>581.297917</td>\n",
       "      <td>247.802083</td>\n",
       "      <td>0.0</td>\n",
       "      <td>829.1</td>\n",
       "      <td>829.1</td>\n",
       "      <td>SEP2009</td>\n",
       "      <td>Current</td>\n",
       "      <td>SEP2009</td>\n",
       "      <td>...</td>\n",
       "      <td>NaN</td>\n",
       "      <td>&lt; 1 year</td>\n",
       "      <td>1</td>\n",
       "      <td>B</td>\n",
       "      <td>36</td>\n",
       "      <td>735-739</td>\n",
       "      <td>755-759</td>\n",
       "      <td>09Q3</td>\n",
       "      <td>NaN</td>\n",
       "      <td>NaN</td>\n",
       "    </tr>\n",
       "    <tr>\n",
       "      <th>1</th>\n",
       "      <td>54734</td>\n",
       "      <td>24418.702083</td>\n",
       "      <td>587.059790</td>\n",
       "      <td>242.040210</td>\n",
       "      <td>0.0</td>\n",
       "      <td>829.1</td>\n",
       "      <td>829.1</td>\n",
       "      <td>OCT2009</td>\n",
       "      <td>Current</td>\n",
       "      <td>OCT2009</td>\n",
       "      <td>...</td>\n",
       "      <td>NaN</td>\n",
       "      <td>&lt; 1 year</td>\n",
       "      <td>1</td>\n",
       "      <td>B</td>\n",
       "      <td>36</td>\n",
       "      <td>735-739</td>\n",
       "      <td>755-759</td>\n",
       "      <td>09Q3</td>\n",
       "      <td>NaN</td>\n",
       "      <td>NaN</td>\n",
       "    </tr>\n",
       "    <tr>\n",
       "      <th>2</th>\n",
       "      <td>54734</td>\n",
       "      <td>23831.642293</td>\n",
       "      <td>592.878776</td>\n",
       "      <td>236.221224</td>\n",
       "      <td>0.0</td>\n",
       "      <td>829.1</td>\n",
       "      <td>829.1</td>\n",
       "      <td>NOV2009</td>\n",
       "      <td>Current</td>\n",
       "      <td>NOV2009</td>\n",
       "      <td>...</td>\n",
       "      <td>NaN</td>\n",
       "      <td>&lt; 1 year</td>\n",
       "      <td>1</td>\n",
       "      <td>B</td>\n",
       "      <td>36</td>\n",
       "      <td>735-739</td>\n",
       "      <td>785-789</td>\n",
       "      <td>09Q3</td>\n",
       "      <td>NaN</td>\n",
       "      <td>NaN</td>\n",
       "    </tr>\n",
       "    <tr>\n",
       "      <th>3</th>\n",
       "      <td>54734</td>\n",
       "      <td>23238.763518</td>\n",
       "      <td>598.755439</td>\n",
       "      <td>230.344561</td>\n",
       "      <td>0.0</td>\n",
       "      <td>829.1</td>\n",
       "      <td>829.1</td>\n",
       "      <td>DEC2009</td>\n",
       "      <td>Current</td>\n",
       "      <td>DEC2009</td>\n",
       "      <td>...</td>\n",
       "      <td>NaN</td>\n",
       "      <td>&lt; 1 year</td>\n",
       "      <td>1</td>\n",
       "      <td>B</td>\n",
       "      <td>36</td>\n",
       "      <td>735-739</td>\n",
       "      <td>780-784</td>\n",
       "      <td>09Q3</td>\n",
       "      <td>NaN</td>\n",
       "      <td>NaN</td>\n",
       "    </tr>\n",
       "    <tr>\n",
       "      <th>4</th>\n",
       "      <td>54734</td>\n",
       "      <td>22640.008078</td>\n",
       "      <td>604.690353</td>\n",
       "      <td>224.409647</td>\n",
       "      <td>0.0</td>\n",
       "      <td>829.1</td>\n",
       "      <td>829.1</td>\n",
       "      <td>JAN2010</td>\n",
       "      <td>Current</td>\n",
       "      <td>JAN2010</td>\n",
       "      <td>...</td>\n",
       "      <td>NaN</td>\n",
       "      <td>&lt; 1 year</td>\n",
       "      <td>1</td>\n",
       "      <td>B</td>\n",
       "      <td>36</td>\n",
       "      <td>735-739</td>\n",
       "      <td>800-804</td>\n",
       "      <td>09Q3</td>\n",
       "      <td>NaN</td>\n",
       "      <td>NaN</td>\n",
       "    </tr>\n",
       "  </tbody>\n",
       "</table>\n",
       "<p>5 rows × 40 columns</p>\n",
       "</div>"
      ],
      "text/plain": [
       "   LOAN_ID  PBAL_BEG_PERIOD  PRNCP_PAID    INT_PAID  FEE_PAID  DUE_AMT  \\\n",
       "0    54734     25000.000000  581.297917  247.802083       0.0    829.1   \n",
       "1    54734     24418.702083  587.059790  242.040210       0.0    829.1   \n",
       "2    54734     23831.642293  592.878776  236.221224       0.0    829.1   \n",
       "3    54734     23238.763518  598.755439  230.344561       0.0    829.1   \n",
       "4    54734     22640.008078  604.690353  224.409647       0.0    829.1   \n",
       "\n",
       "   RECEIVED_AMT RECEIVED_D PERIOD_END_LSTAT    MONTH        ...          \\\n",
       "0         829.1    SEP2009          Current  SEP2009        ...           \n",
       "1         829.1    OCT2009          Current  OCT2009        ...           \n",
       "2         829.1    NOV2009          Current  NOV2009        ...           \n",
       "3         829.1    DEC2009          Current  DEC2009        ...           \n",
       "4         829.1    JAN2010          Current  JAN2010        ...           \n",
       "\n",
       "   MonthsSinceLastRec  EmploymentLength  currentpolicy  grade  term  \\\n",
       "0                 NaN          < 1 year              1      B    36   \n",
       "1                 NaN          < 1 year              1      B    36   \n",
       "2                 NaN          < 1 year              1      B    36   \n",
       "3                 NaN          < 1 year              1      B    36   \n",
       "4                 NaN          < 1 year              1      B    36   \n",
       "\n",
       "  APPL_FICO_BAND  Last_FICO_BAND  VINTAGE PCO_RECOVERY PCO_COLLECTION_FEE  \n",
       "0        735-739         755-759     09Q3          NaN                NaN  \n",
       "1        735-739         755-759     09Q3          NaN                NaN  \n",
       "2        735-739         785-789     09Q3          NaN                NaN  \n",
       "3        735-739         780-784     09Q3          NaN                NaN  \n",
       "4        735-739         800-804     09Q3          NaN                NaN  \n",
       "\n",
       "[5 rows x 40 columns]"
      ]
     },
     "execution_count": 41,
     "metadata": {},
     "output_type": "execute_result"
    }
   ],
   "source": [
    "data = pd.read_csv(\"PMTHIST_all_20160715.csv\", nrows=10000, low_memory=False)\n",
    "data.head()"
   ]
  },
  {
   "cell_type": "markdown",
   "metadata": {},
   "source": [
    "# Splitting large csv into 30 chunks"
   ]
  },
  {
   "cell_type": "code",
   "execution_count": 45,
   "metadata": {
    "collapsed": false
   },
   "outputs": [
    {
     "name": "stderr",
     "output_type": "stream",
     "text": [
      "/Users/Greer/anaconda3/lib/python3.5/site-packages/IPython/core/interactiveshell.py:2717: DtypeWarning: Columns (29) have mixed types. Specify dtype option on import or set low_memory=False.\n",
      "  interactivity=interactivity, compiler=compiler, result=result)\n"
     ]
    }
   ],
   "source": [
    "for i,chunk in enumerate(pd.read_csv('PMTHIST_all_20160715.csv', chunksize=500000)):\n",
    "    chunk.to_csv('chunk{}.csv'.format(i))"
   ]
  },
  {
   "cell_type": "code",
   "execution_count": 52,
   "metadata": {
    "collapsed": true
   },
   "outputs": [],
   "source": [
    "os.chdir(r\"/Users/Greer/Desktop/Lending Club - From Misha/Payments/chunks\")\n",
    "temp = pd.read_csv(\"chunk0.csv\", low_memory=False)"
   ]
  },
  {
   "cell_type": "code",
   "execution_count": 53,
   "metadata": {
    "collapsed": false
   },
   "outputs": [
    {
     "data": {
      "text/html": [
       "<div>\n",
       "<table border=\"1\" class=\"dataframe\">\n",
       "  <thead>\n",
       "    <tr style=\"text-align: right;\">\n",
       "      <th></th>\n",
       "      <th>Unnamed: 0</th>\n",
       "      <th>LOAN_ID</th>\n",
       "      <th>PBAL_BEG_PERIOD</th>\n",
       "      <th>PRNCP_PAID</th>\n",
       "      <th>INT_PAID</th>\n",
       "      <th>FEE_PAID</th>\n",
       "      <th>DUE_AMT</th>\n",
       "      <th>RECEIVED_AMT</th>\n",
       "      <th>RECEIVED_D</th>\n",
       "      <th>PERIOD_END_LSTAT</th>\n",
       "      <th>...</th>\n",
       "      <th>MonthsSinceLastRec</th>\n",
       "      <th>EmploymentLength</th>\n",
       "      <th>currentpolicy</th>\n",
       "      <th>grade</th>\n",
       "      <th>term</th>\n",
       "      <th>APPL_FICO_BAND</th>\n",
       "      <th>Last_FICO_BAND</th>\n",
       "      <th>VINTAGE</th>\n",
       "      <th>PCO_RECOVERY</th>\n",
       "      <th>PCO_COLLECTION_FEE</th>\n",
       "    </tr>\n",
       "  </thead>\n",
       "  <tbody>\n",
       "    <tr>\n",
       "      <th>0</th>\n",
       "      <td>0</td>\n",
       "      <td>54734</td>\n",
       "      <td>25000.000000</td>\n",
       "      <td>581.297917</td>\n",
       "      <td>247.802083</td>\n",
       "      <td>0.0</td>\n",
       "      <td>829.1</td>\n",
       "      <td>829.1</td>\n",
       "      <td>SEP2009</td>\n",
       "      <td>Current</td>\n",
       "      <td>...</td>\n",
       "      <td>NaN</td>\n",
       "      <td>&lt; 1 year</td>\n",
       "      <td>1</td>\n",
       "      <td>B</td>\n",
       "      <td>36</td>\n",
       "      <td>735-739</td>\n",
       "      <td>755-759</td>\n",
       "      <td>09Q3</td>\n",
       "      <td>NaN</td>\n",
       "      <td>NaN</td>\n",
       "    </tr>\n",
       "    <tr>\n",
       "      <th>1</th>\n",
       "      <td>1</td>\n",
       "      <td>54734</td>\n",
       "      <td>24418.702083</td>\n",
       "      <td>587.059790</td>\n",
       "      <td>242.040210</td>\n",
       "      <td>0.0</td>\n",
       "      <td>829.1</td>\n",
       "      <td>829.1</td>\n",
       "      <td>OCT2009</td>\n",
       "      <td>Current</td>\n",
       "      <td>...</td>\n",
       "      <td>NaN</td>\n",
       "      <td>&lt; 1 year</td>\n",
       "      <td>1</td>\n",
       "      <td>B</td>\n",
       "      <td>36</td>\n",
       "      <td>735-739</td>\n",
       "      <td>755-759</td>\n",
       "      <td>09Q3</td>\n",
       "      <td>NaN</td>\n",
       "      <td>NaN</td>\n",
       "    </tr>\n",
       "    <tr>\n",
       "      <th>2</th>\n",
       "      <td>2</td>\n",
       "      <td>54734</td>\n",
       "      <td>23831.642293</td>\n",
       "      <td>592.878776</td>\n",
       "      <td>236.221224</td>\n",
       "      <td>0.0</td>\n",
       "      <td>829.1</td>\n",
       "      <td>829.1</td>\n",
       "      <td>NOV2009</td>\n",
       "      <td>Current</td>\n",
       "      <td>...</td>\n",
       "      <td>NaN</td>\n",
       "      <td>&lt; 1 year</td>\n",
       "      <td>1</td>\n",
       "      <td>B</td>\n",
       "      <td>36</td>\n",
       "      <td>735-739</td>\n",
       "      <td>785-789</td>\n",
       "      <td>09Q3</td>\n",
       "      <td>NaN</td>\n",
       "      <td>NaN</td>\n",
       "    </tr>\n",
       "    <tr>\n",
       "      <th>3</th>\n",
       "      <td>3</td>\n",
       "      <td>54734</td>\n",
       "      <td>23238.763518</td>\n",
       "      <td>598.755439</td>\n",
       "      <td>230.344561</td>\n",
       "      <td>0.0</td>\n",
       "      <td>829.1</td>\n",
       "      <td>829.1</td>\n",
       "      <td>DEC2009</td>\n",
       "      <td>Current</td>\n",
       "      <td>...</td>\n",
       "      <td>NaN</td>\n",
       "      <td>&lt; 1 year</td>\n",
       "      <td>1</td>\n",
       "      <td>B</td>\n",
       "      <td>36</td>\n",
       "      <td>735-739</td>\n",
       "      <td>780-784</td>\n",
       "      <td>09Q3</td>\n",
       "      <td>NaN</td>\n",
       "      <td>NaN</td>\n",
       "    </tr>\n",
       "    <tr>\n",
       "      <th>4</th>\n",
       "      <td>4</td>\n",
       "      <td>54734</td>\n",
       "      <td>22640.008078</td>\n",
       "      <td>604.690353</td>\n",
       "      <td>224.409647</td>\n",
       "      <td>0.0</td>\n",
       "      <td>829.1</td>\n",
       "      <td>829.1</td>\n",
       "      <td>JAN2010</td>\n",
       "      <td>Current</td>\n",
       "      <td>...</td>\n",
       "      <td>NaN</td>\n",
       "      <td>&lt; 1 year</td>\n",
       "      <td>1</td>\n",
       "      <td>B</td>\n",
       "      <td>36</td>\n",
       "      <td>735-739</td>\n",
       "      <td>800-804</td>\n",
       "      <td>09Q3</td>\n",
       "      <td>NaN</td>\n",
       "      <td>NaN</td>\n",
       "    </tr>\n",
       "  </tbody>\n",
       "</table>\n",
       "<p>5 rows × 41 columns</p>\n",
       "</div>"
      ],
      "text/plain": [
       "   Unnamed: 0  LOAN_ID  PBAL_BEG_PERIOD  PRNCP_PAID    INT_PAID  FEE_PAID  \\\n",
       "0           0    54734     25000.000000  581.297917  247.802083       0.0   \n",
       "1           1    54734     24418.702083  587.059790  242.040210       0.0   \n",
       "2           2    54734     23831.642293  592.878776  236.221224       0.0   \n",
       "3           3    54734     23238.763518  598.755439  230.344561       0.0   \n",
       "4           4    54734     22640.008078  604.690353  224.409647       0.0   \n",
       "\n",
       "   DUE_AMT  RECEIVED_AMT RECEIVED_D PERIOD_END_LSTAT        ...          \\\n",
       "0    829.1         829.1    SEP2009          Current        ...           \n",
       "1    829.1         829.1    OCT2009          Current        ...           \n",
       "2    829.1         829.1    NOV2009          Current        ...           \n",
       "3    829.1         829.1    DEC2009          Current        ...           \n",
       "4    829.1         829.1    JAN2010          Current        ...           \n",
       "\n",
       "  MonthsSinceLastRec  EmploymentLength  currentpolicy  grade  term  \\\n",
       "0                NaN          < 1 year              1      B    36   \n",
       "1                NaN          < 1 year              1      B    36   \n",
       "2                NaN          < 1 year              1      B    36   \n",
       "3                NaN          < 1 year              1      B    36   \n",
       "4                NaN          < 1 year              1      B    36   \n",
       "\n",
       "   APPL_FICO_BAND Last_FICO_BAND  VINTAGE  PCO_RECOVERY PCO_COLLECTION_FEE  \n",
       "0         735-739        755-759     09Q3           NaN                NaN  \n",
       "1         735-739        755-759     09Q3           NaN                NaN  \n",
       "2         735-739        785-789     09Q3           NaN                NaN  \n",
       "3         735-739        780-784     09Q3           NaN                NaN  \n",
       "4         735-739        800-804     09Q3           NaN                NaN  \n",
       "\n",
       "[5 rows x 41 columns]"
      ]
     },
     "execution_count": 53,
     "metadata": {},
     "output_type": "execute_result"
    }
   ],
   "source": [
    "temp.head()"
   ]
  },
  {
   "cell_type": "markdown",
   "metadata": {},
   "source": [
    "# Loop chunk CSV files into 30 dataframes within a large dict file d{}"
   ]
  },
  {
   "cell_type": "code",
   "execution_count": null,
   "metadata": {
    "collapsed": true
   },
   "outputs": [],
   "source": [
    "d = {}\n",
    "for i in range(0,1):\n",
    "    d[i] = pd.read_csv(\"chunk\" + str(i) + \".csv\", low_memory=False)\n",
    "\n",
    "## Once d is created the DataFrame for company x can be retrieved as d[x], so you can look up a specific company quite easily. To operate on all companies you would typically use a loop like:\n",
    "# for name, df in d.items():\n",
    "    # operate on DataFrame df for company name"
   ]
  },
  {
   "cell_type": "markdown",
   "metadata": {},
   "source": [
    "# Concatenate the 30 dataframes into one giant dataframe"
   ]
  },
  {
   "cell_type": "code",
   "execution_count": 4,
   "metadata": {
    "collapsed": false
   },
   "outputs": [],
   "source": [
    "import glob\n",
    "\n",
    "path =r'/Users/Greer/Desktop/Lending Club - From Misha/Payments/chunks' # use your path \n",
    "allFiles = glob.glob(path + \"/*.csv\")\n",
    "frame = pd.DataFrame()\n",
    "list_ = []\n",
    "for file_ in allFiles:\n",
    "    df = pd.read_csv(file_,index_col=None, header=0, low_memory=False)\n",
    "    list_.append(df)\n",
    "frame = pd.concat(list_)"
   ]
  },
  {
   "cell_type": "code",
   "execution_count": 5,
   "metadata": {
    "collapsed": false
   },
   "outputs": [
    {
     "data": {
      "text/plain": [
       "15376980"
      ]
     },
     "execution_count": 5,
     "metadata": {},
     "output_type": "execute_result"
    }
   ],
   "source": [
    "len(frame)"
   ]
  },
  {
   "cell_type": "code",
   "execution_count": 6,
   "metadata": {
    "collapsed": false
   },
   "outputs": [
    {
     "data": {
      "text/html": [
       "<div>\n",
       "<table border=\"1\" class=\"dataframe\">\n",
       "  <thead>\n",
       "    <tr style=\"text-align: right;\">\n",
       "      <th></th>\n",
       "      <th>LOAN_ID</th>\n",
       "      <th>PBAL_BEG_PERIOD</th>\n",
       "      <th>PRNCP_PAID</th>\n",
       "      <th>INT_PAID</th>\n",
       "      <th>FEE_PAID</th>\n",
       "      <th>DUE_AMT</th>\n",
       "      <th>RECEIVED_AMT</th>\n",
       "      <th>RECEIVED_D</th>\n",
       "      <th>PERIOD_END_LSTAT</th>\n",
       "      <th>MONTH</th>\n",
       "      <th>...</th>\n",
       "      <th>MonthsSinceLastRec</th>\n",
       "      <th>EmploymentLength</th>\n",
       "      <th>currentpolicy</th>\n",
       "      <th>grade</th>\n",
       "      <th>term</th>\n",
       "      <th>APPL_FICO_BAND</th>\n",
       "      <th>Last_FICO_BAND</th>\n",
       "      <th>VINTAGE</th>\n",
       "      <th>PCO_RECOVERY</th>\n",
       "      <th>PCO_COLLECTION_FEE</th>\n",
       "    </tr>\n",
       "  </thead>\n",
       "  <tbody>\n",
       "    <tr>\n",
       "      <th>0</th>\n",
       "      <td>54734</td>\n",
       "      <td>25000.000000</td>\n",
       "      <td>581.297917</td>\n",
       "      <td>247.802083</td>\n",
       "      <td>0.0</td>\n",
       "      <td>829.1</td>\n",
       "      <td>829.1</td>\n",
       "      <td>SEP2009</td>\n",
       "      <td>Current</td>\n",
       "      <td>SEP2009</td>\n",
       "      <td>...</td>\n",
       "      <td>NaN</td>\n",
       "      <td>&lt; 1 year</td>\n",
       "      <td>1</td>\n",
       "      <td>B</td>\n",
       "      <td>36</td>\n",
       "      <td>735-739</td>\n",
       "      <td>755-759</td>\n",
       "      <td>09Q3</td>\n",
       "      <td>NaN</td>\n",
       "      <td>NaN</td>\n",
       "    </tr>\n",
       "    <tr>\n",
       "      <th>1</th>\n",
       "      <td>54734</td>\n",
       "      <td>24418.702083</td>\n",
       "      <td>587.059790</td>\n",
       "      <td>242.040210</td>\n",
       "      <td>0.0</td>\n",
       "      <td>829.1</td>\n",
       "      <td>829.1</td>\n",
       "      <td>OCT2009</td>\n",
       "      <td>Current</td>\n",
       "      <td>OCT2009</td>\n",
       "      <td>...</td>\n",
       "      <td>NaN</td>\n",
       "      <td>&lt; 1 year</td>\n",
       "      <td>1</td>\n",
       "      <td>B</td>\n",
       "      <td>36</td>\n",
       "      <td>735-739</td>\n",
       "      <td>755-759</td>\n",
       "      <td>09Q3</td>\n",
       "      <td>NaN</td>\n",
       "      <td>NaN</td>\n",
       "    </tr>\n",
       "    <tr>\n",
       "      <th>2</th>\n",
       "      <td>54734</td>\n",
       "      <td>23831.642293</td>\n",
       "      <td>592.878776</td>\n",
       "      <td>236.221224</td>\n",
       "      <td>0.0</td>\n",
       "      <td>829.1</td>\n",
       "      <td>829.1</td>\n",
       "      <td>NOV2009</td>\n",
       "      <td>Current</td>\n",
       "      <td>NOV2009</td>\n",
       "      <td>...</td>\n",
       "      <td>NaN</td>\n",
       "      <td>&lt; 1 year</td>\n",
       "      <td>1</td>\n",
       "      <td>B</td>\n",
       "      <td>36</td>\n",
       "      <td>735-739</td>\n",
       "      <td>785-789</td>\n",
       "      <td>09Q3</td>\n",
       "      <td>NaN</td>\n",
       "      <td>NaN</td>\n",
       "    </tr>\n",
       "    <tr>\n",
       "      <th>3</th>\n",
       "      <td>54734</td>\n",
       "      <td>23238.763518</td>\n",
       "      <td>598.755439</td>\n",
       "      <td>230.344561</td>\n",
       "      <td>0.0</td>\n",
       "      <td>829.1</td>\n",
       "      <td>829.1</td>\n",
       "      <td>DEC2009</td>\n",
       "      <td>Current</td>\n",
       "      <td>DEC2009</td>\n",
       "      <td>...</td>\n",
       "      <td>NaN</td>\n",
       "      <td>&lt; 1 year</td>\n",
       "      <td>1</td>\n",
       "      <td>B</td>\n",
       "      <td>36</td>\n",
       "      <td>735-739</td>\n",
       "      <td>780-784</td>\n",
       "      <td>09Q3</td>\n",
       "      <td>NaN</td>\n",
       "      <td>NaN</td>\n",
       "    </tr>\n",
       "    <tr>\n",
       "      <th>4</th>\n",
       "      <td>54734</td>\n",
       "      <td>22640.008078</td>\n",
       "      <td>604.690353</td>\n",
       "      <td>224.409647</td>\n",
       "      <td>0.0</td>\n",
       "      <td>829.1</td>\n",
       "      <td>829.1</td>\n",
       "      <td>JAN2010</td>\n",
       "      <td>Current</td>\n",
       "      <td>JAN2010</td>\n",
       "      <td>...</td>\n",
       "      <td>NaN</td>\n",
       "      <td>&lt; 1 year</td>\n",
       "      <td>1</td>\n",
       "      <td>B</td>\n",
       "      <td>36</td>\n",
       "      <td>735-739</td>\n",
       "      <td>800-804</td>\n",
       "      <td>09Q3</td>\n",
       "      <td>NaN</td>\n",
       "      <td>NaN</td>\n",
       "    </tr>\n",
       "  </tbody>\n",
       "</table>\n",
       "<p>5 rows × 40 columns</p>\n",
       "</div>"
      ],
      "text/plain": [
       "   LOAN_ID  PBAL_BEG_PERIOD  PRNCP_PAID    INT_PAID  FEE_PAID  DUE_AMT  \\\n",
       "0    54734     25000.000000  581.297917  247.802083       0.0    829.1   \n",
       "1    54734     24418.702083  587.059790  242.040210       0.0    829.1   \n",
       "2    54734     23831.642293  592.878776  236.221224       0.0    829.1   \n",
       "3    54734     23238.763518  598.755439  230.344561       0.0    829.1   \n",
       "4    54734     22640.008078  604.690353  224.409647       0.0    829.1   \n",
       "\n",
       "   RECEIVED_AMT RECEIVED_D PERIOD_END_LSTAT    MONTH        ...          \\\n",
       "0         829.1    SEP2009          Current  SEP2009        ...           \n",
       "1         829.1    OCT2009          Current  OCT2009        ...           \n",
       "2         829.1    NOV2009          Current  NOV2009        ...           \n",
       "3         829.1    DEC2009          Current  DEC2009        ...           \n",
       "4         829.1    JAN2010          Current  JAN2010        ...           \n",
       "\n",
       "   MonthsSinceLastRec  EmploymentLength  currentpolicy  grade  term  \\\n",
       "0                 NaN          < 1 year              1      B    36   \n",
       "1                 NaN          < 1 year              1      B    36   \n",
       "2                 NaN          < 1 year              1      B    36   \n",
       "3                 NaN          < 1 year              1      B    36   \n",
       "4                 NaN          < 1 year              1      B    36   \n",
       "\n",
       "  APPL_FICO_BAND  Last_FICO_BAND  VINTAGE PCO_RECOVERY PCO_COLLECTION_FEE  \n",
       "0        735-739         755-759     09Q3          NaN                NaN  \n",
       "1        735-739         755-759     09Q3          NaN                NaN  \n",
       "2        735-739         785-789     09Q3          NaN                NaN  \n",
       "3        735-739         780-784     09Q3          NaN                NaN  \n",
       "4        735-739         800-804     09Q3          NaN                NaN  \n",
       "\n",
       "[5 rows x 40 columns]"
      ]
     },
     "execution_count": 6,
     "metadata": {},
     "output_type": "execute_result"
    }
   ],
   "source": [
    "frame.drop(frame.columns[[0]], axis=1, inplace=True)\n",
    "frame.head()"
   ]
  },
  {
   "cell_type": "code",
   "execution_count": 51,
   "metadata": {
    "collapsed": false
   },
   "outputs": [
    {
     "data": {
      "text/plain": [
       "['LOAN_ID',\n",
       " 'PBAL_BEG_PERIOD',\n",
       " 'PRNCP_PAID',\n",
       " 'INT_PAID',\n",
       " 'FEE_PAID',\n",
       " 'DUE_AMT',\n",
       " 'RECEIVED_AMT',\n",
       " 'RECEIVED_D',\n",
       " 'PERIOD_END_LSTAT',\n",
       " 'MONTH',\n",
       " 'PBAL_END_PERIOD',\n",
       " 'MOB',\n",
       " 'CO',\n",
       " 'COAMT',\n",
       " 'InterestRate',\n",
       " 'IssuedDate',\n",
       " 'MONTHLYCONTRACTAMT',\n",
       " 'dti',\n",
       " 'State',\n",
       " 'HomeOwnership',\n",
       " 'MonthlyIncome',\n",
       " 'EarliestCREDITLine',\n",
       " 'OpenCREDITLines',\n",
       " 'TotalCREDITLines',\n",
       " 'RevolvingCREDITBalance',\n",
       " 'RevolvingLineUtilization',\n",
       " 'Inquiries6M',\n",
       " 'DQ2yrs',\n",
       " 'MonthsSinceDQ',\n",
       " 'PublicRec',\n",
       " 'MonthsSinceLastRec',\n",
       " 'EmploymentLength',\n",
       " 'currentpolicy',\n",
       " 'grade',\n",
       " 'term',\n",
       " 'APPL_FICO_BAND',\n",
       " 'Last_FICO_BAND',\n",
       " 'VINTAGE',\n",
       " 'PCO_RECOVERY',\n",
       " 'PCO_COLLECTION_FEE']"
      ]
     },
     "execution_count": 51,
     "metadata": {},
     "output_type": "execute_result"
    }
   ],
   "source": [
    "df = frame\n",
    "df.reset_index\n",
    "list(df)"
   ]
  },
  {
   "cell_type": "code",
   "execution_count": 10,
   "metadata": {
    "collapsed": false
   },
   "outputs": [
    {
     "data": {
      "text/html": [
       "<div>\n",
       "<table border=\"1\" class=\"dataframe\">\n",
       "  <thead>\n",
       "    <tr style=\"text-align: right;\">\n",
       "      <th></th>\n",
       "      <th>LOAN_ID</th>\n",
       "      <th>PBAL_BEG_PERIOD</th>\n",
       "      <th>PRNCP_PAID</th>\n",
       "      <th>INT_PAID</th>\n",
       "      <th>FEE_PAID</th>\n",
       "      <th>DUE_AMT</th>\n",
       "      <th>RECEIVED_AMT</th>\n",
       "      <th>RECEIVED_D</th>\n",
       "      <th>PERIOD_END_LSTAT</th>\n",
       "      <th>MONTH</th>\n",
       "    </tr>\n",
       "  </thead>\n",
       "  <tbody>\n",
       "    <tr>\n",
       "      <th>0</th>\n",
       "      <td>54734</td>\n",
       "      <td>25000.000000</td>\n",
       "      <td>581.297917</td>\n",
       "      <td>247.802083</td>\n",
       "      <td>0.0</td>\n",
       "      <td>829.1</td>\n",
       "      <td>829.1</td>\n",
       "      <td>SEP2009</td>\n",
       "      <td>Current</td>\n",
       "      <td>SEP2009</td>\n",
       "    </tr>\n",
       "    <tr>\n",
       "      <th>1</th>\n",
       "      <td>54734</td>\n",
       "      <td>24418.702083</td>\n",
       "      <td>587.059790</td>\n",
       "      <td>242.040210</td>\n",
       "      <td>0.0</td>\n",
       "      <td>829.1</td>\n",
       "      <td>829.1</td>\n",
       "      <td>OCT2009</td>\n",
       "      <td>Current</td>\n",
       "      <td>OCT2009</td>\n",
       "    </tr>\n",
       "    <tr>\n",
       "      <th>2</th>\n",
       "      <td>54734</td>\n",
       "      <td>23831.642293</td>\n",
       "      <td>592.878776</td>\n",
       "      <td>236.221224</td>\n",
       "      <td>0.0</td>\n",
       "      <td>829.1</td>\n",
       "      <td>829.1</td>\n",
       "      <td>NOV2009</td>\n",
       "      <td>Current</td>\n",
       "      <td>NOV2009</td>\n",
       "    </tr>\n",
       "    <tr>\n",
       "      <th>3</th>\n",
       "      <td>54734</td>\n",
       "      <td>23238.763518</td>\n",
       "      <td>598.755439</td>\n",
       "      <td>230.344561</td>\n",
       "      <td>0.0</td>\n",
       "      <td>829.1</td>\n",
       "      <td>829.1</td>\n",
       "      <td>DEC2009</td>\n",
       "      <td>Current</td>\n",
       "      <td>DEC2009</td>\n",
       "    </tr>\n",
       "  </tbody>\n",
       "</table>\n",
       "</div>"
      ],
      "text/plain": [
       "   LOAN_ID  PBAL_BEG_PERIOD  PRNCP_PAID    INT_PAID  FEE_PAID  DUE_AMT  \\\n",
       "0    54734     25000.000000  581.297917  247.802083       0.0    829.1   \n",
       "1    54734     24418.702083  587.059790  242.040210       0.0    829.1   \n",
       "2    54734     23831.642293  592.878776  236.221224       0.0    829.1   \n",
       "3    54734     23238.763518  598.755439  230.344561       0.0    829.1   \n",
       "\n",
       "   RECEIVED_AMT RECEIVED_D PERIOD_END_LSTAT    MONTH  \n",
       "0         829.1    SEP2009          Current  SEP2009  \n",
       "1         829.1    OCT2009          Current  OCT2009  \n",
       "2         829.1    NOV2009          Current  NOV2009  \n",
       "3         829.1    DEC2009          Current  DEC2009  "
      ]
     },
     "execution_count": 10,
     "metadata": {},
     "output_type": "execute_result"
    }
   ],
   "source": [
    "df.iloc[:4,:10]"
   ]
  },
  {
   "cell_type": "code",
   "execution_count": 16,
   "metadata": {
    "collapsed": false
   },
   "outputs": [
    {
     "data": {
      "text/html": [
       "<div>\n",
       "<table border=\"1\" class=\"dataframe\">\n",
       "  <thead>\n",
       "    <tr style=\"text-align: right;\">\n",
       "      <th></th>\n",
       "      <th>MOB</th>\n",
       "      <th>CO</th>\n",
       "      <th>COAMT</th>\n",
       "      <th>InterestRate</th>\n",
       "      <th>IssuedDate</th>\n",
       "      <th>MONTHLYCONTRACTAMT</th>\n",
       "      <th>dti</th>\n",
       "      <th>State</th>\n",
       "      <th>HomeOwnership</th>\n",
       "      <th>MonthlyIncome</th>\n",
       "      <th>EarliestCREDITLine</th>\n",
       "    </tr>\n",
       "  </thead>\n",
       "  <tbody>\n",
       "    <tr>\n",
       "      <th>0</th>\n",
       "      <td>1</td>\n",
       "      <td>0</td>\n",
       "      <td>0.0</td>\n",
       "      <td>0.1189</td>\n",
       "      <td>AUG2009</td>\n",
       "      <td>829.1</td>\n",
       "      <td>19.48</td>\n",
       "      <td>CA</td>\n",
       "      <td>RENT</td>\n",
       "      <td>7083.333333</td>\n",
       "      <td>FEB1994</td>\n",
       "    </tr>\n",
       "    <tr>\n",
       "      <th>1</th>\n",
       "      <td>2</td>\n",
       "      <td>0</td>\n",
       "      <td>0.0</td>\n",
       "      <td>0.1189</td>\n",
       "      <td>AUG2009</td>\n",
       "      <td>829.1</td>\n",
       "      <td>19.48</td>\n",
       "      <td>CA</td>\n",
       "      <td>RENT</td>\n",
       "      <td>7083.333333</td>\n",
       "      <td>FEB1994</td>\n",
       "    </tr>\n",
       "    <tr>\n",
       "      <th>2</th>\n",
       "      <td>3</td>\n",
       "      <td>0</td>\n",
       "      <td>0.0</td>\n",
       "      <td>0.1189</td>\n",
       "      <td>AUG2009</td>\n",
       "      <td>829.1</td>\n",
       "      <td>19.48</td>\n",
       "      <td>CA</td>\n",
       "      <td>RENT</td>\n",
       "      <td>7083.333333</td>\n",
       "      <td>FEB1994</td>\n",
       "    </tr>\n",
       "    <tr>\n",
       "      <th>3</th>\n",
       "      <td>4</td>\n",
       "      <td>0</td>\n",
       "      <td>0.0</td>\n",
       "      <td>0.1189</td>\n",
       "      <td>AUG2009</td>\n",
       "      <td>829.1</td>\n",
       "      <td>19.48</td>\n",
       "      <td>CA</td>\n",
       "      <td>RENT</td>\n",
       "      <td>7083.333333</td>\n",
       "      <td>FEB1994</td>\n",
       "    </tr>\n",
       "  </tbody>\n",
       "</table>\n",
       "</div>"
      ],
      "text/plain": [
       "   MOB  CO  COAMT  InterestRate IssuedDate  MONTHLYCONTRACTAMT    dti State  \\\n",
       "0    1   0    0.0        0.1189    AUG2009               829.1  19.48    CA   \n",
       "1    2   0    0.0        0.1189    AUG2009               829.1  19.48    CA   \n",
       "2    3   0    0.0        0.1189    AUG2009               829.1  19.48    CA   \n",
       "3    4   0    0.0        0.1189    AUG2009               829.1  19.48    CA   \n",
       "\n",
       "  HomeOwnership  MonthlyIncome EarliestCREDITLine  \n",
       "0          RENT    7083.333333            FEB1994  \n",
       "1          RENT    7083.333333            FEB1994  \n",
       "2          RENT    7083.333333            FEB1994  \n",
       "3          RENT    7083.333333            FEB1994  "
      ]
     },
     "execution_count": 16,
     "metadata": {},
     "output_type": "execute_result"
    }
   ],
   "source": [
    "df.iloc[:4,11:22]"
   ]
  },
  {
   "cell_type": "code",
   "execution_count": 20,
   "metadata": {
    "collapsed": false
   },
   "outputs": [
    {
     "data": {
      "text/html": [
       "<div>\n",
       "<table border=\"1\" class=\"dataframe\">\n",
       "  <thead>\n",
       "    <tr style=\"text-align: right;\">\n",
       "      <th></th>\n",
       "      <th>TotalCREDITLines</th>\n",
       "      <th>RevolvingCREDITBalance</th>\n",
       "      <th>RevolvingLineUtilization</th>\n",
       "      <th>Inquiries6M</th>\n",
       "      <th>DQ2yrs</th>\n",
       "      <th>MonthsSinceDQ</th>\n",
       "      <th>PublicRec</th>\n",
       "    </tr>\n",
       "  </thead>\n",
       "  <tbody>\n",
       "    <tr>\n",
       "      <th>0</th>\n",
       "      <td>42.0</td>\n",
       "      <td>28854</td>\n",
       "      <td>0.521</td>\n",
       "      <td>0.0</td>\n",
       "      <td>0.0</td>\n",
       "      <td>NaN</td>\n",
       "      <td>0</td>\n",
       "    </tr>\n",
       "    <tr>\n",
       "      <th>1</th>\n",
       "      <td>42.0</td>\n",
       "      <td>28854</td>\n",
       "      <td>0.521</td>\n",
       "      <td>0.0</td>\n",
       "      <td>0.0</td>\n",
       "      <td>NaN</td>\n",
       "      <td>0</td>\n",
       "    </tr>\n",
       "    <tr>\n",
       "      <th>2</th>\n",
       "      <td>42.0</td>\n",
       "      <td>28854</td>\n",
       "      <td>0.521</td>\n",
       "      <td>0.0</td>\n",
       "      <td>0.0</td>\n",
       "      <td>NaN</td>\n",
       "      <td>0</td>\n",
       "    </tr>\n",
       "    <tr>\n",
       "      <th>3</th>\n",
       "      <td>42.0</td>\n",
       "      <td>28854</td>\n",
       "      <td>0.521</td>\n",
       "      <td>0.0</td>\n",
       "      <td>0.0</td>\n",
       "      <td>NaN</td>\n",
       "      <td>0</td>\n",
       "    </tr>\n",
       "  </tbody>\n",
       "</table>\n",
       "</div>"
      ],
      "text/plain": [
       "   TotalCREDITLines  RevolvingCREDITBalance  RevolvingLineUtilization  \\\n",
       "0              42.0                   28854                     0.521   \n",
       "1              42.0                   28854                     0.521   \n",
       "2              42.0                   28854                     0.521   \n",
       "3              42.0                   28854                     0.521   \n",
       "\n",
       "   Inquiries6M  DQ2yrs  MonthsSinceDQ PublicRec  \n",
       "0          0.0     0.0            NaN         0  \n",
       "1          0.0     0.0            NaN         0  \n",
       "2          0.0     0.0            NaN         0  \n",
       "3          0.0     0.0            NaN         0  "
      ]
     },
     "execution_count": 20,
     "metadata": {},
     "output_type": "execute_result"
    }
   ],
   "source": [
    "df.iloc[:4,23:30]"
   ]
  },
  {
   "cell_type": "code",
   "execution_count": 21,
   "metadata": {
    "collapsed": false
   },
   "outputs": [
    {
     "data": {
      "text/html": [
       "<div>\n",
       "<table border=\"1\" class=\"dataframe\">\n",
       "  <thead>\n",
       "    <tr style=\"text-align: right;\">\n",
       "      <th></th>\n",
       "      <th>EmploymentLength</th>\n",
       "      <th>currentpolicy</th>\n",
       "      <th>grade</th>\n",
       "      <th>term</th>\n",
       "      <th>APPL_FICO_BAND</th>\n",
       "      <th>Last_FICO_BAND</th>\n",
       "      <th>VINTAGE</th>\n",
       "      <th>PCO_RECOVERY</th>\n",
       "      <th>PCO_COLLECTION_FEE</th>\n",
       "    </tr>\n",
       "  </thead>\n",
       "  <tbody>\n",
       "    <tr>\n",
       "      <th>0</th>\n",
       "      <td>&lt; 1 year</td>\n",
       "      <td>1</td>\n",
       "      <td>B</td>\n",
       "      <td>36</td>\n",
       "      <td>735-739</td>\n",
       "      <td>755-759</td>\n",
       "      <td>09Q3</td>\n",
       "      <td>NaN</td>\n",
       "      <td>NaN</td>\n",
       "    </tr>\n",
       "    <tr>\n",
       "      <th>1</th>\n",
       "      <td>&lt; 1 year</td>\n",
       "      <td>1</td>\n",
       "      <td>B</td>\n",
       "      <td>36</td>\n",
       "      <td>735-739</td>\n",
       "      <td>755-759</td>\n",
       "      <td>09Q3</td>\n",
       "      <td>NaN</td>\n",
       "      <td>NaN</td>\n",
       "    </tr>\n",
       "    <tr>\n",
       "      <th>2</th>\n",
       "      <td>&lt; 1 year</td>\n",
       "      <td>1</td>\n",
       "      <td>B</td>\n",
       "      <td>36</td>\n",
       "      <td>735-739</td>\n",
       "      <td>785-789</td>\n",
       "      <td>09Q3</td>\n",
       "      <td>NaN</td>\n",
       "      <td>NaN</td>\n",
       "    </tr>\n",
       "    <tr>\n",
       "      <th>3</th>\n",
       "      <td>&lt; 1 year</td>\n",
       "      <td>1</td>\n",
       "      <td>B</td>\n",
       "      <td>36</td>\n",
       "      <td>735-739</td>\n",
       "      <td>780-784</td>\n",
       "      <td>09Q3</td>\n",
       "      <td>NaN</td>\n",
       "      <td>NaN</td>\n",
       "    </tr>\n",
       "  </tbody>\n",
       "</table>\n",
       "</div>"
      ],
      "text/plain": [
       "  EmploymentLength  currentpolicy grade  term APPL_FICO_BAND Last_FICO_BAND  \\\n",
       "0         < 1 year              1     B    36        735-739        755-759   \n",
       "1         < 1 year              1     B    36        735-739        755-759   \n",
       "2         < 1 year              1     B    36        735-739        785-789   \n",
       "3         < 1 year              1     B    36        735-739        780-784   \n",
       "\n",
       "  VINTAGE  PCO_RECOVERY  PCO_COLLECTION_FEE  \n",
       "0    09Q3           NaN                 NaN  \n",
       "1    09Q3           NaN                 NaN  \n",
       "2    09Q3           NaN                 NaN  \n",
       "3    09Q3           NaN                 NaN  "
      ]
     },
     "execution_count": 21,
     "metadata": {},
     "output_type": "execute_result"
    }
   ],
   "source": [
    "df.iloc[:4,31:42]"
   ]
  },
  {
   "cell_type": "code",
   "execution_count": 23,
   "metadata": {
    "collapsed": false
   },
   "outputs": [
    {
     "data": {
      "text/plain": [
       "10+ years    5019063\n",
       "< 1 year     1764663\n",
       "2 years      1360310\n",
       "3 years      1212530\n",
       "5 years       999473\n",
       "1 year        981482\n",
       "4 years       920650\n",
       "7 years       801915\n",
       "6 years       790953\n",
       "8 years       746274\n",
       "9 years       591712\n",
       "n/a           187955\n",
       "Name: EmploymentLength, dtype: int64"
      ]
     },
     "execution_count": 23,
     "metadata": {},
     "output_type": "execute_result"
    }
   ],
   "source": [
    "df.EmploymentLength.value_counts()"
   ]
  },
  {
   "cell_type": "code",
   "execution_count": null,
   "metadata": {
    "collapsed": true
   },
   "outputs": [],
   "source": [
    "df.replace('n/a', np.nan,inplace=True)\n",
    "df.EmploymentLength.fillna(value=0,inplace=True)\n",
    "df['EmploymentLength'].replace(to_replace='[^0-9]+', value='', inplace=True, regex=True)\n",
    "df['EmploymentLength'] = df['EmploymentLength'].astype(int)"
   ]
  },
  {
   "cell_type": "code",
   "execution_count": 26,
   "metadata": {
    "collapsed": false
   },
   "outputs": [
    {
     "data": {
      "text/plain": [
       "0.0     12536004\n",
       "1.0      1904353\n",
       "2.0       555618\n",
       "3.0       196289\n",
       "4.0        85060\n",
       "5.0        43213\n",
       "6.0        23391\n",
       "7.0        12495\n",
       "8.0         6902\n",
       "9.0         4218\n",
       "10.0        2820\n",
       "11.0        1659\n",
       "12.0        1257\n",
       "13.0         970\n",
       "14.0         542\n",
       "15.0         388\n",
       "16.0         236\n",
       "18.0         185\n",
       "17.0         173\n",
       "19.0         137\n",
       "22.0          53\n",
       "21.0          43\n",
       "24.0          36\n",
       "20.0          31\n",
       "26.0          22\n",
       "29.0          18\n",
       "39.0          14\n",
       "27.0          13\n",
       "30.0           7\n",
       "Name: DQ2yrs, dtype: int64"
      ]
     },
     "execution_count": 26,
     "metadata": {},
     "output_type": "execute_result"
    }
   ],
   "source": [
    "## Examine distribution of delinquency\n",
    "df.DQ2yrs.value_counts()"
   ]
  },
  {
   "cell_type": "code",
   "execution_count": null,
   "metadata": {
    "collapsed": true
   },
   "outputs": [],
   "source": [
    "## Convert \n",
    "APPL_high = string.split(\"/bar/\")[1].split(\"/\")[0]\n",
    "APPL_low = \n",
    "Last_high = \n",
    "Last_low = \n",
    "## Convert string vars to float"
   ]
  },
  {
   "cell_type": "code",
   "execution_count": null,
   "metadata": {
    "collapsed": true
   },
   "outputs": [],
   "source": [
    "string = '756-800'\n",
    "# APPL_high = string.find('-')\n",
    "APPL_low = string.split(\" \")[0].split(\"-\")[0]\n",
    "APPL_high = string.split(\"-\")[1].split(\" \")[0]\n",
    "print(APPL_low, APPL_high)"
   ]
  },
  {
   "cell_type": "code",
   "execution_count": 53,
   "metadata": {
    "collapsed": false
   },
   "outputs": [
    {
     "data": {
      "text/plain": [
       "15376980"
      ]
     },
     "execution_count": 53,
     "metadata": {},
     "output_type": "execute_result"
    }
   ],
   "source": [
    "len(frame.APPL_FICO_BAND)"
   ]
  },
  {
   "cell_type": "code",
   "execution_count": 65,
   "metadata": {
    "collapsed": false
   },
   "outputs": [
    {
     "ename": "IndexError",
     "evalue": "list index out of range",
     "output_type": "error",
     "traceback": [
      "\u001b[0;31m---------------------------------------------------------------------------\u001b[0m",
      "\u001b[0;31mIndexError\u001b[0m                                Traceback (most recent call last)",
      "\u001b[0;32m<ipython-input-65-c53910fe4dec>\u001b[0m in \u001b[0;36m<module>\u001b[0;34m()\u001b[0m\n\u001b[1;32m      2\u001b[0m     \u001b[0mstring\u001b[0m \u001b[0;34m=\u001b[0m \u001b[0mdf\u001b[0m\u001b[0;34m.\u001b[0m\u001b[0miloc\u001b[0m\u001b[0;34m[\u001b[0m\u001b[0mi\u001b[0m\u001b[0;34m]\u001b[0m\u001b[0;34m[\u001b[0m\u001b[0;34m'APPL_FICO_BAND'\u001b[0m\u001b[0;34m]\u001b[0m\u001b[0;34m\u001b[0m\u001b[0m\n\u001b[1;32m      3\u001b[0m     \u001b[0mAPPL_low\u001b[0m \u001b[0;34m=\u001b[0m \u001b[0mstring\u001b[0m\u001b[0;34m.\u001b[0m\u001b[0msplit\u001b[0m\u001b[0;34m(\u001b[0m\u001b[0;34m\" \"\u001b[0m\u001b[0;34m)\u001b[0m\u001b[0;34m[\u001b[0m\u001b[0;36m0\u001b[0m\u001b[0;34m]\u001b[0m\u001b[0;34m.\u001b[0m\u001b[0msplit\u001b[0m\u001b[0;34m(\u001b[0m\u001b[0;34m\"-\"\u001b[0m\u001b[0;34m)\u001b[0m\u001b[0;34m[\u001b[0m\u001b[0;36m0\u001b[0m\u001b[0;34m]\u001b[0m\u001b[0;34m\u001b[0m\u001b[0m\n\u001b[0;32m----> 4\u001b[0;31m     \u001b[0mAPPL_high\u001b[0m \u001b[0;34m=\u001b[0m \u001b[0mstring\u001b[0m\u001b[0;34m.\u001b[0m\u001b[0msplit\u001b[0m\u001b[0;34m(\u001b[0m\u001b[0;34m\"-\"\u001b[0m\u001b[0;34m)\u001b[0m\u001b[0;34m[\u001b[0m\u001b[0;36m1\u001b[0m\u001b[0;34m]\u001b[0m\u001b[0;34m.\u001b[0m\u001b[0msplit\u001b[0m\u001b[0;34m(\u001b[0m\u001b[0;34m\" \"\u001b[0m\u001b[0;34m)\u001b[0m\u001b[0;34m[\u001b[0m\u001b[0;36m0\u001b[0m\u001b[0;34m]\u001b[0m\u001b[0;34m\u001b[0m\u001b[0m\n\u001b[0m",
      "\u001b[0;31mIndexError\u001b[0m: list index out of range"
     ]
    }
   ],
   "source": [
    "for i in range(0,len(frame.APPL_FICO_BAND)):\n",
    "    string = df.iloc[i]['APPL_FICO_BAND']\n",
    "    APPL_low = string.split(\" \")[0].split(\"-\")[0]\n",
    "    APPL_high = string.split(\"-\")[1].split(\" \")[0]"
   ]
  },
  {
   "cell_type": "code",
   "execution_count": null,
   "metadata": {
    "collapsed": true
   },
   "outputs": [],
   "source": [
    "## Convert appl and last FICO band to average of those ranges\n",
    "APPL_FICO_avg = (APPL_high+APPL_low)//2\n",
    "Last_FICO_avg = (Last_high+Last_low)//2"
   ]
  },
  {
   "cell_type": "code",
   "execution_count": null,
   "metadata": {
    "collapsed": true
   },
   "outputs": [],
   "source": [
    "## Replace appl and last FICO band in dataframe with average calculated above\n",
    "df['APPL_FICO_BAND'] = APPL_FICO_avg\n",
    "df['Last_FICO_BAND'] = Last_FICO_avg"
   ]
  },
  {
   "cell_type": "code",
   "execution_count": null,
   "metadata": {
    "collapsed": true
   },
   "outputs": [],
   "source": [
    "## Convert NaNs in MonthsSinceDQ, MonthsSinceLastRec, fPCO_Recovery and Collection_Fee\n",
    "fill.na"
   ]
  },
  {
   "cell_type": "code",
   "execution_count": null,
   "metadata": {
    "collapsed": true
   },
   "outputs": [],
   "source": [
    "## Convert ReceivedDate and IssueDate to Date Format\n",
    "from datetime import datetime\n",
    "\n",
    "df.EarliestCREDITLine = pd.to_datetime(df.EarliestCREDITLine)\n",
    "dttoday = datetime.now().strftime('%Y-%m-%d')\n",
    "# There is a better way to do this :) \n",
    "df.EarliestCREDITLine = df.EarliestCREDITLine.apply(lambda x: (\n",
    "        np.timedelta64((x - pd.Timestamp(dttoday)),'D').astype(int))/-365)\n",
    "df.EarliestCREDITLine.head()"
   ]
  },
  {
   "cell_type": "code",
   "execution_count": 54,
   "metadata": {
    "collapsed": false
   },
   "outputs": [
    {
     "data": {
      "text/plain": [
       "0   1994-02-01\n",
       "1   1994-02-01\n",
       "2   1994-02-01\n",
       "3   1994-02-01\n",
       "4   1994-02-01\n",
       "Name: EarliestCREDITLine, dtype: datetime64[ns]"
      ]
     },
     "execution_count": 54,
     "metadata": {},
     "output_type": "execute_result"
    }
   ],
   "source": [
    "df.iloc[0:5]['EarliestCREDITLine']"
   ]
  },
  {
   "cell_type": "code",
   "execution_count": 13,
   "metadata": {
    "collapsed": false,
    "scrolled": true
   },
   "outputs": [
    {
     "data": {
      "text/html": [
       "<div>\n",
       "<table border=\"1\" class=\"dataframe\">\n",
       "  <thead>\n",
       "    <tr style=\"text-align: right;\">\n",
       "      <th></th>\n",
       "      <th>RevolvingLineUtilization</th>\n",
       "      <th>Inquiries6M</th>\n",
       "      <th>DQ2yrs</th>\n",
       "      <th>MonthsSinceDQ</th>\n",
       "      <th>PublicRec</th>\n",
       "      <th>MonthsSinceLastRec</th>\n",
       "      <th>EmploymentLength</th>\n",
       "      <th>currentpolicy</th>\n",
       "      <th>grade</th>\n",
       "    </tr>\n",
       "  </thead>\n",
       "  <tbody>\n",
       "    <tr>\n",
       "      <th>0</th>\n",
       "      <td>0.521</td>\n",
       "      <td>0.0</td>\n",
       "      <td>0.0</td>\n",
       "      <td>NaN</td>\n",
       "      <td>0</td>\n",
       "      <td>NaN</td>\n",
       "      <td>&lt; 1 year</td>\n",
       "      <td>1</td>\n",
       "      <td>B</td>\n",
       "    </tr>\n",
       "    <tr>\n",
       "      <th>1</th>\n",
       "      <td>0.521</td>\n",
       "      <td>0.0</td>\n",
       "      <td>0.0</td>\n",
       "      <td>NaN</td>\n",
       "      <td>0</td>\n",
       "      <td>NaN</td>\n",
       "      <td>&lt; 1 year</td>\n",
       "      <td>1</td>\n",
       "      <td>B</td>\n",
       "    </tr>\n",
       "    <tr>\n",
       "      <th>2</th>\n",
       "      <td>0.521</td>\n",
       "      <td>0.0</td>\n",
       "      <td>0.0</td>\n",
       "      <td>NaN</td>\n",
       "      <td>0</td>\n",
       "      <td>NaN</td>\n",
       "      <td>&lt; 1 year</td>\n",
       "      <td>1</td>\n",
       "      <td>B</td>\n",
       "    </tr>\n",
       "    <tr>\n",
       "      <th>3</th>\n",
       "      <td>0.521</td>\n",
       "      <td>0.0</td>\n",
       "      <td>0.0</td>\n",
       "      <td>NaN</td>\n",
       "      <td>0</td>\n",
       "      <td>NaN</td>\n",
       "      <td>&lt; 1 year</td>\n",
       "      <td>1</td>\n",
       "      <td>B</td>\n",
       "    </tr>\n",
       "  </tbody>\n",
       "</table>\n",
       "</div>"
      ],
      "text/plain": [
       "   RevolvingLineUtilization  Inquiries6M  DQ2yrs  MonthsSinceDQ PublicRec  \\\n",
       "0                     0.521          0.0     0.0            NaN         0   \n",
       "1                     0.521          0.0     0.0            NaN         0   \n",
       "2                     0.521          0.0     0.0            NaN         0   \n",
       "3                     0.521          0.0     0.0            NaN         0   \n",
       "\n",
       "   MonthsSinceLastRec EmploymentLength  currentpolicy grade  \n",
       "0                 NaN         < 1 year              1     B  \n",
       "1                 NaN         < 1 year              1     B  \n",
       "2                 NaN         < 1 year              1     B  \n",
       "3                 NaN         < 1 year              1     B  "
      ]
     },
     "execution_count": 13,
     "metadata": {},
     "output_type": "execute_result"
    }
   ],
   "source": [
    "RECEIVED_D\n",
    "IssuedDate"
   ]
  },
  {
   "cell_type": "code",
   "execution_count": 29,
   "metadata": {
    "collapsed": false
   },
   "outputs": [
    {
     "data": {
      "text/plain": [
       "4"
      ]
     },
     "execution_count": 29,
     "metadata": {},
     "output_type": "execute_result"
    }
   ],
   "source": []
  }
 ],
 "metadata": {
  "anaconda-cloud": {},
  "kernelspec": {
   "display_name": "Python [default]",
   "language": "python",
   "name": "python3"
  },
  "language_info": {
   "codemirror_mode": {
    "name": "ipython",
    "version": 3
   },
   "file_extension": ".py",
   "mimetype": "text/x-python",
   "name": "python",
   "nbconvert_exporter": "python",
   "pygments_lexer": "ipython3",
   "version": "3.5.2"
  }
 },
 "nbformat": 4,
 "nbformat_minor": 1
}
