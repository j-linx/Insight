{
 "cells": [
  {
   "cell_type": "code",
   "execution_count": 1,
   "metadata": {
    "collapsed": true
   },
   "outputs": [],
   "source": [
    "import os\n",
    "os.chdir(r\"/Users/Greer/Desktop/Lending Club - From Misha/Payments\")\n",
    "\n",
    "import numpy as np\n",
    "import pandas as pd\n",
    "import seaborn as sns"
   ]
  },
  {
   "cell_type": "markdown",
   "metadata": {
    "collapsed": true
   },
   "source": [
    "# Import PMTHIST_all_20160715"
   ]
  },
  {
   "cell_type": "code",
   "execution_count": 2,
   "metadata": {
    "collapsed": false
   },
   "outputs": [
    {
     "name": "stdout",
     "output_type": "stream",
     "text": [
      "['LOAN_ID', 'PBAL_BEG_PERIOD', 'PRNCP_PAID', 'INT_PAID', 'FEE_PAID', 'DUE_AMT', 'RECEIVED_AMT', 'RECEIVED_D', 'PERIOD_END_LSTAT', 'MONTH', 'PBAL_END_PERIOD', 'MOB', 'CO', 'COAMT', 'InterestRate', 'IssuedDate', 'MONTHLYCONTRACTAMT', 'dti', 'State', 'HomeOwnership', 'MonthlyIncome', 'EarliestCREDITLine', 'OpenCREDITLines', 'TotalCREDITLines', 'RevolvingCREDITBalance', 'RevolvingLineUtilization', 'Inquiries6M', 'DQ2yrs', 'MonthsSinceDQ', 'PublicRec', 'MonthsSinceLastRec', 'EmploymentLength', 'currentpolicy', 'grade', 'term', 'APPL_FICO_BAND', 'Last_FICO_BAND', 'VINTAGE', 'PCO_RECOVERY', 'PCO_COLLECTION_FEE']\n"
     ]
    }
   ],
   "source": [
    "import csv\n",
    "\n",
    "## Check the attributes list\n",
    "with open('PMTHIST_all_20160715.csv', newline='') as f:\n",
    "  reader = csv.reader(f)\n",
    "  row1 = next(reader)\n",
    "    \n",
    "print(row1)"
   ]
  },
  {
   "cell_type": "code",
   "execution_count": 41,
   "metadata": {
    "collapsed": false
   },
   "outputs": [
    {
     "data": {
      "text/html": [
       "<div>\n",
       "<table border=\"1\" class=\"dataframe\">\n",
       "  <thead>\n",
       "    <tr style=\"text-align: right;\">\n",
       "      <th></th>\n",
       "      <th>LOAN_ID</th>\n",
       "      <th>PBAL_BEG_PERIOD</th>\n",
       "      <th>PRNCP_PAID</th>\n",
       "      <th>INT_PAID</th>\n",
       "      <th>FEE_PAID</th>\n",
       "      <th>DUE_AMT</th>\n",
       "      <th>RECEIVED_AMT</th>\n",
       "      <th>RECEIVED_D</th>\n",
       "      <th>PERIOD_END_LSTAT</th>\n",
       "      <th>MONTH</th>\n",
       "      <th>...</th>\n",
       "      <th>MonthsSinceLastRec</th>\n",
       "      <th>EmploymentLength</th>\n",
       "      <th>currentpolicy</th>\n",
       "      <th>grade</th>\n",
       "      <th>term</th>\n",
       "      <th>APPL_FICO_BAND</th>\n",
       "      <th>Last_FICO_BAND</th>\n",
       "      <th>VINTAGE</th>\n",
       "      <th>PCO_RECOVERY</th>\n",
       "      <th>PCO_COLLECTION_FEE</th>\n",
       "    </tr>\n",
       "  </thead>\n",
       "  <tbody>\n",
       "    <tr>\n",
       "      <th>0</th>\n",
       "      <td>54734</td>\n",
       "      <td>25000.000000</td>\n",
       "      <td>581.297917</td>\n",
       "      <td>247.802083</td>\n",
       "      <td>0.0</td>\n",
       "      <td>829.1</td>\n",
       "      <td>829.1</td>\n",
       "      <td>SEP2009</td>\n",
       "      <td>Current</td>\n",
       "      <td>SEP2009</td>\n",
       "      <td>...</td>\n",
       "      <td>NaN</td>\n",
       "      <td>&lt; 1 year</td>\n",
       "      <td>1</td>\n",
       "      <td>B</td>\n",
       "      <td>36</td>\n",
       "      <td>735-739</td>\n",
       "      <td>755-759</td>\n",
       "      <td>09Q3</td>\n",
       "      <td>NaN</td>\n",
       "      <td>NaN</td>\n",
       "    </tr>\n",
       "    <tr>\n",
       "      <th>1</th>\n",
       "      <td>54734</td>\n",
       "      <td>24418.702083</td>\n",
       "      <td>587.059790</td>\n",
       "      <td>242.040210</td>\n",
       "      <td>0.0</td>\n",
       "      <td>829.1</td>\n",
       "      <td>829.1</td>\n",
       "      <td>OCT2009</td>\n",
       "      <td>Current</td>\n",
       "      <td>OCT2009</td>\n",
       "      <td>...</td>\n",
       "      <td>NaN</td>\n",
       "      <td>&lt; 1 year</td>\n",
       "      <td>1</td>\n",
       "      <td>B</td>\n",
       "      <td>36</td>\n",
       "      <td>735-739</td>\n",
       "      <td>755-759</td>\n",
       "      <td>09Q3</td>\n",
       "      <td>NaN</td>\n",
       "      <td>NaN</td>\n",
       "    </tr>\n",
       "    <tr>\n",
       "      <th>2</th>\n",
       "      <td>54734</td>\n",
       "      <td>23831.642293</td>\n",
       "      <td>592.878776</td>\n",
       "      <td>236.221224</td>\n",
       "      <td>0.0</td>\n",
       "      <td>829.1</td>\n",
       "      <td>829.1</td>\n",
       "      <td>NOV2009</td>\n",
       "      <td>Current</td>\n",
       "      <td>NOV2009</td>\n",
       "      <td>...</td>\n",
       "      <td>NaN</td>\n",
       "      <td>&lt; 1 year</td>\n",
       "      <td>1</td>\n",
       "      <td>B</td>\n",
       "      <td>36</td>\n",
       "      <td>735-739</td>\n",
       "      <td>785-789</td>\n",
       "      <td>09Q3</td>\n",
       "      <td>NaN</td>\n",
       "      <td>NaN</td>\n",
       "    </tr>\n",
       "    <tr>\n",
       "      <th>3</th>\n",
       "      <td>54734</td>\n",
       "      <td>23238.763518</td>\n",
       "      <td>598.755439</td>\n",
       "      <td>230.344561</td>\n",
       "      <td>0.0</td>\n",
       "      <td>829.1</td>\n",
       "      <td>829.1</td>\n",
       "      <td>DEC2009</td>\n",
       "      <td>Current</td>\n",
       "      <td>DEC2009</td>\n",
       "      <td>...</td>\n",
       "      <td>NaN</td>\n",
       "      <td>&lt; 1 year</td>\n",
       "      <td>1</td>\n",
       "      <td>B</td>\n",
       "      <td>36</td>\n",
       "      <td>735-739</td>\n",
       "      <td>780-784</td>\n",
       "      <td>09Q3</td>\n",
       "      <td>NaN</td>\n",
       "      <td>NaN</td>\n",
       "    </tr>\n",
       "    <tr>\n",
       "      <th>4</th>\n",
       "      <td>54734</td>\n",
       "      <td>22640.008078</td>\n",
       "      <td>604.690353</td>\n",
       "      <td>224.409647</td>\n",
       "      <td>0.0</td>\n",
       "      <td>829.1</td>\n",
       "      <td>829.1</td>\n",
       "      <td>JAN2010</td>\n",
       "      <td>Current</td>\n",
       "      <td>JAN2010</td>\n",
       "      <td>...</td>\n",
       "      <td>NaN</td>\n",
       "      <td>&lt; 1 year</td>\n",
       "      <td>1</td>\n",
       "      <td>B</td>\n",
       "      <td>36</td>\n",
       "      <td>735-739</td>\n",
       "      <td>800-804</td>\n",
       "      <td>09Q3</td>\n",
       "      <td>NaN</td>\n",
       "      <td>NaN</td>\n",
       "    </tr>\n",
       "  </tbody>\n",
       "</table>\n",
       "<p>5 rows × 40 columns</p>\n",
       "</div>"
      ],
      "text/plain": [
       "   LOAN_ID  PBAL_BEG_PERIOD  PRNCP_PAID    INT_PAID  FEE_PAID  DUE_AMT  \\\n",
       "0    54734     25000.000000  581.297917  247.802083       0.0    829.1   \n",
       "1    54734     24418.702083  587.059790  242.040210       0.0    829.1   \n",
       "2    54734     23831.642293  592.878776  236.221224       0.0    829.1   \n",
       "3    54734     23238.763518  598.755439  230.344561       0.0    829.1   \n",
       "4    54734     22640.008078  604.690353  224.409647       0.0    829.1   \n",
       "\n",
       "   RECEIVED_AMT RECEIVED_D PERIOD_END_LSTAT    MONTH        ...          \\\n",
       "0         829.1    SEP2009          Current  SEP2009        ...           \n",
       "1         829.1    OCT2009          Current  OCT2009        ...           \n",
       "2         829.1    NOV2009          Current  NOV2009        ...           \n",
       "3         829.1    DEC2009          Current  DEC2009        ...           \n",
       "4         829.1    JAN2010          Current  JAN2010        ...           \n",
       "\n",
       "   MonthsSinceLastRec  EmploymentLength  currentpolicy  grade  term  \\\n",
       "0                 NaN          < 1 year              1      B    36   \n",
       "1                 NaN          < 1 year              1      B    36   \n",
       "2                 NaN          < 1 year              1      B    36   \n",
       "3                 NaN          < 1 year              1      B    36   \n",
       "4                 NaN          < 1 year              1      B    36   \n",
       "\n",
       "  APPL_FICO_BAND  Last_FICO_BAND  VINTAGE PCO_RECOVERY PCO_COLLECTION_FEE  \n",
       "0        735-739         755-759     09Q3          NaN                NaN  \n",
       "1        735-739         755-759     09Q3          NaN                NaN  \n",
       "2        735-739         785-789     09Q3          NaN                NaN  \n",
       "3        735-739         780-784     09Q3          NaN                NaN  \n",
       "4        735-739         800-804     09Q3          NaN                NaN  \n",
       "\n",
       "[5 rows x 40 columns]"
      ]
     },
     "execution_count": 41,
     "metadata": {},
     "output_type": "execute_result"
    }
   ],
   "source": [
    "data = pd.read_csv(\"PMTHIST_all_20160715.csv\", nrows=10000, low_memory=False)\n",
    "data.head()"
   ]
  },
  {
   "cell_type": "markdown",
   "metadata": {},
   "source": [
    "# Splitting large csv into 30 chunks"
   ]
  },
  {
   "cell_type": "code",
   "execution_count": 45,
   "metadata": {
    "collapsed": false
   },
   "outputs": [
    {
     "name": "stderr",
     "output_type": "stream",
     "text": [
      "/Users/Greer/anaconda3/lib/python3.5/site-packages/IPython/core/interactiveshell.py:2717: DtypeWarning: Columns (29) have mixed types. Specify dtype option on import or set low_memory=False.\n",
      "  interactivity=interactivity, compiler=compiler, result=result)\n"
     ]
    }
   ],
   "source": [
    "for i,chunk in enumerate(pd.read_csv('PMTHIST_all_20160715.csv', chunksize=500000)):\n",
    "    chunk.to_csv('chunk{}.csv'.format(i))"
   ]
  },
  {
   "cell_type": "code",
   "execution_count": 52,
   "metadata": {
    "collapsed": true
   },
   "outputs": [],
   "source": [
    "os.chdir(r\"/Users/Greer/Desktop/Lending Club - From Misha/Payments/chunks\")\n",
    "temp = pd.read_csv(\"chunk0.csv\", low_memory=False)"
   ]
  },
  {
   "cell_type": "code",
   "execution_count": 53,
   "metadata": {
    "collapsed": false
   },
   "outputs": [
    {
     "data": {
      "text/html": [
       "<div>\n",
       "<table border=\"1\" class=\"dataframe\">\n",
       "  <thead>\n",
       "    <tr style=\"text-align: right;\">\n",
       "      <th></th>\n",
       "      <th>Unnamed: 0</th>\n",
       "      <th>LOAN_ID</th>\n",
       "      <th>PBAL_BEG_PERIOD</th>\n",
       "      <th>PRNCP_PAID</th>\n",
       "      <th>INT_PAID</th>\n",
       "      <th>FEE_PAID</th>\n",
       "      <th>DUE_AMT</th>\n",
       "      <th>RECEIVED_AMT</th>\n",
       "      <th>RECEIVED_D</th>\n",
       "      <th>PERIOD_END_LSTAT</th>\n",
       "      <th>...</th>\n",
       "      <th>MonthsSinceLastRec</th>\n",
       "      <th>EmploymentLength</th>\n",
       "      <th>currentpolicy</th>\n",
       "      <th>grade</th>\n",
       "      <th>term</th>\n",
       "      <th>APPL_FICO_BAND</th>\n",
       "      <th>Last_FICO_BAND</th>\n",
       "      <th>VINTAGE</th>\n",
       "      <th>PCO_RECOVERY</th>\n",
       "      <th>PCO_COLLECTION_FEE</th>\n",
       "    </tr>\n",
       "  </thead>\n",
       "  <tbody>\n",
       "    <tr>\n",
       "      <th>0</th>\n",
       "      <td>0</td>\n",
       "      <td>54734</td>\n",
       "      <td>25000.000000</td>\n",
       "      <td>581.297917</td>\n",
       "      <td>247.802083</td>\n",
       "      <td>0.0</td>\n",
       "      <td>829.1</td>\n",
       "      <td>829.1</td>\n",
       "      <td>SEP2009</td>\n",
       "      <td>Current</td>\n",
       "      <td>...</td>\n",
       "      <td>NaN</td>\n",
       "      <td>&lt; 1 year</td>\n",
       "      <td>1</td>\n",
       "      <td>B</td>\n",
       "      <td>36</td>\n",
       "      <td>735-739</td>\n",
       "      <td>755-759</td>\n",
       "      <td>09Q3</td>\n",
       "      <td>NaN</td>\n",
       "      <td>NaN</td>\n",
       "    </tr>\n",
       "    <tr>\n",
       "      <th>1</th>\n",
       "      <td>1</td>\n",
       "      <td>54734</td>\n",
       "      <td>24418.702083</td>\n",
       "      <td>587.059790</td>\n",
       "      <td>242.040210</td>\n",
       "      <td>0.0</td>\n",
       "      <td>829.1</td>\n",
       "      <td>829.1</td>\n",
       "      <td>OCT2009</td>\n",
       "      <td>Current</td>\n",
       "      <td>...</td>\n",
       "      <td>NaN</td>\n",
       "      <td>&lt; 1 year</td>\n",
       "      <td>1</td>\n",
       "      <td>B</td>\n",
       "      <td>36</td>\n",
       "      <td>735-739</td>\n",
       "      <td>755-759</td>\n",
       "      <td>09Q3</td>\n",
       "      <td>NaN</td>\n",
       "      <td>NaN</td>\n",
       "    </tr>\n",
       "    <tr>\n",
       "      <th>2</th>\n",
       "      <td>2</td>\n",
       "      <td>54734</td>\n",
       "      <td>23831.642293</td>\n",
       "      <td>592.878776</td>\n",
       "      <td>236.221224</td>\n",
       "      <td>0.0</td>\n",
       "      <td>829.1</td>\n",
       "      <td>829.1</td>\n",
       "      <td>NOV2009</td>\n",
       "      <td>Current</td>\n",
       "      <td>...</td>\n",
       "      <td>NaN</td>\n",
       "      <td>&lt; 1 year</td>\n",
       "      <td>1</td>\n",
       "      <td>B</td>\n",
       "      <td>36</td>\n",
       "      <td>735-739</td>\n",
       "      <td>785-789</td>\n",
       "      <td>09Q3</td>\n",
       "      <td>NaN</td>\n",
       "      <td>NaN</td>\n",
       "    </tr>\n",
       "    <tr>\n",
       "      <th>3</th>\n",
       "      <td>3</td>\n",
       "      <td>54734</td>\n",
       "      <td>23238.763518</td>\n",
       "      <td>598.755439</td>\n",
       "      <td>230.344561</td>\n",
       "      <td>0.0</td>\n",
       "      <td>829.1</td>\n",
       "      <td>829.1</td>\n",
       "      <td>DEC2009</td>\n",
       "      <td>Current</td>\n",
       "      <td>...</td>\n",
       "      <td>NaN</td>\n",
       "      <td>&lt; 1 year</td>\n",
       "      <td>1</td>\n",
       "      <td>B</td>\n",
       "      <td>36</td>\n",
       "      <td>735-739</td>\n",
       "      <td>780-784</td>\n",
       "      <td>09Q3</td>\n",
       "      <td>NaN</td>\n",
       "      <td>NaN</td>\n",
       "    </tr>\n",
       "    <tr>\n",
       "      <th>4</th>\n",
       "      <td>4</td>\n",
       "      <td>54734</td>\n",
       "      <td>22640.008078</td>\n",
       "      <td>604.690353</td>\n",
       "      <td>224.409647</td>\n",
       "      <td>0.0</td>\n",
       "      <td>829.1</td>\n",
       "      <td>829.1</td>\n",
       "      <td>JAN2010</td>\n",
       "      <td>Current</td>\n",
       "      <td>...</td>\n",
       "      <td>NaN</td>\n",
       "      <td>&lt; 1 year</td>\n",
       "      <td>1</td>\n",
       "      <td>B</td>\n",
       "      <td>36</td>\n",
       "      <td>735-739</td>\n",
       "      <td>800-804</td>\n",
       "      <td>09Q3</td>\n",
       "      <td>NaN</td>\n",
       "      <td>NaN</td>\n",
       "    </tr>\n",
       "  </tbody>\n",
       "</table>\n",
       "<p>5 rows × 41 columns</p>\n",
       "</div>"
      ],
      "text/plain": [
       "   Unnamed: 0  LOAN_ID  PBAL_BEG_PERIOD  PRNCP_PAID    INT_PAID  FEE_PAID  \\\n",
       "0           0    54734     25000.000000  581.297917  247.802083       0.0   \n",
       "1           1    54734     24418.702083  587.059790  242.040210       0.0   \n",
       "2           2    54734     23831.642293  592.878776  236.221224       0.0   \n",
       "3           3    54734     23238.763518  598.755439  230.344561       0.0   \n",
       "4           4    54734     22640.008078  604.690353  224.409647       0.0   \n",
       "\n",
       "   DUE_AMT  RECEIVED_AMT RECEIVED_D PERIOD_END_LSTAT        ...          \\\n",
       "0    829.1         829.1    SEP2009          Current        ...           \n",
       "1    829.1         829.1    OCT2009          Current        ...           \n",
       "2    829.1         829.1    NOV2009          Current        ...           \n",
       "3    829.1         829.1    DEC2009          Current        ...           \n",
       "4    829.1         829.1    JAN2010          Current        ...           \n",
       "\n",
       "  MonthsSinceLastRec  EmploymentLength  currentpolicy  grade  term  \\\n",
       "0                NaN          < 1 year              1      B    36   \n",
       "1                NaN          < 1 year              1      B    36   \n",
       "2                NaN          < 1 year              1      B    36   \n",
       "3                NaN          < 1 year              1      B    36   \n",
       "4                NaN          < 1 year              1      B    36   \n",
       "\n",
       "   APPL_FICO_BAND Last_FICO_BAND  VINTAGE  PCO_RECOVERY PCO_COLLECTION_FEE  \n",
       "0         735-739        755-759     09Q3           NaN                NaN  \n",
       "1         735-739        755-759     09Q3           NaN                NaN  \n",
       "2         735-739        785-789     09Q3           NaN                NaN  \n",
       "3         735-739        780-784     09Q3           NaN                NaN  \n",
       "4         735-739        800-804     09Q3           NaN                NaN  \n",
       "\n",
       "[5 rows x 41 columns]"
      ]
     },
     "execution_count": 53,
     "metadata": {},
     "output_type": "execute_result"
    }
   ],
   "source": [
    "temp.head()"
   ]
  },
  {
   "cell_type": "markdown",
   "metadata": {},
   "source": [
    "# Loop chunk CSV files into 30 dataframes within a large dict file d{}"
   ]
  },
  {
   "cell_type": "code",
   "execution_count": null,
   "metadata": {
    "collapsed": true
   },
   "outputs": [],
   "source": [
    "d = {}\n",
    "for i in range(0,1):\n",
    "    d[i] = pd.read_csv(\"chunk\" + str(i) + \".csv\", low_memory=False)\n",
    "\n",
    "## Once d is created the DataFrame for company x can be retrieved as d[x], so you can look up a specific company quite easily. To operate on all companies you would typically use a loop like:\n",
    "# for name, df in d.items():\n",
    "    # operate on DataFrame df for company name"
   ]
  },
  {
   "cell_type": "markdown",
   "metadata": {},
   "source": [
    "# Concatenate 5 dataframes (subset of 30) into one dataframe"
   ]
  },
  {
   "cell_type": "code",
   "execution_count": 42,
   "metadata": {
    "collapsed": false
   },
   "outputs": [],
   "source": [
    "import glob\n",
    "\n",
    "path =r'/Users/Greer/Desktop/Lending Club - From Misha/Payments/chunks_subset' # use your path \n",
    "allFiles = glob.glob(path + \"/*.csv\")\n",
    "frame = pd.DataFrame()\n",
    "list_ = []\n",
    "for file_ in allFiles:\n",
    "    df = pd.read_csv(file_,index_col=None, header=0, low_memory=False)\n",
    "    list_.append(df)\n",
    "frame = pd.concat(list_)"
   ]
  },
  {
   "cell_type": "code",
   "execution_count": 43,
   "metadata": {
    "collapsed": false
   },
   "outputs": [
    {
     "data": {
      "text/plain": [
       "2500000"
      ]
     },
     "execution_count": 43,
     "metadata": {},
     "output_type": "execute_result"
    }
   ],
   "source": [
    "len(frame)\n",
    "# 2,500,000"
   ]
  },
  {
   "cell_type": "code",
   "execution_count": 44,
   "metadata": {
    "collapsed": false
   },
   "outputs": [
    {
     "data": {
      "text/html": [
       "<div>\n",
       "<table border=\"1\" class=\"dataframe\">\n",
       "  <thead>\n",
       "    <tr style=\"text-align: right;\">\n",
       "      <th></th>\n",
       "      <th>LOAN_ID</th>\n",
       "      <th>PBAL_BEG_PERIOD</th>\n",
       "      <th>PRNCP_PAID</th>\n",
       "      <th>INT_PAID</th>\n",
       "      <th>FEE_PAID</th>\n",
       "      <th>DUE_AMT</th>\n",
       "      <th>RECEIVED_AMT</th>\n",
       "      <th>RECEIVED_D</th>\n",
       "      <th>PERIOD_END_LSTAT</th>\n",
       "      <th>MONTH</th>\n",
       "      <th>...</th>\n",
       "      <th>MonthsSinceLastRec</th>\n",
       "      <th>EmploymentLength</th>\n",
       "      <th>currentpolicy</th>\n",
       "      <th>grade</th>\n",
       "      <th>term</th>\n",
       "      <th>APPL_FICO_BAND</th>\n",
       "      <th>Last_FICO_BAND</th>\n",
       "      <th>VINTAGE</th>\n",
       "      <th>PCO_RECOVERY</th>\n",
       "      <th>PCO_COLLECTION_FEE</th>\n",
       "    </tr>\n",
       "  </thead>\n",
       "  <tbody>\n",
       "    <tr>\n",
       "      <th>0</th>\n",
       "      <td>54734</td>\n",
       "      <td>25000.000000</td>\n",
       "      <td>581.297917</td>\n",
       "      <td>247.802083</td>\n",
       "      <td>0.0</td>\n",
       "      <td>829.1</td>\n",
       "      <td>829.1</td>\n",
       "      <td>SEP2009</td>\n",
       "      <td>Current</td>\n",
       "      <td>SEP2009</td>\n",
       "      <td>...</td>\n",
       "      <td>NaN</td>\n",
       "      <td>&lt; 1 year</td>\n",
       "      <td>1</td>\n",
       "      <td>B</td>\n",
       "      <td>36</td>\n",
       "      <td>735-739</td>\n",
       "      <td>755-759</td>\n",
       "      <td>09Q3</td>\n",
       "      <td>NaN</td>\n",
       "      <td>NaN</td>\n",
       "    </tr>\n",
       "    <tr>\n",
       "      <th>1</th>\n",
       "      <td>54734</td>\n",
       "      <td>24418.702083</td>\n",
       "      <td>587.059790</td>\n",
       "      <td>242.040210</td>\n",
       "      <td>0.0</td>\n",
       "      <td>829.1</td>\n",
       "      <td>829.1</td>\n",
       "      <td>OCT2009</td>\n",
       "      <td>Current</td>\n",
       "      <td>OCT2009</td>\n",
       "      <td>...</td>\n",
       "      <td>NaN</td>\n",
       "      <td>&lt; 1 year</td>\n",
       "      <td>1</td>\n",
       "      <td>B</td>\n",
       "      <td>36</td>\n",
       "      <td>735-739</td>\n",
       "      <td>755-759</td>\n",
       "      <td>09Q3</td>\n",
       "      <td>NaN</td>\n",
       "      <td>NaN</td>\n",
       "    </tr>\n",
       "    <tr>\n",
       "      <th>2</th>\n",
       "      <td>54734</td>\n",
       "      <td>23831.642293</td>\n",
       "      <td>592.878776</td>\n",
       "      <td>236.221224</td>\n",
       "      <td>0.0</td>\n",
       "      <td>829.1</td>\n",
       "      <td>829.1</td>\n",
       "      <td>NOV2009</td>\n",
       "      <td>Current</td>\n",
       "      <td>NOV2009</td>\n",
       "      <td>...</td>\n",
       "      <td>NaN</td>\n",
       "      <td>&lt; 1 year</td>\n",
       "      <td>1</td>\n",
       "      <td>B</td>\n",
       "      <td>36</td>\n",
       "      <td>735-739</td>\n",
       "      <td>785-789</td>\n",
       "      <td>09Q3</td>\n",
       "      <td>NaN</td>\n",
       "      <td>NaN</td>\n",
       "    </tr>\n",
       "    <tr>\n",
       "      <th>3</th>\n",
       "      <td>54734</td>\n",
       "      <td>23238.763518</td>\n",
       "      <td>598.755439</td>\n",
       "      <td>230.344561</td>\n",
       "      <td>0.0</td>\n",
       "      <td>829.1</td>\n",
       "      <td>829.1</td>\n",
       "      <td>DEC2009</td>\n",
       "      <td>Current</td>\n",
       "      <td>DEC2009</td>\n",
       "      <td>...</td>\n",
       "      <td>NaN</td>\n",
       "      <td>&lt; 1 year</td>\n",
       "      <td>1</td>\n",
       "      <td>B</td>\n",
       "      <td>36</td>\n",
       "      <td>735-739</td>\n",
       "      <td>780-784</td>\n",
       "      <td>09Q3</td>\n",
       "      <td>NaN</td>\n",
       "      <td>NaN</td>\n",
       "    </tr>\n",
       "    <tr>\n",
       "      <th>4</th>\n",
       "      <td>54734</td>\n",
       "      <td>22640.008078</td>\n",
       "      <td>604.690353</td>\n",
       "      <td>224.409647</td>\n",
       "      <td>0.0</td>\n",
       "      <td>829.1</td>\n",
       "      <td>829.1</td>\n",
       "      <td>JAN2010</td>\n",
       "      <td>Current</td>\n",
       "      <td>JAN2010</td>\n",
       "      <td>...</td>\n",
       "      <td>NaN</td>\n",
       "      <td>&lt; 1 year</td>\n",
       "      <td>1</td>\n",
       "      <td>B</td>\n",
       "      <td>36</td>\n",
       "      <td>735-739</td>\n",
       "      <td>800-804</td>\n",
       "      <td>09Q3</td>\n",
       "      <td>NaN</td>\n",
       "      <td>NaN</td>\n",
       "    </tr>\n",
       "  </tbody>\n",
       "</table>\n",
       "<p>5 rows × 40 columns</p>\n",
       "</div>"
      ],
      "text/plain": [
       "   LOAN_ID  PBAL_BEG_PERIOD  PRNCP_PAID    INT_PAID  FEE_PAID  DUE_AMT  \\\n",
       "0    54734     25000.000000  581.297917  247.802083       0.0    829.1   \n",
       "1    54734     24418.702083  587.059790  242.040210       0.0    829.1   \n",
       "2    54734     23831.642293  592.878776  236.221224       0.0    829.1   \n",
       "3    54734     23238.763518  598.755439  230.344561       0.0    829.1   \n",
       "4    54734     22640.008078  604.690353  224.409647       0.0    829.1   \n",
       "\n",
       "   RECEIVED_AMT RECEIVED_D PERIOD_END_LSTAT    MONTH        ...          \\\n",
       "0         829.1    SEP2009          Current  SEP2009        ...           \n",
       "1         829.1    OCT2009          Current  OCT2009        ...           \n",
       "2         829.1    NOV2009          Current  NOV2009        ...           \n",
       "3         829.1    DEC2009          Current  DEC2009        ...           \n",
       "4         829.1    JAN2010          Current  JAN2010        ...           \n",
       "\n",
       "   MonthsSinceLastRec  EmploymentLength  currentpolicy  grade  term  \\\n",
       "0                 NaN          < 1 year              1      B    36   \n",
       "1                 NaN          < 1 year              1      B    36   \n",
       "2                 NaN          < 1 year              1      B    36   \n",
       "3                 NaN          < 1 year              1      B    36   \n",
       "4                 NaN          < 1 year              1      B    36   \n",
       "\n",
       "  APPL_FICO_BAND  Last_FICO_BAND  VINTAGE PCO_RECOVERY PCO_COLLECTION_FEE  \n",
       "0        735-739         755-759     09Q3          NaN                NaN  \n",
       "1        735-739         755-759     09Q3          NaN                NaN  \n",
       "2        735-739         785-789     09Q3          NaN                NaN  \n",
       "3        735-739         780-784     09Q3          NaN                NaN  \n",
       "4        735-739         800-804     09Q3          NaN                NaN  \n",
       "\n",
       "[5 rows x 40 columns]"
      ]
     },
     "execution_count": 44,
     "metadata": {},
     "output_type": "execute_result"
    }
   ],
   "source": [
    "frame.drop(frame.columns[[0]], axis=1, inplace=True)\n",
    "frame.head()"
   ]
  },
  {
   "cell_type": "code",
   "execution_count": 45,
   "metadata": {
    "collapsed": false
   },
   "outputs": [
    {
     "data": {
      "text/plain": [
       "['LOAN_ID',\n",
       " 'PBAL_BEG_PERIOD',\n",
       " 'PRNCP_PAID',\n",
       " 'INT_PAID',\n",
       " 'FEE_PAID',\n",
       " 'DUE_AMT',\n",
       " 'RECEIVED_AMT',\n",
       " 'RECEIVED_D',\n",
       " 'PERIOD_END_LSTAT',\n",
       " 'MONTH',\n",
       " 'PBAL_END_PERIOD',\n",
       " 'MOB',\n",
       " 'CO',\n",
       " 'COAMT',\n",
       " 'InterestRate',\n",
       " 'IssuedDate',\n",
       " 'MONTHLYCONTRACTAMT',\n",
       " 'dti',\n",
       " 'State',\n",
       " 'HomeOwnership',\n",
       " 'MonthlyIncome',\n",
       " 'EarliestCREDITLine',\n",
       " 'OpenCREDITLines',\n",
       " 'TotalCREDITLines',\n",
       " 'RevolvingCREDITBalance',\n",
       " 'RevolvingLineUtilization',\n",
       " 'Inquiries6M',\n",
       " 'DQ2yrs',\n",
       " 'MonthsSinceDQ',\n",
       " 'PublicRec',\n",
       " 'MonthsSinceLastRec',\n",
       " 'EmploymentLength',\n",
       " 'currentpolicy',\n",
       " 'grade',\n",
       " 'term',\n",
       " 'APPL_FICO_BAND',\n",
       " 'Last_FICO_BAND',\n",
       " 'VINTAGE',\n",
       " 'PCO_RECOVERY',\n",
       " 'PCO_COLLECTION_FEE']"
      ]
     },
     "execution_count": 45,
     "metadata": {},
     "output_type": "execute_result"
    }
   ],
   "source": [
    "df = frame\n",
    "df.reset_index\n",
    "list(df)"
   ]
  },
  {
   "cell_type": "code",
   "execution_count": 38,
   "metadata": {
    "collapsed": false
   },
   "outputs": [
    {
     "data": {
      "text/html": [
       "<div>\n",
       "<table border=\"1\" class=\"dataframe\">\n",
       "  <thead>\n",
       "    <tr style=\"text-align: right;\">\n",
       "      <th></th>\n",
       "      <th>Unnamed: 0</th>\n",
       "      <th>LOAN_ID</th>\n",
       "      <th>PBAL_BEG_PERIOD</th>\n",
       "      <th>PRNCP_PAID</th>\n",
       "      <th>INT_PAID</th>\n",
       "      <th>FEE_PAID</th>\n",
       "      <th>DUE_AMT</th>\n",
       "      <th>RECEIVED_AMT</th>\n",
       "      <th>PBAL_END_PERIOD</th>\n",
       "      <th>MOB</th>\n",
       "    </tr>\n",
       "  </thead>\n",
       "  <tbody>\n",
       "    <tr>\n",
       "      <th>0</th>\n",
       "      <td>0</td>\n",
       "      <td>54734</td>\n",
       "      <td>25000.000000</td>\n",
       "      <td>581.297917</td>\n",
       "      <td>247.802083</td>\n",
       "      <td>0.0</td>\n",
       "      <td>829.1</td>\n",
       "      <td>829.1</td>\n",
       "      <td>24418.702083</td>\n",
       "      <td>1</td>\n",
       "    </tr>\n",
       "    <tr>\n",
       "      <th>1</th>\n",
       "      <td>1</td>\n",
       "      <td>54734</td>\n",
       "      <td>24418.702083</td>\n",
       "      <td>587.059790</td>\n",
       "      <td>242.040210</td>\n",
       "      <td>0.0</td>\n",
       "      <td>829.1</td>\n",
       "      <td>829.1</td>\n",
       "      <td>23831.642293</td>\n",
       "      <td>2</td>\n",
       "    </tr>\n",
       "    <tr>\n",
       "      <th>2</th>\n",
       "      <td>2</td>\n",
       "      <td>54734</td>\n",
       "      <td>23831.642293</td>\n",
       "      <td>592.878776</td>\n",
       "      <td>236.221224</td>\n",
       "      <td>0.0</td>\n",
       "      <td>829.1</td>\n",
       "      <td>829.1</td>\n",
       "      <td>23238.763518</td>\n",
       "      <td>3</td>\n",
       "    </tr>\n",
       "    <tr>\n",
       "      <th>3</th>\n",
       "      <td>3</td>\n",
       "      <td>54734</td>\n",
       "      <td>23238.763518</td>\n",
       "      <td>598.755439</td>\n",
       "      <td>230.344561</td>\n",
       "      <td>0.0</td>\n",
       "      <td>829.1</td>\n",
       "      <td>829.1</td>\n",
       "      <td>22640.008078</td>\n",
       "      <td>4</td>\n",
       "    </tr>\n",
       "  </tbody>\n",
       "</table>\n",
       "</div>"
      ],
      "text/plain": [
       "   Unnamed: 0  LOAN_ID  PBAL_BEG_PERIOD  PRNCP_PAID    INT_PAID  FEE_PAID  \\\n",
       "0           0    54734     25000.000000  581.297917  247.802083       0.0   \n",
       "1           1    54734     24418.702083  587.059790  242.040210       0.0   \n",
       "2           2    54734     23831.642293  592.878776  236.221224       0.0   \n",
       "3           3    54734     23238.763518  598.755439  230.344561       0.0   \n",
       "\n",
       "   DUE_AMT  RECEIVED_AMT  PBAL_END_PERIOD  MOB  \n",
       "0    829.1         829.1     24418.702083    1  \n",
       "1    829.1         829.1     23831.642293    2  \n",
       "2    829.1         829.1     23238.763518    3  \n",
       "3    829.1         829.1     22640.008078    4  "
      ]
     },
     "execution_count": 38,
     "metadata": {},
     "output_type": "execute_result"
    }
   ],
   "source": [
    "df.iloc[:4,:10]"
   ]
  },
  {
   "cell_type": "code",
   "execution_count": 13,
   "metadata": {
    "collapsed": false
   },
   "outputs": [
    {
     "data": {
      "text/html": [
       "<div>\n",
       "<table border=\"1\" class=\"dataframe\">\n",
       "  <thead>\n",
       "    <tr style=\"text-align: right;\">\n",
       "      <th></th>\n",
       "      <th>COAMT</th>\n",
       "      <th>InterestRate</th>\n",
       "      <th>MONTHLYCONTRACTAMT</th>\n",
       "      <th>dti</th>\n",
       "      <th>HomeOwnership</th>\n",
       "      <th>MonthlyIncome</th>\n",
       "      <th>EarliestCREDITLine</th>\n",
       "      <th>OpenCREDITLines</th>\n",
       "      <th>TotalCREDITLines</th>\n",
       "      <th>RevolvingCREDITBalance</th>\n",
       "      <th>RevolvingLineUtilization</th>\n",
       "    </tr>\n",
       "  </thead>\n",
       "  <tbody>\n",
       "    <tr>\n",
       "      <th>0</th>\n",
       "      <td>0.0</td>\n",
       "      <td>0.1189</td>\n",
       "      <td>829.1</td>\n",
       "      <td>19.48</td>\n",
       "      <td>RENT</td>\n",
       "      <td>7083.333333</td>\n",
       "      <td>FEB1994</td>\n",
       "      <td>10.0</td>\n",
       "      <td>42.0</td>\n",
       "      <td>28854</td>\n",
       "      <td>0.521</td>\n",
       "    </tr>\n",
       "    <tr>\n",
       "      <th>1</th>\n",
       "      <td>0.0</td>\n",
       "      <td>0.1189</td>\n",
       "      <td>829.1</td>\n",
       "      <td>19.48</td>\n",
       "      <td>RENT</td>\n",
       "      <td>7083.333333</td>\n",
       "      <td>FEB1994</td>\n",
       "      <td>10.0</td>\n",
       "      <td>42.0</td>\n",
       "      <td>28854</td>\n",
       "      <td>0.521</td>\n",
       "    </tr>\n",
       "    <tr>\n",
       "      <th>2</th>\n",
       "      <td>0.0</td>\n",
       "      <td>0.1189</td>\n",
       "      <td>829.1</td>\n",
       "      <td>19.48</td>\n",
       "      <td>RENT</td>\n",
       "      <td>7083.333333</td>\n",
       "      <td>FEB1994</td>\n",
       "      <td>10.0</td>\n",
       "      <td>42.0</td>\n",
       "      <td>28854</td>\n",
       "      <td>0.521</td>\n",
       "    </tr>\n",
       "    <tr>\n",
       "      <th>3</th>\n",
       "      <td>0.0</td>\n",
       "      <td>0.1189</td>\n",
       "      <td>829.1</td>\n",
       "      <td>19.48</td>\n",
       "      <td>RENT</td>\n",
       "      <td>7083.333333</td>\n",
       "      <td>FEB1994</td>\n",
       "      <td>10.0</td>\n",
       "      <td>42.0</td>\n",
       "      <td>28854</td>\n",
       "      <td>0.521</td>\n",
       "    </tr>\n",
       "  </tbody>\n",
       "</table>\n",
       "</div>"
      ],
      "text/plain": [
       "   COAMT  InterestRate  MONTHLYCONTRACTAMT    dti HomeOwnership  \\\n",
       "0    0.0        0.1189               829.1  19.48          RENT   \n",
       "1    0.0        0.1189               829.1  19.48          RENT   \n",
       "2    0.0        0.1189               829.1  19.48          RENT   \n",
       "3    0.0        0.1189               829.1  19.48          RENT   \n",
       "\n",
       "   MonthlyIncome EarliestCREDITLine  OpenCREDITLines  TotalCREDITLines  \\\n",
       "0    7083.333333            FEB1994             10.0              42.0   \n",
       "1    7083.333333            FEB1994             10.0              42.0   \n",
       "2    7083.333333            FEB1994             10.0              42.0   \n",
       "3    7083.333333            FEB1994             10.0              42.0   \n",
       "\n",
       "   RevolvingCREDITBalance  RevolvingLineUtilization  \n",
       "0                   28854                     0.521  \n",
       "1                   28854                     0.521  \n",
       "2                   28854                     0.521  \n",
       "3                   28854                     0.521  "
      ]
     },
     "execution_count": 13,
     "metadata": {},
     "output_type": "execute_result"
    }
   ],
   "source": [
    "df.iloc[:4,11:22]"
   ]
  },
  {
   "cell_type": "code",
   "execution_count": 40,
   "metadata": {
    "collapsed": false
   },
   "outputs": [
    {
     "data": {
      "text/html": [
       "<div>\n",
       "<table border=\"1\" class=\"dataframe\">\n",
       "  <thead>\n",
       "    <tr style=\"text-align: right;\">\n",
       "      <th></th>\n",
       "      <th>DQ2yrs</th>\n",
       "      <th>MonthsSinceDQ</th>\n",
       "      <th>PublicRec</th>\n",
       "      <th>MonthsSinceLastRec</th>\n",
       "      <th>EmploymentLength</th>\n",
       "      <th>currentpolicy</th>\n",
       "      <th>term</th>\n",
       "    </tr>\n",
       "  </thead>\n",
       "  <tbody>\n",
       "    <tr>\n",
       "      <th>0</th>\n",
       "      <td>0.0</td>\n",
       "      <td>NaN</td>\n",
       "      <td>0.0</td>\n",
       "      <td>NaN</td>\n",
       "      <td>1</td>\n",
       "      <td>1</td>\n",
       "      <td>36</td>\n",
       "    </tr>\n",
       "    <tr>\n",
       "      <th>1</th>\n",
       "      <td>0.0</td>\n",
       "      <td>NaN</td>\n",
       "      <td>0.0</td>\n",
       "      <td>NaN</td>\n",
       "      <td>1</td>\n",
       "      <td>1</td>\n",
       "      <td>36</td>\n",
       "    </tr>\n",
       "    <tr>\n",
       "      <th>2</th>\n",
       "      <td>0.0</td>\n",
       "      <td>NaN</td>\n",
       "      <td>0.0</td>\n",
       "      <td>NaN</td>\n",
       "      <td>1</td>\n",
       "      <td>1</td>\n",
       "      <td>36</td>\n",
       "    </tr>\n",
       "    <tr>\n",
       "      <th>3</th>\n",
       "      <td>0.0</td>\n",
       "      <td>NaN</td>\n",
       "      <td>0.0</td>\n",
       "      <td>NaN</td>\n",
       "      <td>1</td>\n",
       "      <td>1</td>\n",
       "      <td>36</td>\n",
       "    </tr>\n",
       "  </tbody>\n",
       "</table>\n",
       "</div>"
      ],
      "text/plain": [
       "   DQ2yrs  MonthsSinceDQ  PublicRec  MonthsSinceLastRec  EmploymentLength  \\\n",
       "0     0.0            NaN        0.0                 NaN                 1   \n",
       "1     0.0            NaN        0.0                 NaN                 1   \n",
       "2     0.0            NaN        0.0                 NaN                 1   \n",
       "3     0.0            NaN        0.0                 NaN                 1   \n",
       "\n",
       "   currentpolicy  term  \n",
       "0              1    36  \n",
       "1              1    36  \n",
       "2              1    36  \n",
       "3              1    36  "
      ]
     },
     "execution_count": 40,
     "metadata": {},
     "output_type": "execute_result"
    }
   ],
   "source": [
    "df.iloc[:4,23:30]"
   ]
  },
  {
   "cell_type": "code",
   "execution_count": 50,
   "metadata": {
    "collapsed": false
   },
   "outputs": [
    {
     "data": {
      "text/html": [
       "<div>\n",
       "<table border=\"1\" class=\"dataframe\">\n",
       "  <thead>\n",
       "    <tr style=\"text-align: right;\">\n",
       "      <th></th>\n",
       "      <th>EmploymentLength</th>\n",
       "      <th>currentpolicy</th>\n",
       "      <th>grade</th>\n",
       "      <th>term</th>\n",
       "      <th>APPL_FICO_BAND</th>\n",
       "      <th>Last_FICO_BAND</th>\n",
       "      <th>VINTAGE</th>\n",
       "      <th>PCO_RECOVERY</th>\n",
       "      <th>PCO_COLLECTION_FEE</th>\n",
       "    </tr>\n",
       "  </thead>\n",
       "  <tbody>\n",
       "    <tr>\n",
       "      <th>0</th>\n",
       "      <td>1</td>\n",
       "      <td>1</td>\n",
       "      <td>B</td>\n",
       "      <td>36</td>\n",
       "      <td>735-739</td>\n",
       "      <td>755-759</td>\n",
       "      <td>09Q3</td>\n",
       "      <td>NaN</td>\n",
       "      <td>NaN</td>\n",
       "    </tr>\n",
       "    <tr>\n",
       "      <th>1</th>\n",
       "      <td>1</td>\n",
       "      <td>1</td>\n",
       "      <td>B</td>\n",
       "      <td>36</td>\n",
       "      <td>735-739</td>\n",
       "      <td>755-759</td>\n",
       "      <td>09Q3</td>\n",
       "      <td>NaN</td>\n",
       "      <td>NaN</td>\n",
       "    </tr>\n",
       "    <tr>\n",
       "      <th>2</th>\n",
       "      <td>1</td>\n",
       "      <td>1</td>\n",
       "      <td>B</td>\n",
       "      <td>36</td>\n",
       "      <td>735-739</td>\n",
       "      <td>785-789</td>\n",
       "      <td>09Q3</td>\n",
       "      <td>NaN</td>\n",
       "      <td>NaN</td>\n",
       "    </tr>\n",
       "    <tr>\n",
       "      <th>3</th>\n",
       "      <td>1</td>\n",
       "      <td>1</td>\n",
       "      <td>B</td>\n",
       "      <td>36</td>\n",
       "      <td>735-739</td>\n",
       "      <td>780-784</td>\n",
       "      <td>09Q3</td>\n",
       "      <td>NaN</td>\n",
       "      <td>NaN</td>\n",
       "    </tr>\n",
       "  </tbody>\n",
       "</table>\n",
       "</div>"
      ],
      "text/plain": [
       "   EmploymentLength  currentpolicy grade  term APPL_FICO_BAND Last_FICO_BAND  \\\n",
       "0                 1              1     B    36        735-739        755-759   \n",
       "1                 1              1     B    36        735-739        755-759   \n",
       "2                 1              1     B    36        735-739        785-789   \n",
       "3                 1              1     B    36        735-739        780-784   \n",
       "\n",
       "  VINTAGE  PCO_RECOVERY  PCO_COLLECTION_FEE  \n",
       "0    09Q3           NaN                 NaN  \n",
       "1    09Q3           NaN                 NaN  \n",
       "2    09Q3           NaN                 NaN  \n",
       "3    09Q3           NaN                 NaN  "
      ]
     },
     "execution_count": 50,
     "metadata": {},
     "output_type": "execute_result"
    }
   ],
   "source": [
    "df.iloc[:4,31:42]"
   ]
  },
  {
   "cell_type": "code",
   "execution_count": 49,
   "metadata": {
    "collapsed": false
   },
   "outputs": [
    {
     "data": {
      "text/plain": [
       "10    643668\n",
       "1     430681\n",
       "2     250390\n",
       "3     217003\n",
       "5     209194\n",
       "4     200699\n",
       "6     157821\n",
       "7     127451\n",
       "8     100809\n",
       "9      83840\n",
       "0      78444\n",
       "Name: EmploymentLength, dtype: int64"
      ]
     },
     "execution_count": 49,
     "metadata": {},
     "output_type": "execute_result"
    }
   ],
   "source": [
    "df.EmploymentLength.value_counts()"
   ]
  },
  {
   "cell_type": "code",
   "execution_count": 48,
   "metadata": {
    "collapsed": true
   },
   "outputs": [],
   "source": [
    "df.replace('n/a', np.nan,inplace=True)\n",
    "df.EmploymentLength.fillna(value=0,inplace=True)\n",
    "df['EmploymentLength'].replace(to_replace='[^0-9]+', value='', inplace=True, regex=True)\n",
    "df['EmploymentLength'] = df['EmploymentLength'].astype(int)"
   ]
  },
  {
   "cell_type": "code",
   "execution_count": 51,
   "metadata": {
    "collapsed": false
   },
   "outputs": [
    {
     "data": {
      "text/plain": [
       "0.0     2212465\n",
       "1.0      213703\n",
       "2.0       47973\n",
       "3.0       15118\n",
       "4.0        5134\n",
       "5.0        2382\n",
       "6.0         893\n",
       "7.0         786\n",
       "8.0         218\n",
       "9.0         152\n",
       "10.0        127\n",
       "11.0        125\n",
       "13.0         37\n",
       "18.0         32\n",
       "12.0         22\n",
       "Name: DQ2yrs, dtype: int64"
      ]
     },
     "execution_count": 51,
     "metadata": {},
     "output_type": "execute_result"
    }
   ],
   "source": [
    "## Examine distribution of delinquency\n",
    "df.DQ2yrs.value_counts()"
   ]
  },
  {
   "cell_type": "code",
   "execution_count": 17,
   "metadata": {
    "collapsed": false
   },
   "outputs": [
    {
     "name": "stdout",
     "output_type": "stream",
     "text": [
      "evaluating row 0\n",
      "evaluating row 100000\n",
      "evaluating row 200000\n",
      "evaluating row 300000\n",
      "evaluating row 400000\n",
      "evaluating row 500000\n",
      "evaluating row 600000\n",
      "evaluating row 700000\n",
      "evaluating row 800000\n",
      "evaluating row 900000\n",
      "evaluating row 1000000\n",
      "evaluating row 1100000\n",
      "evaluating row 1200000\n",
      "evaluating row 1300000\n",
      "evaluating row 1400000\n",
      "evaluating row 1500000\n",
      "evaluating row 1600000\n",
      "evaluating row 1700000\n",
      "evaluating row 1800000\n",
      "evaluating row 1900000\n",
      "evaluating row 2000000\n",
      "evaluating row 2100000\n",
      "evaluating row 2200000\n",
      "evaluating row 2300000\n",
      "evaluating row 2400000\n"
     ]
    }
   ],
   "source": [
    "## Convert APPL_FICO_BAND to average\n",
    "\n",
    "n = len(df)-1\n",
    "APPL_FICO_avg = []\n",
    "for i in range(0,n):\n",
    "    if i % 100000 == 0:\n",
    "        print(\"evaluating row %d\" %i)\n",
    "    string = df.iloc[i]['APPL_FICO_BAND']\n",
    "    j = int(string.split(\" \")[0].split(\"-\")[0])\n",
    "    k = int(string.split(\"-\")[0].split(\" \")[0])\n",
    "#     APPL_low = int(string.split(\" \")[0].split(\"-\")[0])\n",
    "#     APPL_high = int(string.split(\"-\")[1].split(\" \")[0])\n",
    "    APPL_FICO_avg.append((j+k)//2)"
   ]
  },
  {
   "cell_type": "code",
   "execution_count": 88,
   "metadata": {
    "collapsed": false,
    "scrolled": false
   },
   "outputs": [
    {
     "data": {
      "text/plain": [
       "2500000"
      ]
     },
     "execution_count": 88,
     "metadata": {},
     "output_type": "execute_result"
    }
   ],
   "source": [
    "APPL_FICO_avg.insert(0,0)\n",
    "len(APPL_FICO_avg)"
   ]
  },
  {
   "cell_type": "code",
   "execution_count": 101,
   "metadata": {
    "collapsed": false
   },
   "outputs": [
    {
     "data": {
      "text/plain": [
       "[735, 735, 735, 735, 735, 735, 735, 735, 735, 735, 735, 735, 735, 735, 735]"
      ]
     },
     "execution_count": 101,
     "metadata": {},
     "output_type": "execute_result"
    }
   ],
   "source": [
    "## Check APPL_FICO_avg[10588:10600]\n",
    "APPL_FICO_avg[0:15]"
   ]
  },
  {
   "cell_type": "code",
   "execution_count": 104,
   "metadata": {
    "collapsed": false,
    "scrolled": true
   },
   "outputs": [],
   "source": [
    "## Replace appl FICO band in dataframe with average calculated above\n",
    "df['APPL_FICO_BAND'][0:n] = APPL_FICO_avg"
   ]
  },
  {
   "cell_type": "code",
   "execution_count": 105,
   "metadata": {
    "collapsed": false
   },
   "outputs": [
    {
     "data": {
      "text/plain": [
       "0     735\n",
       "1     735\n",
       "2     735\n",
       "3     735\n",
       "4     735\n",
       "5     735\n",
       "6     735\n",
       "7     735\n",
       "8     735\n",
       "9     735\n",
       "10    735\n",
       "11    735\n",
       "12    735\n",
       "13    735\n",
       "14    735\n",
       "Name: APPL_FICO_BAND, dtype: int64"
      ]
     },
     "execution_count": 105,
     "metadata": {},
     "output_type": "execute_result"
    }
   ],
   "source": [
    "df['APPL_FICO_BAND'][2499990:2500000]\n",
    "df['APPL_FICO_BAND'][0:15]"
   ]
  },
  {
   "cell_type": "code",
   "execution_count": 107,
   "metadata": {
    "collapsed": false
   },
   "outputs": [
    {
     "data": {
      "text/html": [
       "<div>\n",
       "<table border=\"1\" class=\"dataframe\">\n",
       "  <thead>\n",
       "    <tr style=\"text-align: right;\">\n",
       "      <th></th>\n",
       "      <th>EmploymentLength</th>\n",
       "      <th>currentpolicy</th>\n",
       "      <th>grade</th>\n",
       "      <th>term</th>\n",
       "      <th>APPL_FICO_BAND</th>\n",
       "      <th>Last_FICO_BAND</th>\n",
       "      <th>VINTAGE</th>\n",
       "      <th>PCO_RECOVERY</th>\n",
       "      <th>PCO_COLLECTION_FEE</th>\n",
       "    </tr>\n",
       "  </thead>\n",
       "  <tbody>\n",
       "    <tr>\n",
       "      <th>0</th>\n",
       "      <td>1</td>\n",
       "      <td>1</td>\n",
       "      <td>B</td>\n",
       "      <td>36</td>\n",
       "      <td>735</td>\n",
       "      <td>755-759</td>\n",
       "      <td>09Q3</td>\n",
       "      <td>NaN</td>\n",
       "      <td>NaN</td>\n",
       "    </tr>\n",
       "    <tr>\n",
       "      <th>1</th>\n",
       "      <td>1</td>\n",
       "      <td>1</td>\n",
       "      <td>B</td>\n",
       "      <td>36</td>\n",
       "      <td>735</td>\n",
       "      <td>755-759</td>\n",
       "      <td>09Q3</td>\n",
       "      <td>NaN</td>\n",
       "      <td>NaN</td>\n",
       "    </tr>\n",
       "    <tr>\n",
       "      <th>2</th>\n",
       "      <td>1</td>\n",
       "      <td>1</td>\n",
       "      <td>B</td>\n",
       "      <td>36</td>\n",
       "      <td>735</td>\n",
       "      <td>785-789</td>\n",
       "      <td>09Q3</td>\n",
       "      <td>NaN</td>\n",
       "      <td>NaN</td>\n",
       "    </tr>\n",
       "    <tr>\n",
       "      <th>3</th>\n",
       "      <td>1</td>\n",
       "      <td>1</td>\n",
       "      <td>B</td>\n",
       "      <td>36</td>\n",
       "      <td>735</td>\n",
       "      <td>780-784</td>\n",
       "      <td>09Q3</td>\n",
       "      <td>NaN</td>\n",
       "      <td>NaN</td>\n",
       "    </tr>\n",
       "    <tr>\n",
       "      <th>4</th>\n",
       "      <td>1</td>\n",
       "      <td>1</td>\n",
       "      <td>B</td>\n",
       "      <td>36</td>\n",
       "      <td>735</td>\n",
       "      <td>800-804</td>\n",
       "      <td>09Q3</td>\n",
       "      <td>NaN</td>\n",
       "      <td>NaN</td>\n",
       "    </tr>\n",
       "    <tr>\n",
       "      <th>5</th>\n",
       "      <td>1</td>\n",
       "      <td>1</td>\n",
       "      <td>B</td>\n",
       "      <td>36</td>\n",
       "      <td>735</td>\n",
       "      <td>745-749</td>\n",
       "      <td>09Q3</td>\n",
       "      <td>NaN</td>\n",
       "      <td>NaN</td>\n",
       "    </tr>\n",
       "    <tr>\n",
       "      <th>6</th>\n",
       "      <td>1</td>\n",
       "      <td>1</td>\n",
       "      <td>B</td>\n",
       "      <td>36</td>\n",
       "      <td>735</td>\n",
       "      <td>745-749</td>\n",
       "      <td>09Q3</td>\n",
       "      <td>NaN</td>\n",
       "      <td>NaN</td>\n",
       "    </tr>\n",
       "    <tr>\n",
       "      <th>7</th>\n",
       "      <td>1</td>\n",
       "      <td>1</td>\n",
       "      <td>B</td>\n",
       "      <td>36</td>\n",
       "      <td>735</td>\n",
       "      <td>745-749</td>\n",
       "      <td>09Q3</td>\n",
       "      <td>NaN</td>\n",
       "      <td>NaN</td>\n",
       "    </tr>\n",
       "    <tr>\n",
       "      <th>8</th>\n",
       "      <td>1</td>\n",
       "      <td>1</td>\n",
       "      <td>B</td>\n",
       "      <td>36</td>\n",
       "      <td>735</td>\n",
       "      <td>745-749</td>\n",
       "      <td>09Q3</td>\n",
       "      <td>NaN</td>\n",
       "      <td>NaN</td>\n",
       "    </tr>\n",
       "    <tr>\n",
       "      <th>9</th>\n",
       "      <td>1</td>\n",
       "      <td>1</td>\n",
       "      <td>B</td>\n",
       "      <td>36</td>\n",
       "      <td>735</td>\n",
       "      <td>775-779</td>\n",
       "      <td>09Q3</td>\n",
       "      <td>NaN</td>\n",
       "      <td>NaN</td>\n",
       "    </tr>\n",
       "    <tr>\n",
       "      <th>10</th>\n",
       "      <td>1</td>\n",
       "      <td>1</td>\n",
       "      <td>B</td>\n",
       "      <td>36</td>\n",
       "      <td>735</td>\n",
       "      <td>785-789</td>\n",
       "      <td>09Q3</td>\n",
       "      <td>NaN</td>\n",
       "      <td>NaN</td>\n",
       "    </tr>\n",
       "    <tr>\n",
       "      <th>11</th>\n",
       "      <td>1</td>\n",
       "      <td>1</td>\n",
       "      <td>B</td>\n",
       "      <td>36</td>\n",
       "      <td>735</td>\n",
       "      <td>775-779</td>\n",
       "      <td>09Q3</td>\n",
       "      <td>NaN</td>\n",
       "      <td>NaN</td>\n",
       "    </tr>\n",
       "    <tr>\n",
       "      <th>12</th>\n",
       "      <td>1</td>\n",
       "      <td>1</td>\n",
       "      <td>B</td>\n",
       "      <td>36</td>\n",
       "      <td>735</td>\n",
       "      <td>790-794</td>\n",
       "      <td>09Q3</td>\n",
       "      <td>NaN</td>\n",
       "      <td>NaN</td>\n",
       "    </tr>\n",
       "    <tr>\n",
       "      <th>13</th>\n",
       "      <td>1</td>\n",
       "      <td>1</td>\n",
       "      <td>B</td>\n",
       "      <td>36</td>\n",
       "      <td>735</td>\n",
       "      <td>760-764</td>\n",
       "      <td>09Q3</td>\n",
       "      <td>NaN</td>\n",
       "      <td>NaN</td>\n",
       "    </tr>\n",
       "    <tr>\n",
       "      <th>14</th>\n",
       "      <td>1</td>\n",
       "      <td>1</td>\n",
       "      <td>B</td>\n",
       "      <td>36</td>\n",
       "      <td>735</td>\n",
       "      <td>755-759</td>\n",
       "      <td>09Q3</td>\n",
       "      <td>NaN</td>\n",
       "      <td>NaN</td>\n",
       "    </tr>\n",
       "  </tbody>\n",
       "</table>\n",
       "</div>"
      ],
      "text/plain": [
       "    EmploymentLength  currentpolicy grade  term  APPL_FICO_BAND  \\\n",
       "0                  1              1     B    36             735   \n",
       "1                  1              1     B    36             735   \n",
       "2                  1              1     B    36             735   \n",
       "3                  1              1     B    36             735   \n",
       "4                  1              1     B    36             735   \n",
       "5                  1              1     B    36             735   \n",
       "6                  1              1     B    36             735   \n",
       "7                  1              1     B    36             735   \n",
       "8                  1              1     B    36             735   \n",
       "9                  1              1     B    36             735   \n",
       "10                 1              1     B    36             735   \n",
       "11                 1              1     B    36             735   \n",
       "12                 1              1     B    36             735   \n",
       "13                 1              1     B    36             735   \n",
       "14                 1              1     B    36             735   \n",
       "\n",
       "   Last_FICO_BAND VINTAGE  PCO_RECOVERY  PCO_COLLECTION_FEE  \n",
       "0         755-759    09Q3           NaN                 NaN  \n",
       "1         755-759    09Q3           NaN                 NaN  \n",
       "2         785-789    09Q3           NaN                 NaN  \n",
       "3         780-784    09Q3           NaN                 NaN  \n",
       "4         800-804    09Q3           NaN                 NaN  \n",
       "5         745-749    09Q3           NaN                 NaN  \n",
       "6         745-749    09Q3           NaN                 NaN  \n",
       "7         745-749    09Q3           NaN                 NaN  \n",
       "8         745-749    09Q3           NaN                 NaN  \n",
       "9         775-779    09Q3           NaN                 NaN  \n",
       "10        785-789    09Q3           NaN                 NaN  \n",
       "11        775-779    09Q3           NaN                 NaN  \n",
       "12        790-794    09Q3           NaN                 NaN  \n",
       "13        760-764    09Q3           NaN                 NaN  \n",
       "14        755-759    09Q3           NaN                 NaN  "
      ]
     },
     "execution_count": 107,
     "metadata": {},
     "output_type": "execute_result"
    }
   ],
   "source": [
    "df.iloc[:15,31:42]"
   ]
  },
  {
   "cell_type": "code",
   "execution_count": 29,
   "metadata": {
    "collapsed": false
   },
   "outputs": [
    {
     "name": "stdout",
     "output_type": "stream",
     "text": [
      "Counter({'690-694': 108070, '695-699': 106841, '700-704': 104151, '705-709': 101481, '685-689': 100710, '680-684': 100073, '710-714': 92929, '715-719': 91535, '675-679': 88671, '720-724': 86016, '670-674': 83270, '725-729': 76641, '730-734': 72321, '665-669': 71772, '735-739': 63763, '660-664': 62803, '740-744': 60198, '750-754': 51910, '745-749': 51862, '655-659': 51756, '755-759': 46932, 'MISSING': 45934, '650-654': 43801, '760-764': 42303, '765-769': 40318, '645-649': 38579, '770-774': 35637, '775-779': 34819, '640-644': 33304, '780-784': 31216, '635-639': 28111, '630-634': 26081, '785-789': 25182, '790-794': 24538, '625-629': 22805, '620-624': 21831, '795-799': 20801, '615-619': 18701, '610-614': 17644, '800-804': 17610, 'LOW-499': 15645, '605-609': 15522, '600-604': 14696, '805-809': 14089, '590-594': 13283, '595-599': 13209, '580-584': 11769, '585-589': 11611, '570-574': 10468, '810-814': 10391, '575-579': 10278, '565-569': 9455, '560-564': 9299, '815-819': 8719, '555-559': 8595, '550-554': 8392, '545-549': 7675, '540-544': 7601, '535-539': 6878, '530-534': 6306, '820-824': 5926, '525-529': 5787, '520-524': 5658, '515-519': 4811, '510-514': 4493, '825-829': 4317, '505-509': 3782, '500-504': 3499, '830-834': 2606, '835-839': 1323, '840-844': 771, '845-HIGH': 226})\n"
     ]
    }
   ],
   "source": [
    "## Count occurrences of every potential value of Last_FICO_BAND, note that some are \"MISSING\"\n",
    "\n",
    "import collections\n",
    "print(collections.Counter(line.rstrip().rpartition('    ')[-1] for line in df.Last_FICO_BAND))"
   ]
  },
  {
   "cell_type": "code",
   "execution_count": 109,
   "metadata": {
    "collapsed": false
   },
   "outputs": [
    {
     "data": {
      "text/plain": [
       "[755,\n",
       " 755,\n",
       " 785,\n",
       " 780,\n",
       " 800,\n",
       " 745,\n",
       " 745,\n",
       " 745,\n",
       " 745,\n",
       " 775,\n",
       " 785,\n",
       " 775,\n",
       " 790,\n",
       " 760,\n",
       " 755,\n",
       " 755,\n",
       " 755,\n",
       " 775,\n",
       " 765,\n",
       " 765]"
      ]
     },
     "execution_count": 109,
     "metadata": {},
     "output_type": "execute_result"
    }
   ],
   "source": [
    "## Convert Last_FICO_BAND to average\n",
    "\n",
    "n = len(df)-1\n",
    "Last_FICO_avg = []\n",
    "for i in range(0,2500):\n",
    "#     if i % 100000 == 0:\n",
    "#         print(\"evaluating row %d\" %i)\n",
    "    string = df.iloc[i]['Last_FICO_BAND']\n",
    "    if string == 'MISSING':\n",
    "        Last_FICO_avg.append(0)\n",
    "    j = int(string.split(\" \")[0].split(\"-\")[0])\n",
    "    k = int(string.split(\"-\")[0].split(\" \")[0])\n",
    "    if j == 'LOW':\n",
    "        j == 300\n",
    "    if k == 'HIGH':\n",
    "        k == 850\n",
    "    Last_FICO_avg.append((j+k)//2)\n",
    "Last_FICO_avg"
   ]
  },
  {
   "cell_type": "code",
   "execution_count": 31,
   "metadata": {
    "collapsed": false
   },
   "outputs": [],
   "source": [
    "## Drop Last_FICO since it is messy data with many missing\n",
    "# df.drop('Last_FICO_BAND', axis=1, inplace=True)"
   ]
  },
  {
   "cell_type": "code",
   "execution_count": null,
   "metadata": {
    "collapsed": false
   },
   "outputs": [],
   "source": []
  },
  {
   "cell_type": "code",
   "execution_count": null,
   "metadata": {
    "collapsed": false,
    "scrolled": true
   },
   "outputs": [],
   "source": []
  },
  {
   "cell_type": "code",
   "execution_count": null,
   "metadata": {
    "collapsed": true
   },
   "outputs": [],
   "source": [
    "## Convert Earliest Credit Line to number of years\n",
    "from datetime import datetime\n",
    "\n",
    "datetime.datetime.strptime(EarliestCREDITLine, format1).strftime(format2)\n",
    "\n",
    "\n",
    "# df.EarliestCREDITLine = pd.to_datetime(df.EarliestCREDITLine)\n",
    "# dttoday = datetime.now().strftime('%Y-%m-%d')\n",
    "# # There is a better way to do this :) \n",
    "# df.EarliestCREDITLine = df.EarliestCREDITLine.apply(lambda x: (\n",
    "#         np.timedelta64((x - pd.Timestamp(dttoday)),'D').astype(int))/-365)\n",
    "# df.EarliestCREDITLine.head()"
   ]
  },
  {
   "cell_type": "code",
   "execution_count": 54,
   "metadata": {
    "collapsed": false
   },
   "outputs": [
    {
     "data": {
      "text/plain": [
       "0   1994-02-01\n",
       "1   1994-02-01\n",
       "2   1994-02-01\n",
       "3   1994-02-01\n",
       "4   1994-02-01\n",
       "Name: EarliestCREDITLine, dtype: datetime64[ns]"
      ]
     },
     "execution_count": 54,
     "metadata": {},
     "output_type": "execute_result"
    }
   ],
   "source": [
    "df.iloc[0:5]['EarliestCREDITLine']"
   ]
  },
  {
   "cell_type": "code",
   "execution_count": 13,
   "metadata": {
    "collapsed": false,
    "scrolled": true
   },
   "outputs": [
    {
     "data": {
      "text/html": [
       "<div>\n",
       "<table border=\"1\" class=\"dataframe\">\n",
       "  <thead>\n",
       "    <tr style=\"text-align: right;\">\n",
       "      <th></th>\n",
       "      <th>RevolvingLineUtilization</th>\n",
       "      <th>Inquiries6M</th>\n",
       "      <th>DQ2yrs</th>\n",
       "      <th>MonthsSinceDQ</th>\n",
       "      <th>PublicRec</th>\n",
       "      <th>MonthsSinceLastRec</th>\n",
       "      <th>EmploymentLength</th>\n",
       "      <th>currentpolicy</th>\n",
       "      <th>grade</th>\n",
       "    </tr>\n",
       "  </thead>\n",
       "  <tbody>\n",
       "    <tr>\n",
       "      <th>0</th>\n",
       "      <td>0.521</td>\n",
       "      <td>0.0</td>\n",
       "      <td>0.0</td>\n",
       "      <td>NaN</td>\n",
       "      <td>0</td>\n",
       "      <td>NaN</td>\n",
       "      <td>&lt; 1 year</td>\n",
       "      <td>1</td>\n",
       "      <td>B</td>\n",
       "    </tr>\n",
       "    <tr>\n",
       "      <th>1</th>\n",
       "      <td>0.521</td>\n",
       "      <td>0.0</td>\n",
       "      <td>0.0</td>\n",
       "      <td>NaN</td>\n",
       "      <td>0</td>\n",
       "      <td>NaN</td>\n",
       "      <td>&lt; 1 year</td>\n",
       "      <td>1</td>\n",
       "      <td>B</td>\n",
       "    </tr>\n",
       "    <tr>\n",
       "      <th>2</th>\n",
       "      <td>0.521</td>\n",
       "      <td>0.0</td>\n",
       "      <td>0.0</td>\n",
       "      <td>NaN</td>\n",
       "      <td>0</td>\n",
       "      <td>NaN</td>\n",
       "      <td>&lt; 1 year</td>\n",
       "      <td>1</td>\n",
       "      <td>B</td>\n",
       "    </tr>\n",
       "    <tr>\n",
       "      <th>3</th>\n",
       "      <td>0.521</td>\n",
       "      <td>0.0</td>\n",
       "      <td>0.0</td>\n",
       "      <td>NaN</td>\n",
       "      <td>0</td>\n",
       "      <td>NaN</td>\n",
       "      <td>&lt; 1 year</td>\n",
       "      <td>1</td>\n",
       "      <td>B</td>\n",
       "    </tr>\n",
       "  </tbody>\n",
       "</table>\n",
       "</div>"
      ],
      "text/plain": [
       "   RevolvingLineUtilization  Inquiries6M  DQ2yrs  MonthsSinceDQ PublicRec  \\\n",
       "0                     0.521          0.0     0.0            NaN         0   \n",
       "1                     0.521          0.0     0.0            NaN         0   \n",
       "2                     0.521          0.0     0.0            NaN         0   \n",
       "3                     0.521          0.0     0.0            NaN         0   \n",
       "\n",
       "   MonthsSinceLastRec EmploymentLength  currentpolicy grade  \n",
       "0                 NaN         < 1 year              1     B  \n",
       "1                 NaN         < 1 year              1     B  \n",
       "2                 NaN         < 1 year              1     B  \n",
       "3                 NaN         < 1 year              1     B  "
      ]
     },
     "execution_count": 13,
     "metadata": {},
     "output_type": "execute_result"
    }
   ],
   "source": [
    "RECEIVED_D\n",
    "IssuedDate"
   ]
  },
  {
   "cell_type": "code",
   "execution_count": 36,
   "metadata": {
    "collapsed": false
   },
   "outputs": [
    {
     "name": "stderr",
     "output_type": "stream",
     "text": [
      "/Users/Greer/anaconda3/lib/python3.5/site-packages/numpy/lib/arraysetops.py:379: FutureWarning: elementwise comparison failed; returning scalar instead, but in the future will perform elementwise comparison\n",
      "  mask |= (ar1 == a)\n"
     ]
    }
   ],
   "source": [
    "## Drop some string vars\n",
    "df.drop(['RECEIVED_D', 'PERIOD_END_LSTAT', 'MONTH', 'IssuedDate', 'State', 'VINTAGE', 'grade'], axis=1, inplace=True)"
   ]
  },
  {
   "cell_type": "code",
   "execution_count": null,
   "metadata": {
    "collapsed": true
   },
   "outputs": [],
   "source": [
    "## Fill in NaN in any existing place\n",
    "df.fillna(0.0,inplace=True)\n",
    "df.fillna(0,inplace=True)"
   ]
  },
  {
   "cell_type": "code",
   "execution_count": 29,
   "metadata": {
    "collapsed": false
   },
   "outputs": [
    {
     "data": {
      "text/plain": [
       "4"
      ]
     },
     "execution_count": 29,
     "metadata": {},
     "output_type": "execute_result"
    }
   ],
   "source": [
    "df.to_csv(\"LC_subset.csv\")"
   ]
  }
 ],
 "metadata": {
  "anaconda-cloud": {},
  "kernelspec": {
   "display_name": "Python [default]",
   "language": "python",
   "name": "python3"
  },
  "language_info": {
   "codemirror_mode": {
    "name": "ipython",
    "version": 3
   },
   "file_extension": ".py",
   "mimetype": "text/x-python",
   "name": "python",
   "nbconvert_exporter": "python",
   "pygments_lexer": "ipython3",
   "version": "3.5.2"
  }
 },
 "nbformat": 4,
 "nbformat_minor": 1
}
